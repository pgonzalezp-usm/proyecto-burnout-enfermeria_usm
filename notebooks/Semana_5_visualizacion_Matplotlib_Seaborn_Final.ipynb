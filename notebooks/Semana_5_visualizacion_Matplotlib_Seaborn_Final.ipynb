{
  "cells": [
    {
      "cell_type": "markdown",
      "source": [
        "# **Semana 5 Introducción a la programación con Python**"
      ],
      "metadata": {
        "id": "WAarHiPm0THF"
      },
      "id": "WAarHiPm0THF"
    },
    {
      "cell_type": "markdown",
      "id": "17fc4fc6",
      "metadata": {
        "id": "17fc4fc6"
      },
      "source": [
        "\n",
        "## Visualización de Datos: Exploración Inicial\n",
        "\n",
        "Antes de aprender a usar librerías como **Matplotlib** y **Seaborn**, es útil conocer los **tipos de gráficos** que existen y **cuándo usarlos**. Esto te permitirá elegir la mejor herramienta para visualizar tus datos, dependiendo del tipo de variable y del objetivo del análisis.\n",
        "\n",
        "En esta primera parte, usaremos directamente pandas y Matplotlib para crear distintos tipos de gráficos y reflexionar sobre sus usos.\n"
      ]
    },
    {
      "cell_type": "code",
      "execution_count": null,
      "id": "0dc9a4a0",
      "metadata": {
        "id": "0dc9a4a0"
      },
      "outputs": [],
      "source": [
        "# Importamos las librerías necesarias:\n",
        "# - pandas: para cargar y manipular datos\n",
        "# - matplotlib.pyplot: para crear visualizaciones básicas\n",
        "# - seaborn: para visualizaciones estadísticas más avanzadas\n",
        "import pandas as pd\n",
        "import matplotlib.pyplot as plt\n",
        "import seaborn as sns\n",
        "# Esta línea mágica permite que los gráficos de Matplotlib se muestren directamente dentro del notebook.\n",
        "# Aunque en Google Colab suele estar activada por defecto, es buena práctica incluirla.\n",
        "%matplotlib inline\n",
        "\n",
        "# Cargamos el conjunto de datos desde una URL pública.\n",
        "# Este dataset contiene información sobre consumo de combustible y emisiones de CO2\n",
        "# para vehículos ligeros vendidos en Canadá.\n",
        "url = \"https://cf-courses-data.s3.us.cloud-object-storage.appdomain.cloud/IBMDeveloperSkillsNetwork-ML0101EN-SkillsNetwork/labs/Module%202/data/FuelConsumptionCo2.csv\"\n",
        "\n",
        "\n"
      ]
    },
    {
      "cell_type": "markdown",
      "source": [
        "## Veamos algo descriptivo ##"
      ],
      "metadata": {
        "id": "Ha2-wPwMkgQU"
      },
      "id": "Ha2-wPwMkgQU"
    },
    {
      "cell_type": "code",
      "source": [
        "# Usamos pandas para leer el archivo CSV y almacenarlo en un DataFrame llamado df\n",
        "df = pd.read_csv(url)\n",
        "\n",
        "# Mostramos las primeras 5 filas del DataFrame para tener una idea general del contenido\n",
        "df.head()\n",
        "\n",
        "# Mostramos un resumen estadístico de las variables numéricas del DataFrame\n",
        "df.describe()\n",
        "# El método describe() genera un resumen estadístico de las columnas numéricas del conjunto de datos. Esto incluye:\n",
        "# count: cuántos valores no nulos hay por columna.\n",
        "# mean: el promedio de los valores.\n",
        "# std: la desviación estándar (mide cuán dispersos están los datos respecto del promedio).\n",
        "# min y max: el valor mínimo y máximo encontrados.\n",
        "# 25%, 50%, 75%: los percentiles (cuartiles), útiles para entender la distribución de los datos.\n",
        "# Es muy útil para tener una primera visión general del conjunto de datos,\n",
        "# identificar posibles valores extremos y entender la escala de las variables antes de analizarlas más a fondo.\n"
      ],
      "metadata": {
        "id": "eOhKRUVtkyaX"
      },
      "id": "eOhKRUVtkyaX",
      "execution_count": null,
      "outputs": []
    },
    {
      "cell_type": "markdown",
      "id": "bddd99bd",
      "metadata": {
        "id": "bddd99bd"
      },
      "source": [
        "\n",
        "## Comprendiendo el conjunto de datos: FuelConsumption.csv\n",
        "\n",
        "Utilizaremos un conjunto de datos llamado `FuelConsumption.csv`, que contiene información sobre el consumo de combustible y emisiones de dióxido de carbono (CO2) de vehículos livianos nuevos disponibles para la venta al por menor en Canadá.\n",
        "\n",
        "### Columnas del conjunto de datos:\n",
        "\n",
        "- **MODEL YEAR**: Año del modelo, por ejemplo, 2014\n",
        "- **MAKE**: Marca del vehículo, por ejemplo, VOLVO\n",
        "- **MODEL**: Modelo del vehículo, por ejemplo, S60 AWD\n",
        "- **VEHICLE CLASS**: Clase del vehículo, por ejemplo, COMPACT\n",
        "- **ENGINE SIZE**: Tamaño del motor en litros, por ejemplo, 3.0\n",
        "- **CYLINDERS**: Número de cilindros, por ejemplo, 6\n",
        "- **TRANSMISSION**: Tipo de transmisión, por ejemplo, AS6\n",
        "- **FUEL TYPE**: Tipo de combustible, por ejemplo, Z\n",
        "- **FUEL CONSUMPTION in CITY (L/100 km)**: Consumo de combustible en ciudad, por ejemplo, 13.2\n",
        "- **FUEL CONSUMPTION in HWY (L/100 km)**: Consumo de combustible en carretera, por ejemplo, 9.5\n",
        "- **FUEL CONSUMPTION COMBINED (L/100 km)**: Consumo combinado de combustible, por ejemplo, 11.5\n",
        "- **FUEL CONSUMPTION COMBINED MPG (MPG)**: Millas por galón, por ejemplo, 25\n",
        "- **CO2 EMISSIONS (g/km)**: Emisiones de CO2, por ejemplo, 182\n",
        "\n",
        "---\n",
        "\n",
        "### Objetivo:\n",
        "\n",
        "A lo largo del cuaderno trabajaremos con visualizaciones como paso previo a un modelo de regresión lineal."
      ]
    },
    {
      "cell_type": "code",
      "execution_count": null,
      "id": "23aa3f88",
      "metadata": {
        "id": "23aa3f88"
      },
      "outputs": [],
      "source": [
        "# Creamos un histograma de la variable CO2EMISSIONS, que muestra la distribución de las emisiones de CO2\n",
        "plt.hist(df['CO2EMISSIONS'], bins=30, color='steelblue', edgecolor='black')\n",
        "\n",
        "# Título del gráfico\n",
        "plt.title(\"Histograma de Emisiones de CO2\")\n",
        "\n",
        "# Etiqueta del eje X (valores de emisiones en gramos por kilómetro)\n",
        "plt.xlabel(\"CO2 (g/km)\")\n",
        "\n",
        "# Etiqueta del eje Y (cantidad de vehículos con ese rango de emisiones)\n",
        "plt.ylabel(\"Cantidad de vehículos\")\n",
        "\n",
        "# Mostramos el gráfico\n",
        "plt.show()\n",
        "\n",
        "# Este histograma nos permite ver cómo se distribuyen las emisiones de CO₂ en el conjunto de datos.\n",
        "# El parámetro bins=30 divide el rango de valores en 30 grupos (o barras).\n",
        "# Los ejes indican cuántos vehículos caen en cada rango de emisiones.\n",
        "# Nos ayuda a identificar si la mayoría de los vehículos emiten poco, mucho o están distribuidos uniformemente."
      ]
    },
    {
      "cell_type": "code",
      "source": [
        "# Seleccionamos solo algunas columnas del DataFrame original para enfocarnos en las variables que más nos interesan\n",
        "cdf = df[['ENGINESIZE', 'CYLINDERS', 'FUELCONSUMPTION_COMB', 'CO2EMISSIONS']]\n",
        "\n",
        "# Mostramos una muestra aleatoria de 9 filas del nuevo DataFrame cdf\n",
        "cdf.sample(9)\n",
        "\n",
        "# La variable cdf contiene un subconjunto del DataFrame original df,\n",
        "# en el que seleccionamos solo las columnas que podrían tener una relación directa con las emisiones de CO2:\n",
        "# ENGINESIZE: tamaño del motor (en litros).\n",
        "# CYLINDERS: número de cilindros del motor.\n",
        "# FUELCONSUMPTION_COMB: consumo de combustible combinado (ciudad y carretera).\n",
        "# CO2EMISSIONS: emisiones de dióxido de carbono (g/km).\n",
        "# sample(9) permite ver una selección aleatoria de 9 registros del DataFrame cdf.\n",
        "# Esto es útil para explorar diferentes casos del conjunto de datos sin mostrarlo todo."
      ],
      "metadata": {
        "id": "XBRFbaF1lcHd"
      },
      "id": "XBRFbaF1lcHd",
      "execution_count": null,
      "outputs": []
    },
    {
      "cell_type": "code",
      "source": [],
      "metadata": {
        "id": "gTPavm6VlGDs"
      },
      "id": "gTPavm6VlGDs",
      "execution_count": null,
      "outputs": []
    },
    {
      "cell_type": "markdown",
      "id": "2278f83c",
      "metadata": {
        "id": "2278f83c"
      },
      "source": [
        "\n",
        "## ¿Por qué usar Matplotlib o Seaborn? Comparación, ventajas y contexto\n",
        "\n",
        "Cuando trabajamos con datos en Python, **visualizarlos correctamente es una parte esencial del análisis exploratorio**. Las dos librerías más comunes para esto son **Matplotlib** y **Seaborn**. Aunque ambas se usan para crear gráficos, tienen características distintas que las hacen más apropiadas para diferentes situaciones.\n",
        "\n",
        "### 📊 Matplotlib\n",
        "- Es la **librería base** para visualización en Python.\n",
        "- Proporciona **control completo sobre cada elemento del gráfico**.\n",
        "- Ideal cuando necesitas crear gráficos altamente personalizados.\n",
        "- Tiene una **sintaxis más detallada** y puede ser menos intuitiva para principiantes.\n",
        "\n",
        "**Ventajas:**\n",
        "- Muy flexible.\n",
        "- Compatible con muchas otras librerías.\n",
        "\n",
        "**Desventajas:**\n",
        "- Mayor cantidad de código para tareas simples.\n",
        "- Estética básica por defecto (aunque se puede personalizar).\n",
        "\n",
        "### 📈 Seaborn\n",
        "- Construida sobre Matplotlib, ofrece una **sintaxis más sencilla**.\n",
        "- Viene con **estilos visuales elegantes y colores automáticos**.\n",
        "- Ideal para **análisis estadístico rápido y limpio**.\n",
        "\n",
        "**Ventajas:**\n",
        "- Menos líneas de código para gráficos complejos.\n",
        "- Muy buena para visualizaciones estadísticas (distribuciones, correlaciones, mapas de calor).\n",
        "\n",
        "**Desventajas:**\n",
        "- Menos flexible si quieres personalizar cada detalle del gráfico.\n",
        "- Depende de Matplotlib, así que no la reemplaza completamente.\n",
        "\n",
        "### 🤔 ¿Cuál deberías usar?\n",
        "- Si estás comenzando y quieres ver relaciones entre variables rápidamente: **Seaborn**.\n",
        "- Si necesitas controlar la posición exacta, el color, estilo o ejes personalizados: **Matplotlib**.\n",
        "- En general, se pueden usar **complementariamente**, como haremos en este cuaderno.\n"
      ]
    },
    {
      "cell_type": "code",
      "execution_count": null,
      "id": "9bb48363",
      "metadata": {
        "id": "9bb48363"
      },
      "outputs": [],
      "source": [
        "# Crear histogramas de algunas variables para observar su distribución\n",
        "# Esto nos permite conocer la forma de los datos antes de aplicar modelos\n",
        "features = ['CYLINDERS','ENGINESIZE','FUELCONSUMPTION_COMB','CO2EMISSIONS']\n",
        "df[features].hist(figsize=(10,8))\n",
        "plt.suptitle('Distribución de Variables Numéricas')\n",
        "plt.show()"
      ]
    },
    {
      "cell_type": "code",
      "execution_count": null,
      "id": "ddac7e9c",
      "metadata": {
        "id": "ddac7e9c"
      },
      "outputs": [],
      "source": [
        "# Importamos la librería de visualización matplotlib\n",
        "import matplotlib.pyplot as plt\n",
        "\n",
        "# Creamos un gráfico de dispersión (scatter plot) con las siguientes configuraciones:\n",
        "# - df.FUELCONSUMPTION_COMB: valores del eje X (consumo combinado de combustible)\n",
        "# - df.CO2EMISSIONS: valores del eje Y (emisiones de CO2)\n",
        "# - color='blue': define el color de los puntos en el gráfico\n",
        "# - alpha=0.5: define la opacidad de los puntos (0 totalmente transparente, 1 totalmente opaco)\n",
        "#   Usar una alpha más baja permite ver mejor la concentración de puntos cuando hay muchos datos.\n",
        "plt.scatter(df.FUELCONSUMPTION_COMB, df.CO2EMISSIONS, color='blue', alpha=0.5)\n",
        "\n",
        "# Etiquetamos el eje X para indicar que representa el consumo de combustible en condiciones combinadas.\n",
        "plt.xlabel('Consumo combinado (L/100 km)')\n",
        "\n",
        "# Etiquetamos el eje Y para indicar que representa las emisiones de dióxido de carbono por kilómetro.\n",
        "plt.ylabel('Emisiones de CO2 (g/km)')\n",
        "\n",
        "# Agregamos un título descriptivo para que el gráfico tenga contexto sin necesidad de explicación adicional.\n",
        "plt.title('Relación entre Consumo y Emisiones')\n",
        "\n",
        "# Agregamos una cuadrícula de fondo para facilitar la lectura de los valores de los ejes y mejorar la interpretación.\n",
        "plt.grid(True)\n",
        "\n",
        "# Finalmente, renderizamos y mostramos el gráfico en pantalla.\n",
        "plt.show()\n",
        "\n"
      ]
    },
    {
      "cell_type": "code",
      "execution_count": null,
      "id": "d1b9ef66",
      "metadata": {
        "id": "d1b9ef66"
      },
      "outputs": [],
      "source": [
        "# Usamos seaborn para crear un gráfico de pares (pairplot), que genera una matriz de gráficos\n",
        "# donde cada celda representa una comparación entre dos variables numéricas.\n",
        "\n",
        "# Este tipo de visualización es útil para:\n",
        "# - Detectar relaciones lineales o no lineales entre variables.\n",
        "# - Identificar posibles correlaciones visuales.\n",
        "# - Observar patrones, agrupamientos o valores atípicos.\n",
        "# - Tener una visión general del comportamiento conjunto de todas las variables numéricas seleccionadas.\n",
        "\n",
        "# df[features] contiene las columnas que seleccionamos previamente como relevantes.\n",
        "# kind='scatter' indica que queremos usar diagramas de dispersión en cada celda de comparación.\n",
        "# plot_kws={'alpha': 0.4} configura la transparencia de los puntos para que, cuando hay muchos puntos superpuestos,\n",
        "# sea más fácil distinguir las áreas de mayor densidad (zonas con más datos agrupados).\n",
        "\n",
        "sns.pairplot(df[features], kind='scatter', plot_kws={'alpha': 0.4})\n",
        "\n",
        "# Agregamos un título general al conjunto de gráficos con plt.suptitle().\n",
        "# El argumento y=1.02 eleva un poco el título por encima de la figura para que no se sobreponga con los gráficos.\n",
        "plt.suptitle('Relaciones entre Variables', y=1.02)\n",
        "\n",
        "# Finalmente, mostramos en pantalla la matriz de gráficos generada.\n",
        "plt.show()\n",
        "\n",
        "# Si vemos una tendencia clara (por ejemplo, una nube de puntos con pendiente ascendente),\n",
        "# eso sugiere una posible correlación positiva entre esas variables. E\n",
        "# Esto es muy útil antes de aplicar modelos como la regresión.\n"
      ]
    },
    {
      "cell_type": "code",
      "execution_count": null,
      "id": "48b1a6f6",
      "metadata": {
        "id": "48b1a6f6"
      },
      "outputs": [],
      "source": [
        "# Usamos seaborn para crear un gráfico de dispersión con una línea de regresión lineal ajustada automáticamente.\n",
        "# Este tipo de gráfico es útil para identificar relaciones lineales entre dos variables numéricas.\n",
        "# En el eje x colocamos el tamaño del motor (ENGINESIZE) y en el eje y las emisiones de CO2.\n",
        "# 'scatter_kws' permite ajustar detalles del gráfico de dispersión, en este caso la transparencia de los puntos.\n",
        "sns.lmplot(x='ENGINESIZE', y='CO2EMISSIONS', data=df, scatter_kws={'alpha': 0.3})\n",
        "\n",
        "# Agregamos un título descriptivo al gráfico\n",
        "plt.title('Regresión Lineal entre Tamaño del Motor y Emisiones')\n",
        "\n",
        "# Mostramos el gráfico\n",
        "plt.show()"
      ]
    },
    {
      "cell_type": "markdown",
      "id": "9e74315e",
      "metadata": {
        "id": "9e74315e"
      },
      "source": [
        "\n",
        "### 2. Gráfico de barras\n",
        "Se usa para comparar **categorías** o valores agregados.\n",
        "\n",
        "(En este dataset no hay muchas variables categóricas, así que convertiremos una continua a categórica temporalmente para mostrar un ejemplo).\n"
      ]
    },
    {
      "cell_type": "code",
      "execution_count": null,
      "id": "90e4b05a",
      "metadata": {
        "id": "90e4b05a"
      },
      "outputs": [],
      "source": [
        "# Convertimos el número de cilindros en una variable categórica (texto),\n",
        "# ya que nos interesa agrupar los datos por categoría y no tratarlos como números continuos.\n",
        "df['CYLINDERS_CAT'] = df['CYLINDERS'].astype(str)\n",
        "\n",
        "# Calculamos el promedio de emisiones de CO2 para cada categoría de número de cilindros.\n",
        "# Esto nos ayuda a entender si los autos con más cilindros tienden a emitir más CO2.\n",
        "promedios = df.groupby('CYLINDERS_CAT')['CO2EMISSIONS'].mean()\n",
        "\n",
        "# Usamos Matplotlib para graficar los promedios como un gráfico de barras.\n",
        "# Cada barra representa una categoría distinta de cilindros y su respectivo promedio de emisión.\n",
        "promedios.plot(kind='bar', color='orange', edgecolor='black')\n",
        "\n",
        "# Agregamos un título al gráfico\n",
        "plt.title(\"Emisión Promedio según Nº de Cilindros\")\n",
        "\n",
        "# Etiquetamos los ejes X e Y\n",
        "plt.xlabel(\"Nº de cilindros\")\n",
        "plt.ylabel(\"CO2 promedio (g/km)\")\n",
        "\n",
        "# Mostramos una cuadrícula para facilitar la lectura del gráfico\n",
        "plt.grid(True)\n",
        "\n",
        "# Mostramos el gráfico en pantalla\n",
        "plt.show()\n"
      ]
    },
    {
      "cell_type": "markdown",
      "id": "890e4cc5",
      "metadata": {
        "id": "890e4cc5"
      },
      "source": [
        "\n",
        "### 3. Diagrama de dispersión\n",
        "Útil para observar **relaciones entre dos variables numéricas**.\n"
      ]
    },
    {
      "cell_type": "code",
      "execution_count": null,
      "id": "83c80b3f",
      "metadata": {
        "id": "83c80b3f"
      },
      "outputs": [],
      "source": [
        "# Creamos un gráfico de dispersión (scatter plot) para visualizar la relación entre el consumo de combustible en ciudad\n",
        "# y las emisiones de CO2. Cada punto representa un vehículo.\n",
        "plt.scatter(df['FUELCONSUMPTION_CITY'], df['CO2EMISSIONS'], alpha=0.5)\n",
        "\n",
        "# Establecemos el título del gráfico\n",
        "plt.title(\"Consumo en ciudad vs Emisiones de CO2\")\n",
        "\n",
        "# Etiquetamos el eje X con la variable de consumo de combustible en ciudad (litros cada 100 km)\n",
        "plt.xlabel(\"Consumo (L/100km) en ciudad\")\n",
        "\n",
        "# Etiquetamos el eje Y con la variable de emisiones de CO2 en gramos por kilómetro\n",
        "plt.ylabel(\"CO2 (g/km)\")\n",
        "\n",
        "# Activamos la cuadrícula para facilitar la lectura visual de las relaciones entre los valores\n",
        "plt.grid(True)\n",
        "\n",
        "# Mostramos el gráfico en pantalla\n",
        "plt.show()"
      ]
    },
    {
      "cell_type": "markdown",
      "id": "0aec003e",
      "metadata": {
        "id": "0aec003e"
      },
      "source": [
        "\n",
        "### 4. Boxplot (diagrama de caja)\n",
        "Ideal para visualizar la **distribución y detectar valores atípicos**.\n"
      ]
    },
    {
      "cell_type": "code",
      "execution_count": null,
      "id": "0ff2c6cb",
      "metadata": {
        "id": "0ff2c6cb"
      },
      "outputs": [],
      "source": [
        "# Utilizamos Seaborn para crear un gráfico de caja (boxplot), una herramienta muy útil para analizar\n",
        "# la distribución de una variable numérica (en este caso, CO2EMISSIONS) agrupada por una variable categórica (número de cilindros).\n",
        "\n",
        "# ¿Qué nos muestra este gráfico?\n",
        "# - La línea dentro de cada caja representa la mediana de las emisiones para ese número de cilindros.\n",
        "# - Los bordes de la caja muestran el primer y tercer cuartil (Q1 y Q3), es decir, donde se concentra el 50% central de los datos.\n",
        "# - Las \"bigotes\" (líneas que salen de la caja) representan la extensión de los datos sin considerar los valores atípicos.\n",
        "# - Los puntos que aparecen fuera de los bigotes se consideran outliers o valores atípicos.\n",
        "\n",
        "# Para evitar advertencias de futuras versiones de Seaborn, especificamos explícitamente la variable que define el color (hue).\n",
        "# En este caso, usamos la misma variable categórica 'CYLINDERS_CAT' tanto en 'x' como en 'hue'.\n",
        "# Además, desactivamos la leyenda ya que el eje X ya indica las categorías.\n",
        "\n",
        "sns.boxplot(\n",
        "    x='CYLINDERS_CAT',           # Variable categórica en el eje X (convertida a string)\n",
        "    y='CO2EMISSIONS',            # Variable numérica en el eje Y\n",
        "    hue='CYLINDERS_CAT',         # Indicamos que la coloración se basa también en los cilindros\n",
        "    data=df,                     # Dataset que contiene los datos\n",
        "    palette=\"Set2\",              # Paleta de colores amigable\n",
        "    legend=False                 # Desactivamos la leyenda para evitar redundancia\n",
        ")\n",
        "\n",
        "# Título del gráfico para indicar claramente lo que se está visualizando\n",
        "plt.title(\"Distribución de Emisiones por Nº de Cilindros\")\n",
        "\n",
        "# Etiqueta del eje X que representa las categorías de cilindros\n",
        "plt.xlabel(\"Nº de cilindros\")\n",
        "\n",
        "# Etiqueta del eje Y que indica el valor numérico de las emisiones\n",
        "plt.ylabel(\"CO2 (g/km)\")\n",
        "\n",
        "# Mostrar el gráfico en pantalla\n",
        "plt.show()\n"
      ]
    },
    {
      "cell_type": "markdown",
      "id": "6c3ac8ce",
      "metadata": {
        "id": "6c3ac8ce"
      },
      "source": [
        "\n",
        "## Reflexión: ¿Qué tipo de gráfico usar?\n",
        "\n",
        "| Tipo de gráfico | ¿Cuándo usarlo? |\n",
        "|-----------------|-----------------|\n",
        "| Histograma | Para ver cómo se distribuye una variable numérica |\n",
        "| Barras | Para comparar categorías |\n",
        "| Dispersión | Para analizar relaciones entre dos variables numéricas |\n",
        "| Boxplot | Para ver rangos, medianas y valores extremos en una variable |\n",
        "\n",
        "Ahora que sabes qué tipos de gráficos existen, tiene sentido aprender **cómo generarlos usando librerías específicas**.\n"
      ]
    },
    {
      "cell_type": "markdown",
      "id": "670a7c3d",
      "metadata": {
        "id": "670a7c3d"
      },
      "source": [
        "\n",
        "---\n",
        "\n",
        "## Librerías para Visualización: Matplotlib y Seaborn\n",
        "\n",
        "Ahora que conoces los tipos de gráficos y sus usos, aprenderemos a crearlos de forma más profesional y flexible con **Matplotlib** y **Seaborn**.\n"
      ]
    },
    {
      "cell_type": "markdown",
      "id": "8f2d2031",
      "metadata": {
        "id": "8f2d2031"
      },
      "source": [
        "\n",
        "## Parte 1: Visualización con Matplotlib\n",
        "\n",
        "**Matplotlib** es la librería más utilizada para crear gráficos en Python. Aunque es más básica que Seaborn, ofrece un control muy detallado sobre cada elemento de los gráficos.\n",
        "\n",
        "### 1.1 Visualización de una variable\n",
        "\n",
        "Vamos a ver cómo se comporta la variable `CO2EMISSIONS`, es decir, la cantidad de dióxido de carbono que emite un vehículo por kilómetro.\n"
      ]
    },
    {
      "cell_type": "code",
      "execution_count": null,
      "id": "98a8cce7",
      "metadata": {
        "id": "98a8cce7"
      },
      "outputs": [],
      "source": [
        "# Creamos un histograma para ver cómo se distribuyen las emisiones de CO2 entre los vehículos\n",
        "\n",
        "# Usamos la función hist() de matplotlib para graficar los datos de la columna 'CO2EMISSIONS'\n",
        "# 'bins=30' divide los valores en 30 rangos o intervalos\n",
        "# 'color' define el color de las barras y 'edgecolor' el color del borde de cada barra\n",
        "plt.hist(df['CO2EMISSIONS'], bins=20, color='teal', edgecolor='black')\n",
        "\n",
        "# Título del gráfico\n",
        "plt.title(\"Distribución de Emisiones de CO2\")\n",
        "\n",
        "# Etiqueta del eje X: muestra los valores de CO2 emitido\n",
        "plt.xlabel(\"CO2 emitido (g/km)\")\n",
        "\n",
        "# Etiqueta del eje Y: muestra la cantidad de vehículos que tienen ese nivel de emisión\n",
        "plt.ylabel(\"Cantidad de vehículos\")\n",
        "\n",
        "# Agrega una cuadrícula para facilitar la lectura del gráfico\n",
        "plt.grid(True)\n",
        "\n",
        "# Muestra el gráfico en pantalla\n",
        "plt.show()\n",
        "\n",
        "# Este gráfico es útil para ver si las emisiones de CO₂ están concentradas en un rango específico\n",
        "# o si están muy dispersas.\n",
        "# Nos da una primera idea del comportamiento general de los datos antes de aplicar modelos más complejos.\n",
        "\n"
      ]
    },
    {
      "cell_type": "markdown",
      "id": "0d76b650",
      "metadata": {
        "id": "0d76b650"
      },
      "source": [
        "### 1.2 Gráfico de dispersión: relación entre variables"
      ]
    },
    {
      "cell_type": "code",
      "execution_count": null,
      "id": "5c70bb91",
      "metadata": {
        "id": "5c70bb91"
      },
      "outputs": [],
      "source": [
        "# Creamos un diagrama de dispersión (scatter plot) para analizar la relación entre el tamaño del motor y las emisiones de CO2\n",
        "\n",
        "# Usamos 'ENGINESIZE' como eje X (tamaño del motor en litros)\n",
        "# Usamos 'CO2EMISSIONS' como eje Y (emisiones de CO2 en gramos por kilómetro)\n",
        "# 'alpha=0.5' hace los puntos semi-transparentes para facilitar la visualización cuando hay muchos datos\n",
        "# 'color' define el color de los puntos en el gráfico\n",
        "plt.scatter(df['ENGINESIZE'], df['CO2EMISSIONS'], alpha=0.5, color='darkorange')\n",
        "\n",
        "# Título del gráfico\n",
        "plt.title(\"Relación entre tamaño del motor y emisiones de CO2\")\n",
        "\n",
        "# Etiqueta del eje X\n",
        "plt.xlabel(\"Tamaño del motor (L)\")\n",
        "\n",
        "# Etiqueta del eje Y\n",
        "plt.ylabel(\"Emisiones de CO2 (g/km)\")\n",
        "\n",
        "# Mostrar una cuadrícula para facilitar la lectura del gráfico\n",
        "plt.grid(True)\n",
        "\n",
        "# Mostrar el gráfico en pantalla\n",
        "plt.show()\n",
        "\n",
        "# Este gráfico nos ayuda a ver si existe una relación lineal entre el tamaño del motor y las emisiones.\n",
        "# A simple vista, si los puntos siguen una línea ascendente, podríamos inferir que\n",
        "# motores más grandes tienden a emitir más CO₂. Esta visualización es muy útil\n",
        "# como paso previo a aplicar un modelo de regresión.\n"
      ]
    },
    {
      "cell_type": "markdown",
      "id": "94ab17d0",
      "metadata": {
        "id": "94ab17d0"
      },
      "source": [
        "\n",
        "## Parte 2: Visualización con Seaborn\n",
        "\n",
        "**Seaborn** permite crear gráficos estadísticos de forma más simple y estética. Además, agrega funciones que combinan visualización con análisis de datos.\n",
        "\n",
        "### 2.1 Distribuciones con histograma + KDE\n"
      ]
    },
    {
      "cell_type": "code",
      "execution_count": null,
      "id": "e526633b",
      "metadata": {
        "id": "e526633b"
      },
      "outputs": [],
      "source": [
        "# Usamos Seaborn para crear un histograma con una curva de densidad (kde=True)\n",
        "# Esto permite visualizar la distribución de las emisiones de CO2 de forma más suave y detallada\n",
        "\n",
        "# 'df['CO2EMISSIONS']' es la serie de datos a graficar\n",
        "# 'kde=True' agrega la curva de densidad que ayuda a ver la forma de la distribución\n",
        "# 'color' define el color de las barras, y 'edgecolor' agrega bordes a cada barra para mejor visibilidad\n",
        "sns.histplot(df['CO2EMISSIONS'], kde=True, color='red', edgecolor='black')\n",
        "\n",
        "# Título del gráfico\n",
        "plt.title(\"Distribución de emisiones de CO2 (Seaborn)\")\n",
        "\n",
        "# Etiqueta del eje X\n",
        "plt.xlabel(\"CO2 Emissions (g/km)\")\n",
        "\n",
        "# Etiqueta del eje Y\n",
        "plt.ylabel(\"Frecuencia\")\n",
        "\n",
        "# Mostrar el gráfico\n",
        "plt.show()\n",
        "\n",
        "# A diferencia de matplotlib, seaborn.histplot() incluye de forma opcional la estimación de densidad (kde),\n",
        "# lo que permite una interpretación más detallada de la forma de la distribución, ideal para análisis exploratorios.\n"
      ]
    },
    {
      "cell_type": "markdown",
      "id": "86a4212d",
      "metadata": {
        "id": "86a4212d"
      },
      "source": [
        "### 2.2 Diagramas de dispersión con histogramas"
      ]
    },
    {
      "cell_type": "code",
      "execution_count": null,
      "id": "fd35b5fb",
      "metadata": {
        "id": "fd35b5fb"
      },
      "outputs": [],
      "source": [
        "\n",
        "# Analizamos ahora si hay relación entre el consumo en ciudad y las emisiones\n",
        "\n",
        "sns.jointplot(x=\"FUELCONSUMPTION_CITY\", y=\"CO2EMISSIONS\", data=df, alpha=0.5, color=\"purple\")\n",
        "\n",
        "# Este gráfico combina:\n",
        "# - Un scatter plot (diagrama de dispersión)\n",
        "# - Un histograma para cada variable en los márgenes\n",
        "# Esto nos ayuda a ver tanto la distribución de cada variable como su relación.\n"
      ]
    },
    {
      "cell_type": "markdown",
      "id": "bc13842f",
      "metadata": {
        "id": "bc13842f"
      },
      "source": [
        "### 2.3 Relación de múltiples variables"
      ]
    },
    {
      "cell_type": "code",
      "execution_count": null,
      "id": "9b4392e6",
      "metadata": {
        "id": "9b4392e6"
      },
      "outputs": [],
      "source": [
        "# Paso 1: Seleccionamos algunas variables numéricas relevantes para el análisis.\n",
        "# Estas variables tienen sentido porque están relacionadas entre sí desde una perspectiva de consumo y emisiones.\n",
        "variables = ['ENGINESIZE', 'CYLINDERS', 'FUELCONSUMPTION_COMB', 'CO2EMISSIONS']\n",
        "\n",
        "# Paso 2: Usamos la función pairplot de Seaborn para crear un gráfico de pares (pairplot).\n",
        "# ¿Qué hace este gráfico?\n",
        "# - Genera una matriz de gráficos de dispersión (scatterplots) que compara cada variable con todas las otras.\n",
        "# - Por ejemplo: crea un gráfico entre ENGINE SIZE y CYLINDERS, otro entre ENGINE SIZE y CO2EMISSIONS, y así sucesivamente.\n",
        "# - Además, en la diagonal muestra un histograma de cada variable, para entender su distribución individual.\n",
        "# El parámetro 'alpha=0.4' hace que los puntos sean parcialmente transparentes,\n",
        "# lo cual facilita la visualización cuando hay muchos datos sobrepuestos.\n",
        "\n",
        "sns.pairplot(df[variables], kind='scatter', plot_kws={'alpha': 0.4})\n",
        "\n",
        "# Paso 3: Agregamos un título general para todo el conjunto de gráficos.\n",
        "# El parámetro 'y' ajusta la posición vertical del título para que no tape ningún gráfico.\n",
        "plt.suptitle(\"Relación entre variables\", y=1.02)\n",
        "\n",
        "# Paso 4: Mostramos el gráfico completo\n",
        "plt.show()\n"
      ]
    },
    {
      "cell_type": "markdown",
      "id": "62ce7d2d",
      "metadata": {
        "id": "62ce7d2d"
      },
      "source": [
        "### 2.4 Correlación entre variables"
      ]
    },
    {
      "cell_type": "code",
      "execution_count": null,
      "id": "db38b547",
      "metadata": {
        "id": "db38b547"
      },
      "outputs": [],
      "source": [
        "# Paso 1: Calculamos y visualizamos la matriz de correlación.\n",
        "# ¿Qué es una correlación?\n",
        "# Es una medida estadística que indica la fuerza y la dirección de la relación lineal entre dos variables numéricas.\n",
        "\n",
        "# - El valor de la correlación varía entre -1 y 1:\n",
        "#   + 1   → correlación positiva perfecta: cuando una variable sube, la otra también sube en la misma proporción.\n",
        "#   - 1   → correlación negativa perfecta: cuando una variable sube, la otra baja en la misma proporción.\n",
        "#     0   → no hay correlación lineal entre las variables.\n",
        "\n",
        "# Paso 2: Establecemos el tamaño de la figura para que se vea bien\n",
        "plt.figure(figsize=(8, 6))\n",
        "\n",
        "# Paso 3: Usamos un mapa de calor (heatmap) de Seaborn para representar la matriz de correlación.\n",
        "# - `annot=True` muestra los valores numéricos dentro de cada celda.\n",
        "# - `cmap='coolwarm'` es una paleta de colores que va del azul (negativo) al rojo (positivo).\n",
        "# - `fmt=\".2f\"` limita los números a dos decimales.\n",
        "sns.heatmap(df[variables].corr(), annot=True, cmap='coolwarm', fmt=\".2f\")\n",
        "\n",
        "# Paso 4: Agregamos un título al gráfico\n",
        "plt.title(\"Matriz de correlación entre variables\")\n",
        "\n",
        "# Paso 5: Mostramos el gráfico\n",
        "plt.show()\n",
        "\n",
        "# Por qué es importante analizar la matriz de correlación?\n",
        "# Permite identificar relaciones fuertes entre variables, lo cual es muy útil en machine learning para:\n",
        "# Seleccionar variables que tienen mayor poder predictivo (por ejemplo, ENGINESIZE está muy correlacionada con CO2EMISSIONS).\n",
        "# Detectar variables redundantes (por ejemplo, si dos variables están muy correlacionadas, podrían aportar información similar).\n",
        "# Es una excelente herramienta de análisis exploratorio de datos (EDA) antes de construir cualquier modelo.\n"
      ]
    },
    {
      "cell_type": "markdown",
      "source": [
        "\n",
        "## 🧠 Desafío Final: Exploración Visual de Datos de E-Commerce\n",
        "\n",
        "Ahora que ya sabes cómo utilizar `matplotlib` y `seaborn` para visualizar datos y explorar relaciones entre variables, te proponemos este desafío.\n",
        "\n",
        "### 📦 Dataset\n",
        "Trabajaremos con un conjunto de datos real sobre clientes de comercio electrónico y su comportamiento en diferentes plataformas (sitio web, app móvil, etc.).\n",
        "\n",
        "**Acceso al dataset:**  \n",
        "[https://www.kaggle.com/datasets/iyadavvaibhav/ecommerce-customer-device-usage](https://www.kaggle.com/datasets/iyadavvaibhav/ecommerce-customer-device-usage)\n",
        "\n",
        "### 🎯 Objetivo\n",
        "Explora visualmente este conjunto de datos y responde las siguientes preguntas usando gráficos con `matplotlib` y `seaborn`:\n",
        "\n",
        "1. ¿Qué variables podrían estar más relacionadas con el gasto anual de los clientes (`Yearly Amount Spent`)?\n",
        "2. ¿Existen diferencias visibles entre los usuarios que usan más la App vs. el Website?\n",
        "3. ¿Qué tipo de gráfico resulta más útil para observar correlaciones entre tiempo de uso y gasto?\n",
        "4. ¿Cómo se distribuyen los datos para cada variable numérica? ¿Existen valores extremos?\n",
        "5. ¿Puedes identificar visualmente una posible relación lineal entre alguna variable y el gasto anual?\n",
        "\n",
        "### 🧰 Instrucciones\n",
        "- Carga los datos y explora su estructura.\n",
        "- Selecciona un subconjunto de variables que te parezcan relevantes.\n",
        "- Aplica gráficos de dispersión, diagramas de caja, mapas de calor, etc.\n",
        "- Comenta cada paso que realices como lo hemos hecho en este notebook.\n"
      ],
      "metadata": {
        "id": "0Zz1yYKPvv87"
      },
      "id": "0Zz1yYKPvv87"
    },
    {
      "cell_type": "code",
      "source": [
        "# Importar el dataset\n",
        "df = pd.read_csv(\"Ecommerce Customers.csv\")\n",
        "# ¿Cómo podemos ver información del dataframe?"
      ],
      "metadata": {
        "id": "zkJANW5ZPF9s"
      },
      "id": "zkJANW5ZPF9s",
      "execution_count": null,
      "outputs": []
    }
  ],
  "metadata": {
    "colab": {
      "provenance": []
    },
    "language_info": {
      "name": "python"
    },
    "kernelspec": {
      "name": "python3",
      "display_name": "Python 3"
    }
  },
  "nbformat": 4,
  "nbformat_minor": 5
}