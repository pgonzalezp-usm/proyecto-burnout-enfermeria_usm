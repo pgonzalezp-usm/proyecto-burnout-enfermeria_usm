{
 "cells": [
  {
   "cell_type": "markdown",
   "id": "b839312a-6164-477a-bca5-222fd5d79697",
   "metadata": {},
   "source": [
    "# DESAFIO\n",
    "* Cargar el archivo estudiantes_notas en su entorno de trabajo.\n",
    "* Cambiar dimensiones: Experimentar con diferentes formas del arreglo.\n",
    "* Normalización: Comparar métodos de normalización (Min-Max y Z-Score).\n",
    "* Operaciones estadísticas: Calcular desviación estándar, promedios, etc.\n",
    "* Filtro de datos: Filtrar estudiantes que cumplan ciertos criterios, como obtener más de 70 en Matemáticas."
   ]
  },
  {
   "cell_type": "markdown",
   "id": "c9355832-9b09-473b-9dbf-8ef437431192",
   "metadata": {},
   "source": [
    "## Cargar el archivo estudiantes_notas en su entorno de trabajo."
   ]
  },
  {
   "cell_type": "code",
   "execution_count": 16,
   "id": "4e49c6f7-1fae-47d8-812e-4fbfb7d5e000",
   "metadata": {},
   "outputs": [
    {
     "name": "stdout",
     "output_type": "stream",
     "text": [
      "Datos cargados:\n",
      " [[  1.    38.08  70.12  19.33]\n",
      " [  2.    95.12  54.07  54.65]\n",
      " [  3.    73.47  31.64  87.42]\n",
      " ...\n",
      " [498.     8.7   14.55  46.89]\n",
      " [499.    97.47  95.07  38.6 ]\n",
      " [500.    98.63  45.15  86.47]]\n",
      "Forma de los datos: (500, 4)\n"
     ]
    }
   ],
   "source": [
    "import numpy as np\n",
    "\n",
    "# Cargar los datos desde el archivo CSV (sin la columna 'Estudiante_ID')\n",
    "datos = np.genfromtxt(\"../data/estudiantes_notas_2.csv\", delimiter=\",\", skip_header=1, usecols=(0, 1, 2, 3))\n",
    "\n",
    "print(\"Datos cargados:\\n\", datos)\n",
    "print(\"Forma de los datos:\", datos.shape)"
   ]
  },
  {
   "cell_type": "markdown",
   "id": "235e51e7-1bb3-4966-99f0-d6c60feea791",
   "metadata": {},
   "source": [
    "## Cambiar dimensiones: Experimentar con diferentes formas del arreglo."
   ]
  },
  {
   "cell_type": "code",
   "execution_count": 30,
   "id": "a0c7f8cf-cad5-4e6d-b886-8589c4310674",
   "metadata": {},
   "outputs": [
    {
     "name": "stdout",
     "output_type": "stream",
     "text": [
      "El tipo de dato es: <class 'numpy.ndarray'>\n",
      "Primer elemento del array: [ 1.   38.08 70.12 19.33]\n",
      "Dimensión del array unidimensional: 2\n",
      "Forma del array 2D: (500, 4)\n",
      "Nuevo array:\n",
      " [[  1.    38.08  70.12 ...  98.42  63.    83.05]\n",
      " [ 14.5   77.06  64.   ...  23.57  62.21  65.87]\n",
      " [126.    43.28  37.52 ...  69.1  188.    55.96]\n",
      " ...\n",
      " [ 13.34  55.21 314.   ...   8.05   3.51  25.48]\n",
      " [376.    32.58  16.46 ...  31.49 438.    82.36]\n",
      " [ 91.52  70.76 439.   ...  98.63  45.15  86.47]]\n",
      "Forma del Nuevo array: (8, 250)\n"
     ]
    }
   ],
   "source": [
    "#Cambiar dimensiones: Experimentar con diferentes formas del arreglo.\n",
    "print (\"El tipo de dato es:\", type(datos)) # Usamos type()\n",
    "print (\"Primer elemento del array:\", datos[0]) #Muestra elemento 1\n",
    "print(\"Dimensión del array unidimensional:\", datos.ndim)\n",
    "print(\"Forma del array 2D:\", datos.shape)\n",
    "nuevo_array = datos.reshape(8,250) #si la forma orignal da 2000 elementos (500x4), las siguientes formas deben mantener ese numero de elementos\n",
    "print (\"Nuevo array:\\n\", nuevo_array)\n",
    "print(\"Forma del Nuevo array:\", nuevo_array.shape)"
   ]
  },
  {
   "cell_type": "markdown",
   "id": "414b58e8-b0a5-4c3d-b9a6-aa131d3f117e",
   "metadata": {},
   "source": [
    "## Normalización: Comparar métodos de normalización (Min-Max y Z-Score)."
   ]
  },
  {
   "cell_type": "code",
   "execution_count": null,
   "id": "55c6bab6-09bc-4ca7-bf26-15813bd1b26f",
   "metadata": {},
   "outputs": [],
   "source": []
  }
 ],
 "metadata": {
  "kernelspec": {
   "display_name": "Python 3 (ipykernel)",
   "language": "python",
   "name": "python3"
  },
  "language_info": {
   "codemirror_mode": {
    "name": "ipython",
    "version": 3
   },
   "file_extension": ".py",
   "mimetype": "text/x-python",
   "name": "python",
   "nbconvert_exporter": "python",
   "pygments_lexer": "ipython3",
   "version": "3.13.5"
  }
 },
 "nbformat": 4,
 "nbformat_minor": 5
}
