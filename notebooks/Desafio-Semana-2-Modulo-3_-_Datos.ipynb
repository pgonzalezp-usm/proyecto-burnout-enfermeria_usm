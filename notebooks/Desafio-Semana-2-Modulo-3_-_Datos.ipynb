{
 "cells": [
  {
   "cell_type": "markdown",
   "id": "256f12a2-cfd9-47b7-aa45-78b34c5cd96e",
   "metadata": {},
   "source": [
    "# Normalización Z-score\n",
    "\n",
    "## Ejercicio: \n",
    "\n",
    "1. Importe el archivo `Salary Data.csv` a un DataFrame de pandas.\n",
    "2. Filtre el DataFrame para mantener solo las columnas de tipo numérico.\n",
    "3. Aplique la transformación Z-score.\n",
    "4. Para el DataFrame estandarizado, calcule y muestre la **media** (`mean()`) y **desviación estándar** (`std()`) de cada característica."
   ]
  },
  {
   "cell_type": "code",
   "execution_count": 11,
   "id": "d88572b1-2910-4c31-9d4b-611379c9ac66",
   "metadata": {},
   "outputs": [
    {
     "data": {
      "text/plain": [
       "(375, 6)"
      ]
     },
     "metadata": {},
     "output_type": "display_data"
    },
    {
     "data": {
      "text/html": [
       "<div>\n",
       "<style scoped>\n",
       "    .dataframe tbody tr th:only-of-type {\n",
       "        vertical-align: middle;\n",
       "    }\n",
       "\n",
       "    .dataframe tbody tr th {\n",
       "        vertical-align: top;\n",
       "    }\n",
       "\n",
       "    .dataframe thead th {\n",
       "        text-align: right;\n",
       "    }\n",
       "</style>\n",
       "<table border=\"1\" class=\"dataframe\">\n",
       "  <thead>\n",
       "    <tr style=\"text-align: right;\">\n",
       "      <th></th>\n",
       "      <th>Age</th>\n",
       "      <th>Gender</th>\n",
       "      <th>Education Level</th>\n",
       "      <th>Job Title</th>\n",
       "      <th>Years of Experience</th>\n",
       "      <th>Salary</th>\n",
       "    </tr>\n",
       "  </thead>\n",
       "  <tbody>\n",
       "    <tr>\n",
       "      <th>0</th>\n",
       "      <td>32.0</td>\n",
       "      <td>Male</td>\n",
       "      <td>Bachelor's</td>\n",
       "      <td>Software Engineer</td>\n",
       "      <td>5.0</td>\n",
       "      <td>90000.0</td>\n",
       "    </tr>\n",
       "    <tr>\n",
       "      <th>1</th>\n",
       "      <td>28.0</td>\n",
       "      <td>Female</td>\n",
       "      <td>Master's</td>\n",
       "      <td>Data Analyst</td>\n",
       "      <td>3.0</td>\n",
       "      <td>65000.0</td>\n",
       "    </tr>\n",
       "    <tr>\n",
       "      <th>2</th>\n",
       "      <td>45.0</td>\n",
       "      <td>Male</td>\n",
       "      <td>PhD</td>\n",
       "      <td>Senior Manager</td>\n",
       "      <td>15.0</td>\n",
       "      <td>150000.0</td>\n",
       "    </tr>\n",
       "    <tr>\n",
       "      <th>3</th>\n",
       "      <td>36.0</td>\n",
       "      <td>Female</td>\n",
       "      <td>Bachelor's</td>\n",
       "      <td>Sales Associate</td>\n",
       "      <td>7.0</td>\n",
       "      <td>60000.0</td>\n",
       "    </tr>\n",
       "    <tr>\n",
       "      <th>4</th>\n",
       "      <td>52.0</td>\n",
       "      <td>Male</td>\n",
       "      <td>Master's</td>\n",
       "      <td>Director</td>\n",
       "      <td>20.0</td>\n",
       "      <td>200000.0</td>\n",
       "    </tr>\n",
       "  </tbody>\n",
       "</table>\n",
       "</div>"
      ],
      "text/plain": [
       "    Age  Gender Education Level          Job Title  Years of Experience  \\\n",
       "0  32.0    Male      Bachelor's  Software Engineer                  5.0   \n",
       "1  28.0  Female        Master's       Data Analyst                  3.0   \n",
       "2  45.0    Male             PhD     Senior Manager                 15.0   \n",
       "3  36.0  Female      Bachelor's    Sales Associate                  7.0   \n",
       "4  52.0    Male        Master's           Director                 20.0   \n",
       "\n",
       "     Salary  \n",
       "0   90000.0  \n",
       "1   65000.0  \n",
       "2  150000.0  \n",
       "3   60000.0  \n",
       "4  200000.0  "
      ]
     },
     "execution_count": 11,
     "metadata": {},
     "output_type": "execute_result"
    }
   ],
   "source": [
    "#1. Importe el archivo `Salary Data.csv` a un DataFrame de pandas.\n",
    "import pandas as pd\n",
    "import numpy as np\n",
    "import random\n",
    "import matplotlib.pyplot as plt\n",
    "import seaborn  as sns\n",
    "\n",
    "df = pd.read_csv('../data/Salary Data.csv')\n",
    "display(df.shape)\n",
    "df.head()"
   ]
  },
  {
   "cell_type": "code",
   "execution_count": 12,
   "id": "d0b8c0cd-d00d-4659-8c6b-277a6f629d8f",
   "metadata": {},
   "outputs": [
    {
     "data": {
      "text/plain": [
       "(375, 3)"
      ]
     },
     "metadata": {},
     "output_type": "display_data"
    },
    {
     "data": {
      "text/html": [
       "<div>\n",
       "<style scoped>\n",
       "    .dataframe tbody tr th:only-of-type {\n",
       "        vertical-align: middle;\n",
       "    }\n",
       "\n",
       "    .dataframe tbody tr th {\n",
       "        vertical-align: top;\n",
       "    }\n",
       "\n",
       "    .dataframe thead th {\n",
       "        text-align: right;\n",
       "    }\n",
       "</style>\n",
       "<table border=\"1\" class=\"dataframe\">\n",
       "  <thead>\n",
       "    <tr style=\"text-align: right;\">\n",
       "      <th></th>\n",
       "      <th>Age</th>\n",
       "      <th>Years of Experience</th>\n",
       "      <th>Salary</th>\n",
       "    </tr>\n",
       "  </thead>\n",
       "  <tbody>\n",
       "    <tr>\n",
       "      <th>0</th>\n",
       "      <td>32.0</td>\n",
       "      <td>5.0</td>\n",
       "      <td>90000.0</td>\n",
       "    </tr>\n",
       "    <tr>\n",
       "      <th>1</th>\n",
       "      <td>28.0</td>\n",
       "      <td>3.0</td>\n",
       "      <td>65000.0</td>\n",
       "    </tr>\n",
       "    <tr>\n",
       "      <th>2</th>\n",
       "      <td>45.0</td>\n",
       "      <td>15.0</td>\n",
       "      <td>150000.0</td>\n",
       "    </tr>\n",
       "    <tr>\n",
       "      <th>3</th>\n",
       "      <td>36.0</td>\n",
       "      <td>7.0</td>\n",
       "      <td>60000.0</td>\n",
       "    </tr>\n",
       "    <tr>\n",
       "      <th>4</th>\n",
       "      <td>52.0</td>\n",
       "      <td>20.0</td>\n",
       "      <td>200000.0</td>\n",
       "    </tr>\n",
       "  </tbody>\n",
       "</table>\n",
       "</div>"
      ],
      "text/plain": [
       "    Age  Years of Experience    Salary\n",
       "0  32.0                  5.0   90000.0\n",
       "1  28.0                  3.0   65000.0\n",
       "2  45.0                 15.0  150000.0\n",
       "3  36.0                  7.0   60000.0\n",
       "4  52.0                 20.0  200000.0"
      ]
     },
     "execution_count": 12,
     "metadata": {},
     "output_type": "execute_result"
    }
   ],
   "source": [
    "# 2. Filtrar columnas numéricas\n",
    "df_numericos = df.select_dtypes(include=['number'])\n",
    "#Dimensiones de sub dataframe con valores numericos\n",
    "display(df_numericos.shape)\n",
    "#primeras filas de sub dataframe\n",
    "df_numericos.head()\n"
   ]
  },
  {
   "cell_type": "code",
   "execution_count": 13,
   "id": "2edc1e14-cdaf-4929-b03e-3419dd63e5b1",
   "metadata": {},
   "outputs": [
    {
     "data": {
      "text/html": [
       "<div>\n",
       "<style scoped>\n",
       "    .dataframe tbody tr th:only-of-type {\n",
       "        vertical-align: middle;\n",
       "    }\n",
       "\n",
       "    .dataframe tbody tr th {\n",
       "        vertical-align: top;\n",
       "    }\n",
       "\n",
       "    .dataframe thead th {\n",
       "        text-align: right;\n",
       "    }\n",
       "</style>\n",
       "<table border=\"1\" class=\"dataframe\">\n",
       "  <thead>\n",
       "    <tr style=\"text-align: right;\">\n",
       "      <th></th>\n",
       "      <th>Age</th>\n",
       "      <th>Years of Experience</th>\n",
       "      <th>Salary</th>\n",
       "    </tr>\n",
       "  </thead>\n",
       "  <tbody>\n",
       "    <tr>\n",
       "      <th>0</th>\n",
       "      <td>-0.769398</td>\n",
       "      <td>-0.768276</td>\n",
       "      <td>-0.219559</td>\n",
       "    </tr>\n",
       "    <tr>\n",
       "      <th>1</th>\n",
       "      <td>-1.336003</td>\n",
       "      <td>-1.073702</td>\n",
       "      <td>-0.738498</td>\n",
       "    </tr>\n",
       "    <tr>\n",
       "      <th>2</th>\n",
       "      <td>1.072068</td>\n",
       "      <td>0.758859</td>\n",
       "      <td>1.025892</td>\n",
       "    </tr>\n",
       "    <tr>\n",
       "      <th>3</th>\n",
       "      <td>-0.202793</td>\n",
       "      <td>-0.462849</td>\n",
       "      <td>-0.842285</td>\n",
       "    </tr>\n",
       "    <tr>\n",
       "      <th>4</th>\n",
       "      <td>2.063627</td>\n",
       "      <td>1.522426</td>\n",
       "      <td>2.063768</td>\n",
       "    </tr>\n",
       "  </tbody>\n",
       "</table>\n",
       "</div>"
      ],
      "text/plain": [
       "        Age  Years of Experience    Salary\n",
       "0 -0.769398            -0.768276 -0.219559\n",
       "1 -1.336003            -1.073702 -0.738498\n",
       "2  1.072068             0.758859  1.025892\n",
       "3 -0.202793            -0.462849 -0.842285\n",
       "4  2.063627             1.522426  2.063768"
      ]
     },
     "execution_count": 13,
     "metadata": {},
     "output_type": "execute_result"
    }
   ],
   "source": [
    "#3. Aplique la transformación Z-score.\n",
    "from sklearn.preprocessing import StandardScaler\n",
    "scaler = StandardScaler()\n",
    "df_estandarizados = pd.DataFrame(scaler.fit_transform(df_numericos), \n",
    "                              columns=df_numericos.columns)\n",
    "df_estandarizados.head()"
   ]
  },
  {
   "cell_type": "code",
   "execution_count": 15,
   "id": "33675ae0-1b98-444f-9770-5e05eb86a9a0",
   "metadata": {},
   "outputs": [
    {
     "name": "stdout",
     "output_type": "stream",
     "text": [
      "Medias de df_estandarizados:\n",
      "Age                   -3.333646e-16\n",
      "Years of Experience    1.785882e-17\n",
      "Salary                 1.238211e-16\n",
      "dtype: float64\n",
      "\n",
      "Desviaciones estándar de df_estandarizados:\n",
      "Age                    1.001343\n",
      "Years of Experience    1.001343\n",
      "Salary                 1.001343\n",
      "dtype: float64\n"
     ]
    }
   ],
   "source": [
    "#Para el DataFrame estandarizado, calcule y muestre la media (mean()) y \n",
    "#desviación estándar (std()) de cada característica.\n",
    "print(\"Medias de df_estandarizados:\")\n",
    "print(df_estandarizados.mean())\n",
    "print(\"\\nDesviaciones estándar de df_estandarizados:\")\n",
    "print(df_estandarizados.std())"
   ]
  },
  {
   "cell_type": "code",
   "execution_count": null,
   "id": "8634f69a-c54a-4cae-b300-052e95fe23d3",
   "metadata": {},
   "outputs": [],
   "source": []
  }
 ],
 "metadata": {
  "kernelspec": {
   "display_name": "Python 3 (ipykernel)",
   "language": "python",
   "name": "python3"
  },
  "language_info": {
   "codemirror_mode": {
    "name": "ipython",
    "version": 3
   },
   "file_extension": ".py",
   "mimetype": "text/x-python",
   "name": "python",
   "nbconvert_exporter": "python",
   "pygments_lexer": "ipython3",
   "version": "3.10.18"
  }
 },
 "nbformat": 4,
 "nbformat_minor": 5
}
