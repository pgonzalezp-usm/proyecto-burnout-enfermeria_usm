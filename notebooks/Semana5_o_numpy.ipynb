{
  "nbformat": 4,
  "nbformat_minor": 0,
  "metadata": {
    "colab": {
      "provenance": []
    },
    "kernelspec": {
      "name": "python3",
      "display_name": "Python 3"
    },
    "language_info": {
      "name": "python"
    }
  },
  "cells": [
    {
      "cell_type": "markdown",
      "source": [
        "# **Semana 5 Introducción a la programación con Python**"
      ],
      "metadata": {
        "id": "6lrLXWHZcvmz"
      }
    },
    {
      "cell_type": "markdown",
      "source": [
        "Esta semana analizaremos la libreria Numpy:\n",
        "\n",
        "* ¿Qué es Numpy?\n",
        "* ¿Qué es un arreglo?\n",
        "* Dimensionalidad de los arreglos.\n",
        "* Creación de un arreglo.\n",
        "* Operaciones con arreglos.\n",
        "* Normalización de datos.\n",
        "* Manejo de datos nulos o vacíos.\n",
        "* Convertir un archivo csv a un array.\n"
      ],
      "metadata": {
        "id": "Xi0DSPWFqgdY"
      }
    },
    {
      "cell_type": "code",
      "source": [],
      "metadata": {
        "id": "2hLIO4cGmMQR"
      },
      "execution_count": null,
      "outputs": []
    },
    {
      "cell_type": "markdown",
      "source": [
        "##**¿Qué es Numpy?**"
      ],
      "metadata": {
        "id": "easX6F6HrHWv"
      }
    },
    {
      "cell_type": "markdown",
      "source": [
        "NumPy (Numerical Python) es una biblioteca de Python que proporciona soporte para trabajar con arreglos multidimensionales y realizar operaciones matemáticas y científicas de manera eficiente.\n",
        "\n",
        "Es una herramienta fundamental en el ecosistema de análisis de datos y machine learning, ya que está optimizada para manejar grandes volúmenes de datos numéricos.\n",
        "\n",
        "**Características:**\n",
        "\n",
        "1. NumPy introduce el tipo de dato **ndarray**, que es una estructura similar a las listas de Python, pero con soporte para múltiples dimensiones y operaciones rápidas.\n",
        "\n",
        "2. Ofrece una amplia gama de funciones para realizar operaciones como suma, promedio, producto, logaritmos, trigonometría, álgebra lineal, etc.\n",
        "\n",
        "3. Permite reestructurar, indexar, filtrar y transformar datos fácilmente.\n",
        "\n",
        "4. Los arreglos de NumPy son más rápidos y consumen menos memoria que las listas de Python.\n",
        "\n",
        "5. Funciona perfectamente con otras bibliotecas populares como Pandas, Matplotlib, y Scikit-learn."
      ],
      "metadata": {
        "id": "ES2tHImmrKu8"
      }
    },
    {
      "cell_type": "markdown",
      "source": [
        "### **¿Por qué Numpy es más rápido que las listas?**"
      ],
      "metadata": {
        "id": "O34JUp2DbEHr"
      }
    },
    {
      "cell_type": "markdown",
      "source": [
        "**Rendimiento optimizado:**\n",
        "* Los arreglos de NumPy son mucho más rápidos que las listas de Python porque operan con un solo tipo de datos.\n",
        "\n",
        "**Ahorro de memoria:**\n",
        "* Los arreglos de NumPy usan menos memoria que las listas de Python porque almacenan datos del mismo tipo en bloques contiguos.\n",
        "\n",
        "**Operaciones vectorizadas:**\n",
        "* NumPy realiza operaciones matemáticas y lógicas de manera eficiente en todos los elementos del arreglo sin necesidad de bucles.\n",
        "* La vectorización describe la ausencia de cualquier bucle explícito, indexación, etc., en el código; estas cosas ocurren \"detrás de escena\" (con código en lenguaje C).\n"
      ],
      "metadata": {
        "id": "0g_NOCzwbJhS"
      }
    },
    {
      "cell_type": "markdown",
      "source": [
        "## **¿Qué es un arreglo?**"
      ],
      "metadata": {
        "id": "dulRBTJpgCwH"
      }
    },
    {
      "cell_type": "markdown",
      "source": [
        "Un arreglo es una estructura para almacenar y recuperar datos, en que cada celda almacena un elemento de los datos."
      ],
      "metadata": {
        "id": "hnaFPNWcgFkN"
      }
    },
    {
      "cell_type": "markdown",
      "source": [
        "### **Dimensionalidad de los arreglos**\n",
        "\n",
        "El número de corchetes anidados en un array de NumPy indica sus dimensiones\n",
        "\n",
        "**Visualización:**\n",
        "\n",
        "**1D: \"Una lista simple\"**\n",
        "\n",
        "[1, 2, 3]\n",
        "\n",
        "**2D: Una matriz (o \"listas anidadas\")**\n",
        "\n",
        "[Ejemplo 1 2D](https://drive.google.com/file/d/1qSbqCy0rQDDuXiminHKMe-Boo4MFR2Dc/view?usp=sharing)\n",
        "\n",
        "[Ejemplo 2 2D](https://drive.google.com/file/d/1foye6B9v8XhalVu7UlXca9na3Pf1zguN/view?usp=sharing)\n",
        "\n",
        "\n",
        "\n",
        "**3D: cada matriz 2D va encerrada entre []. Agrupación de matrices 2D**\n",
        "\n",
        "[Ejemplo 1 3D](https://drive.google.com/file/d/1dGAVMaLUpsjqgsup57adc3CP2xbwZj4K/view?usp=sharing)\n",
        "\n",
        "\n",
        "[Ejemplo 2 3D](https://drive.google.com/file/d/1bf3WY0Vqp0p7DJfXH0L0QY2LoWL06WBj/view?usp=sharing)\n",
        "\n",
        "\n",
        "**4D: cada arreglo 3D va encerrado entre [].Agrupación de areglos 3D**\n",
        "\n",
        "[Ejemplo 1 4D](https://drive.google.com/file/d/1TYvH3SnkiGi9rYHwPZe1mtMSfsXSao0i/view?usp=sharing)\n",
        "\n",
        "\n",
        "\n",
        "La mayoría de las matrices de NumPy tienen algunas restricciones. Por ejemplo:\n",
        "\n",
        "* Todos los elementos de la matriz deben ser del mismo tipo de datos.\n",
        "\n",
        "* Una vez creada, el tamaño total de la matriz no puede cambiar.\n",
        "\n",
        "* La forma debe ser “rectangular”, por ejemplo, cada fila de una matriz bidimensional debe tener la misma cantidad de columnas.\n",
        "\n",
        "* Cuando se cumplen estas condiciones, NumPy aprovecha estas características para hacer que la matriz sea más rápida, más eficiente en el uso de la memoria y más conveniente de usar que las estructuras de datos menos restrictivas.\n"
      ],
      "metadata": {
        "id": "-68X4HNnX40r"
      }
    },
    {
      "cell_type": "markdown",
      "source": [
        "#### **Comprendiendo los ejes del array (axis)**\n",
        "\n"
      ],
      "metadata": {
        "id": "ygd3w56NTHbU"
      }
    },
    {
      "cell_type": "markdown",
      "source": [
        "En NumPy, el término axis (eje) se refiere a las \"dimensiones\" a lo largo de las cuales se realizan las operaciones en un array, como sumar, promediar o cambiar la forma.\n",
        "\n",
        "Comprender axis es crucial para manipular y transformar arrays correctamente.\n",
        "\n",
        "**Explicación de los Ejes (axis):**\n",
        "\n",
        "**axis=0 (Eje 0):**\n",
        "* Corresponde a las filas en un array bidimensional (o la \"profundidad\" en un array tridimensional).\n",
        "* Cuando aplicamos una operación a lo largo de axis=0, estamos colapsando las filas y operando sobre las columnas.\n",
        "* Ejemplo: En una operación de suma, sumaríamos a lo largo de cada columna.\n",
        "* Pensemos en axis=0 como \"trabajar verticalmente\".\n",
        "\n",
        "**axis=1 (Eje 1):**\n",
        "* Corresponde a las columnas en un array bidimensional.\n",
        "* Cuando aplicamos una operación a lo largo de axis=1, estamos colapsando las columnas y operando sobre las filas.\n",
        "* Ejemplo: En una operación de suma, sumariamos los elementos de cada fila.\n",
        "* Pensemos en axis=1 como \"trabajar horizontalmente\".\n",
        "\n",
        "**axis=2 (Eje 2):**\n",
        "* Esto aplica para arrays tridimensionales o de mayor dimensión.\n",
        "* En un array tridimensional, axis=2 corresponde al \"tercer nivel de profundidad\", es decir, a través de las \"columnas\" dentro de cada matriz de cada \"nivel\" de profundidad."
      ],
      "metadata": {
        "id": "TP1F7cmMw8Q6"
      }
    },
    {
      "cell_type": "markdown",
      "source": [
        "## **Creación de un arreglo**"
      ],
      "metadata": {
        "id": "JnF8LgUgyR4d"
      }
    },
    {
      "cell_type": "markdown",
      "source": [
        "### **Crear un array de una dimensión**"
      ],
      "metadata": {
        "id": "u2V0kJvabV9w"
      }
    },
    {
      "cell_type": "markdown",
      "source": [
        "* Un array unidimensional es simplemente una lista de elementos.\n",
        "* Tiene un solo conjunto de corchetes.\n",
        "* En primer lugar, debemos importar la libreria numpy.\n",
        "* La vamos a renombrar como np (por convención).\n",
        "* Si no lo hacemos, debemos usar numpy antes de algún método que forme parte de dicha librería."
      ],
      "metadata": {
        "id": "7PptKheN26OI"
      }
    },
    {
      "cell_type": "code",
      "source": [
        "# EJEMPLO DE CREACIÓN DE UN ARRAY UNIDIMENSIONAL\n",
        "\n",
        "# Importar librería\n",
        "import numpy as np\n",
        "\n",
        "# Crear un array unidimensional\n",
        "array_1d = np.array([1, 2, 3, 4]) # Usamos np.array()\n",
        "print(\"Array unidimensional:\", array_1d)\n",
        "\n",
        "# Ver el tipo de dato del array\n",
        "print (\"El tipo de dato es:\", type(array_1d)) # Usamos type()\n",
        "\n",
        "# Mostar el primer elemento del array\n",
        "print (\"Primer elemento del array:\", array_1d[0]) #Muestra elemento 1\n",
        "\n",
        "# Mostar algunos elementos del array\n",
        "print (\"Elementos 2 y 3 del array:\", array_1d[1:3]) # Igual que en una lista\n"
      ],
      "metadata": {
        "id": "95AgDlnXMIGa"
      },
      "execution_count": null,
      "outputs": []
    },
    {
      "cell_type": "markdown",
      "source": [
        "### **Crear un array de dos dimensiones**"
      ],
      "metadata": {
        "id": "2Zaadl-H8b9g"
      }
    },
    {
      "cell_type": "markdown",
      "source": [
        "* Un array bidimensional se asemeja a una tabla o matriz con filas y columnas.\n",
        "* Aquí hay dos niveles de corchetes.\n",
        "\n",
        "\n"
      ],
      "metadata": {
        "id": "zUPEsb6-b44J"
      }
    },
    {
      "cell_type": "code",
      "source": [
        "# EJEMPLO DE CREACIÓN DE UN ARRAY DE DOS DIMENSIONES\n",
        "\n",
        "# Importar librería\n",
        "import numpy as np\n",
        "\n",
        "# Crear un array bidimensional (matriz)\n",
        "array_2d = np.array([[1, 2, 3], [4, 5, 6], [7,8,9]])\n",
        "print(\"Array bidimensional:\\n\", array_2d)\n",
        "\n",
        "# Mostrar primera fila del array 2d\n",
        "print (\"Primera fila del array 2d:\\n\",array_2d[0])\n",
        "\n",
        "# Mostrar segunda fila del array 2d\n",
        "print (\"Segunda fila del array 2d:\\n\",array_2d[1])\n",
        "\n",
        "# Mostrar tercera fila del array 2d\n",
        "print (\"Tercera fila del array 2d:\\n\",array_2d[2])\n",
        "\n",
        "# Mostar primera columna del array 2d\n",
        "print (\"Primera columna del array 2d:\\n\",array_2d[:,0])\n",
        "\n",
        "# Mostar segunda columna del array 2d\n",
        "print (\"Segunda columna del array 2d:\\n\",array_2d[:,1])\n",
        "\n",
        "# Mostrar tercera columna del array 2d\n",
        "print (\"Tercera columna del array 2d:\\n\",array_2d[:,2])\n",
        "\n",
        "# Mostar un elemento almacenado en una fila del array 2d\n",
        "print (\"Elemento [1, 2] en el array 2d:\\n\", array_2d[1, 2])\n",
        "\n",
        "# Mostrar los últimos dos elementos almacenados en la última fila del array 2d\n",
        "print (\"Dos últimos elementos almacenados en fila 2:\\n\",array_2d[2,1:])\n",
        "\n",
        "# Mostrar los últimos dos elementos almacenados en la última columna del array 2d\n",
        "print (\"Dos últimos elementos almacenados en columna 2:\\n\",array_2d[1:,2])"
      ],
      "metadata": {
        "id": "ti_ZWPXVLmib"
      },
      "execution_count": null,
      "outputs": []
    },
    {
      "cell_type": "markdown",
      "source": [
        "### **Crear un array de tres dimensiones**\n"
      ],
      "metadata": {
        "id": "glb6aCTscjsp"
      }
    },
    {
      "cell_type": "markdown",
      "source": [
        "* Un array tridimensional puede imaginarse como una colección de matrices (2D).\n",
        "* Tendremos tres niveles de corchetes."
      ],
      "metadata": {
        "id": "WwDe-TcHAWTg"
      }
    },
    {
      "cell_type": "code",
      "source": [
        "# EJEMPLO DE CREACIÓN DE UN ARRAY DE TRES DIMENSIONES QUE CONTIENE 2 MATRICES 2D\n",
        "\n",
        "# Importar librería\n",
        "import numpy as np\n",
        "\n",
        "# Crear un array de tres dimensiones\n",
        "array_3d = np.array([[[1, 2, 3], [4, 5, 6]],[[7, 8, 9], [10, 11,12]]])\n",
        "\n",
        "# Mostrar todo el array 3d\n",
        "print(\"Array tridimensional:\\n\", array_3d)\n",
        "\n",
        "# Mostar primera matriz del array 3d\n",
        "print (\"Primera matriz del array 3d:\\n\",array_3d[0])\n",
        "\n",
        "# Mostar segunda matriz del array 3d\n",
        "print (\"Segunda matriz del array 3d:\\n\",array_3d[1])\n",
        "\n",
        "# Mostar primera fila de la matriz 1\n",
        "print (\"Primera fila de la matriz 1 del array 3d:\\n\",array_3d[0][0])\n",
        "\n",
        "# Mostar segunda fila de la matriz 1\n",
        "print (\"Segunda fila de la matriz 1 del array 3d:\\n\",array_3d[0][1])\n",
        "\n",
        "# Mostrar toda la columna 1 de la matriz 2\n",
        "print (\"Columna 1 de la matriz 2 del array 3d:\\n\",array_3d[1][:,1])\n",
        "\n",
        "# Mostrar toda la fila 1 de la matriz 2\n",
        "print (\"Fila 1 de la matriz 2 del array 3d:\\n\",array_3d[1][1,:])\n",
        "\n",
        "# Mostar el primer elemento de la matriz 1\n",
        "print (\"Primer elemento de la matriz 1 del array 3d:\\n\",array_3d[0][0][0])\n",
        "\n",
        "# Mostar un elemento almacenado en una fila del array 3d\n",
        "print (\"Elemento [1, 1, 2] en el array 3:\\n\", array_3d[1, 1, 2])\n",
        "\n",
        "# Mostar los dos últimos elementos de la fila 1 de la matriz 2\n",
        "print (\"Dos últimos elementos de fila 2 en matriz 2 del array 3:\\n\", array_3d[1][1][1:])\n",
        "\n",
        "# Mostar los dos últimos elementos de la columna 3 de la matriz 2\n",
        "print (\"Dos últimos elementos de columna 3 en matriz 2 del array 3:\\n\", array_3d[1][:,2])\n"
      ],
      "metadata": {
        "id": "4kjfzQPHgp3F"
      },
      "execution_count": null,
      "outputs": []
    },
    {
      "cell_type": "code",
      "source": [
        "# EJEMPLO DE CREACIÓN DE UN ARRAY DE TRES DIMENSIONES QUE CONTIENE TRES MATRICES 2D\n",
        "\n",
        "# Importar librería\n",
        "import numpy as np\n",
        "\n",
        "# Representación 3D: Imagen de 3 filas y 5 columnas con 3 canales de color (RGB)\n",
        "array_3d1 = np.array([[[255, 0, 0], [255, 255, 0], [0, 255, 0], [0, 255, 255], [0, 0, 255]],\n",
        "    [[100, 100, 100], [120, 120, 120], [140, 140, 140], [160, 160, 160], [180, 180, 180]],\n",
        "    [[200, 200, 200], [220, 220, 220], [240, 240, 240], [255, 255, 255], [0, 0, 0]]\n",
        "])\n",
        "\n",
        "# Mostrar todo el array 3d\n",
        "print(\"Array tridimensional:\\n\", array_3d1)\n",
        "\n",
        "# Mostar primera matriz del array 3d\n",
        "print (\"Primera matriz del array 3d:\\n\",array_3d1[0])\n",
        "\n",
        "# Mostar segunda matriz del array 3d\n",
        "print (\"Segunda matriz del array 3d:\\n\",array_3d1[1])\n",
        "\n",
        "# Mostar primera fila de la matriz 1\n",
        "print (\"Primera fila de la matriz 1 del array 3d:\\n\",array_3d1[0][0])\n",
        "\n",
        "# Mostar segunda fila de la matriz 1\n",
        "print (\"Segunda fila de la matriz 1 del array 3d:\\n\",array_3d1[0][1])\n",
        "\n",
        "# Mostrar toda la columna 1 de la matriz 2\n",
        "print (\"Columna 1 de la matriz 2 del array 3d:\\n\",array_3d1[1][:,1])\n",
        "\n",
        "# Mostrar toda la fila 1 de la matriz 2\n",
        "print (\"Fila 1 de la matriz 2 del array 3d:\\n\",array_3d1[1][1,:])\n",
        "\n",
        "# Mostar el primer elemento de la matriz 1\n",
        "print (\"Primer elemento de la matriz 1 del array 3d:\\n\",array_3d1[0][0][0])\n",
        "\n",
        "# Mostar un elemento almacenado en una fila del array 3d\n",
        "print (\"Elemento [1, 1, 2] en el array 3:\\n\", array_3d1[1, 1, 2])\n",
        "\n",
        "# Mostar los dos últimos elementos de la fila 1 de la matriz 2\n",
        "print (\"Dos últimos elementos de fila 2 en matriz 2 del array 3:\\n\", array_3d1[1][1][1:])\n",
        "\n",
        "# Mostar los dos últimos elementos de la columna 3 de la matriz 2\n",
        "print (\"Dos últimos elementos de columna 3 en matriz 2 del array 3:\\n\", array_3d1[1][:,2][3:])\n"
      ],
      "metadata": {
        "id": "4yyqcGwuooYh"
      },
      "execution_count": null,
      "outputs": []
    },
    {
      "cell_type": "markdown",
      "source": [
        "## **Operaciones con arreglos**"
      ],
      "metadata": {
        "id": "dqmNkJMrIC6L"
      }
    },
    {
      "cell_type": "markdown",
      "source": [
        "### **Conocer el número de dimensiones del array usando ndim**"
      ],
      "metadata": {
        "id": "kU9xS2hzkxDT"
      }
    },
    {
      "cell_type": "code",
      "source": [
        "### Conocer el número de dimensiones usando ndim\n",
        "print(\"Dimensión del array unidimensional:\", array_1d.ndim)\n",
        "print(\"Dimensión del array bidimensional:\", array_2d.ndim)\n",
        "print(\"Dimensión del array tridimensional:\", array_3d1.ndim)\n",
        "print(\"Dimensión primera matriz  array tridimensional:\", array_3d1[0].ndim) # dimensión de la primera matriz 2d\n",
        "print(\"Dimensión segunda matriz array tridimensional:\", array_3d1[1].ndim) # dimensión de la segunda matriz 2d\n",
        "print(\"Dimensión tercera matriz array tridimensional:\", array_3d1[2].ndim) # dimensión de la tercera matriz 2d"
      ],
      "metadata": {
        "id": "iBnAdCn-PKGo"
      },
      "execution_count": null,
      "outputs": []
    },
    {
      "cell_type": "markdown",
      "source": [
        "### **Conocer el tamaño del array usando shape y size**"
      ],
      "metadata": {
        "id": "3xN7FuSJnA3G"
      }
    },
    {
      "cell_type": "code",
      "source": [
        "### Conocer tamaño del array 1d y forma, usando size y shape:\n",
        "print(\"Tamaño del array 1D:\", array_1d.size)\n",
        "print(\"Forma del array 1D:\", array_1d.shape)\n",
        "### Conocer tamaño del array 2d y forma, usando size y shape:\n",
        "print(\"Tamaño del array 2D:\", array_2d.size)\n",
        "print(\"Forma del array 2D:\", array_2d.shape)\n",
        "### Conocer tamaño del array 3d y forma, usando size y shape:\n",
        "print(\"Tamaño del array 3D:\", array_3d1.size)\n",
        "print(\"Forma del array 3D:\", array_3d1.shape)\n",
        "print(\"Tamaño del array 3D1:\", array_3d1.size)\n",
        "print(\"Forma del array 3D1:\", array_3d1.shape)\n"
      ],
      "metadata": {
        "id": "iOH6sTMyT5uM"
      },
      "execution_count": null,
      "outputs": []
    },
    {
      "cell_type": "markdown",
      "source": [
        "### **Redefinir el tamaño del arreglo usando reshape**"
      ],
      "metadata": {
        "id": "y2iiB71lXijZ"
      }
    },
    {
      "cell_type": "code",
      "source": [
        "# Crear array 2d\n",
        "array_2d = np.array([[1, 2, 3], [4, 5, 6]])\n",
        "print (\"Array 2d:\\n\", array_2d)\n",
        "print(\"Forma del array 2D:\", array_2d.shape)\n",
        "# La forma original tiene la forma (2, 3) o sea, 6 elementos.\n",
        "#Para cambiar la forma, la nueva debe tener también 6 elementos.\n",
        "nuevo_array1 = array_2d.reshape(3,2) #(2,3)\n",
        "print (\"Nuevo array:\\n\", nuevo_array1)\n",
        "print(\"Forma del nuevo array:\", nuevo_array1.shape)\n",
        "nuevo_array2= array_2d.reshape(1,6) #(6,1)\n",
        "print (\"Nuevo array:\\n\", nuevo_array2)\n",
        "print(\"Forma del nuevo array:\", nuevo_array2.shape)\n",
        "\n",
        "\n"
      ],
      "metadata": {
        "id": "iUczzVlCV1Xm"
      },
      "execution_count": null,
      "outputs": []
    },
    {
      "cell_type": "markdown",
      "source": [
        "### **Operaciones matemáticas y estadísticas**\n"
      ],
      "metadata": {
        "id": "Es3lBJtEFqFq"
      }
    },
    {
      "cell_type": "markdown",
      "source": [
        "* Suma — np.sum().\n",
        "* Raíz cuadrada — np.sqrt().\n",
        "* Media — np.mean().\n",
        "* Varianza — np.var().\n",
        "* Desviación estándar — np.std().\n",
        "* Mediana - np.median().\n",
        "* Mínimo - np.min().\n",
        "* Máximo - np.max().\n",
        "\n",
        "> **Contar**\n",
        ">>Contar Elementos Específicos:\n",
        "* np.count_nonzero(condición) para contar elementos que cumplan una condición.\n",
        "* np.sum(condición) para contar cuántas veces aparece un valor específico.\n",
        "* np.count_nonzero con el parámetro axis, para contar elementos en filas o columnas.\n",
        "* np.unique para identificar elementos únicos y su frecuencia."
      ],
      "metadata": {
        "id": "Hv_7BRa7I-xh"
      }
    },
    {
      "cell_type": "code",
      "source": [
        "# Crear array 2d\n",
        "array_2d = np.array([[1, 2, 3, 4],\n",
        "                     [5, 6, 7,8],\n",
        "                     [9,10,11,12]])\n",
        "# Suma de elementos\n",
        "suma = np.sum(array_2d)\n",
        "print(\"Suma de elementos:\", suma)\n",
        "print(\"Suma de elementos primera fila\", np.sum(array_2d[0]))\n",
        "\n",
        "# Raíz cuadrada de elementos\n",
        "raiz_cuadrada = np.round(np.sqrt(array_2d),1) # Pueden probar anteponiendo np.round () para redondear decimales\n",
        "print(\"Raíz cuadrada de elementos:\\n\", raiz_cuadrada)\n",
        "\n",
        "# Media de elementos\n",
        "media = np.mean(array_2d)\n",
        "print(\"Media de elementos:\", media)\n",
        "\n",
        "# Varianza de elementos\n",
        "varianza = np.var(array_2d)\n",
        "print(\"Varianza de elementos:\", varianza)\n",
        "\n",
        "# Mediana de elementos\n",
        "mediana = np.median(array_2d)\n",
        "print(\"Mediana de elementos:\", mediana)\n",
        "\n",
        "# Mediana elementos tercera fila\n",
        "mediana_fila = np.median(array_2d[2])\n",
        "print(\"Mediana de elementos tercera fila:\", mediana_fila)\n",
        "\n",
        "# Suma de primera fila matriz\n",
        "suma_fila = np.sum(array_2d[0])\n",
        "print(\"Suma de la primera fila:\", suma_fila)\n",
        "\n",
        "# Máximo elemento del array\n",
        "maximo = np.max(array_2d)\n",
        "print(\"Máximo elemento del array:\", maximo)\n",
        "\n",
        "# Minimo elemento del array\n",
        "minimo = np.min(array_2d)\n",
        "print(\"Mínimo elemento del array:\", minimo)\n",
        "\n",
        "# Máximo elemento de la primera fila del array\n",
        "maximo_fila = np.max(array_2d[0])\n",
        "print(\"Máximo elemento de la primera fila:\", maximo_fila)\n",
        "\n",
        "# sumar dos arrays\n",
        "array_1 = np.array([1, 2, 3])\n",
        "array_2 = np.array([4, 5, 6])\n",
        "suma_arrays = array_1 + array_2\n",
        "print(\"Suma de arrays:\", suma)\n",
        "\n",
        "# Multiplicación de arrays\n",
        "array_1 = np.array([1, 2, 3])\n",
        "array_2 = np.array([4, 5, 6])\n",
        "multiplicacion_arrays = array_1 * array_2\n",
        "print(\"Multiplicación de arrays:\", multiplicacion_arrays)\n",
        "\n"
      ],
      "metadata": {
        "id": "HQgPUScTJkJw"
      },
      "execution_count": null,
      "outputs": []
    },
    {
      "cell_type": "code",
      "source": [
        "# OTRO EJEMPLO USANDO AXIS\n",
        "# Array de ejemplo\n",
        "array_2d= np.array([[1, 2, 3, 4],\n",
        "                    [5, 6, 7,8],\n",
        "                    [9,10,11,12]])\n",
        "\n",
        "# Suma a lo largo del eje 0 (colapsa filas, opera sobre columnas)\n",
        "sum_axis0 = np.sum(array_2d, axis=0)\n",
        "print(\"Suma a lo largo de axis=0 (columnas):\", sum_axis0)  # Salida: [15 18 21 24]\n",
        "\n",
        "# Suma a lo largo del eje 1 (colapsa columnas, opera sobre filas)\n",
        "sum_axis1 = np.sum(array_2d, axis=1)\n",
        "print(\"Suma a lo largo de axis=1 (filas):\", sum_axis1)  # Salida: [ 10 26 42]\n"
      ],
      "metadata": {
        "id": "55qkJshsUBRx"
      },
      "execution_count": null,
      "outputs": []
    },
    {
      "cell_type": "code",
      "source": [
        "# CONTAR ELEMENTOS DEL ARRAY\n",
        "\n",
        "import numpy as np\n",
        "\n",
        "# Crear un array\n",
        "array = np.array([[1, 2, 3,1], [4, 5, 6,4]])\n",
        "# Contar todos los elementos\n",
        "total_elementos = array.size\n",
        "print(\"Total de elementos:\", total_elementos)\n",
        "\n",
        "\n",
        "# Contar elementos mayores que 3\n",
        "contador_mayores = np.count_nonzero(array > 3)\n",
        "print(\"Cantidad de elementos mayores que 3:\", contador_mayores)\n",
        "\n",
        "# Contar cuántas veces aparece el número 2\n",
        "contador_dos = np.sum(array == 2)\n",
        "print(\"Cantidad de veces que aparece el 2:\", contador_dos)\n",
        "\n",
        "\n",
        "# Contar elementos mayores que 2 por fila\n",
        "contador_filas = np.count_nonzero(array > 2, axis=1)\n",
        "print(\"Elementos mayores que 2 por fila:\", contador_filas)\n",
        "\n",
        "\n",
        "# Contar elementos únicos\n",
        "valores, frecuencias = np.unique(array, return_counts=True)\n",
        "print(\"Valores únicos:\", valores)\n",
        "print(\"Frecuencias:\", frecuencias)\n",
        "\n",
        "\n",
        "\n"
      ],
      "metadata": {
        "id": "6qdwBD7x_6rL"
      },
      "execution_count": null,
      "outputs": []
    },
    {
      "cell_type": "markdown",
      "source": [
        "### **Filtrar datos**"
      ],
      "metadata": {
        "id": "28r5Tp469UtU"
      }
    },
    {
      "cell_type": "markdown",
      "source": [
        "Filtrar datos en NumPy es muy útil para extraer subconjuntos de datos que cumplen ciertas condiciones. A continuación, veremos cómo hacerlo con ejemplos para arreglos de 2 y 3 dimensiones."
      ],
      "metadata": {
        "id": "OoQLYbbl9eP5"
      }
    },
    {
      "cell_type": "code",
      "source": [
        "# Ejemplo 1: Filtrar Elementos en un Arreglo de 2 Dimensiones\n",
        "# Supongamos que tenemos un arreglo con datos de estudiantes: filas representan estudiantes y columnas representan sus notas\n",
        "#en Matemáticas, Lenguaje y Ciencias.\n",
        "\n",
        "import numpy as np\n",
        "\n",
        "# Crear un arreglo de ejemplo (2D)\n",
        "datos_2d = np.array([\n",
        "    [38.08, 70.12, 19.33],  # Estudiante 1\n",
        "    [95.12, 54.07, 54.65],  # Estudiante 2\n",
        "    [73.47, 31.64, 87.42],  # Estudiante 3\n",
        "    [60.27, 81.57, 73.49],  # Estudiante 4\n",
        "])\n",
        "\n",
        "# Filtrar todos los datos que cumplan una condición\n",
        "array_booleano = datos_2d > 30\n",
        "print(\"Array booleano:\\n\", array_booleano) # ¿Qué significa la salida?\n",
        "# Mostar los datos que cumplen la condición\n",
        "print(\"Aplicando el filtro para elementos mayores a 30:\\n\", datos_2d[array_booleano])\n",
        "\n",
        "# Filtrar estudiantes con notas en Matemáticas mayores a 50\n",
        "filtro_matematicas = datos_2d[:, 0] > 50  # Columna 0 es Matemáticas\n",
        "print (\"Filtro matemáticas\", filtro_matematicas)\n",
        "print(\"Estudiantes con nota en Matemáticas > 50:\\n\", datos_2d[filtro_matematicas])\n",
        "\n",
        "# Filtrar estudiantes con Ciencias (columna 2) entre 20 y 80\n",
        "filtro_ciencias = (datos_2d[:, 2] > 20) & (datos_2d[:, 2] < 80)\n",
        "print (\"Filtro ciencias\", filtro_ciencias)\n",
        "print(\"Estudiantes con nota en Ciencias entre 20 y 80:\\n\", datos_2d[filtro_ciencias])\n",
        "\n"
      ],
      "metadata": {
        "id": "lgpbnomA9tQe"
      },
      "execution_count": null,
      "outputs": []
    },
    {
      "cell_type": "code",
      "source": [
        "# Ejemplo 2: Filtrar Elementos en un Arreglo de 3 Dimensiones\n",
        "# En un arreglo 3D, cada capa puede representar un conjunto de datos,\n",
        "# como diferentes escuelas, y cada fila y columna los datos de los estudiantes.\n",
        "# Crear un arreglo de ejemplo (3D)\n",
        "datos_3d = np.array([\n",
        "    [  # Escuela 1\n",
        "        [38.08, 70.12, 19.33],  # Estudiante 1\n",
        "        [95.12, 54.07, 54.65],  # Estudiante 2\n",
        "    ],\n",
        "    [  # Escuela 2\n",
        "        [73.47, 31.64, 87.42],  # Estudiante 1\n",
        "        [60.27, 81.57, 73.49],  # Estudiante 2\n",
        "    ]\n",
        "])\n",
        "\n",
        "# Filtrar datos donde todas las notas sean mayores a 30\n",
        "filtro_general = np.all(datos_3d > 30, axis=2) # Entrega un arreglo booleano con True o False\n",
        "print (\"Veamos el array con el filtro:\\n\", filtro_general)\n",
        "print(\"Ahora apliquemos el filtro para ver a los estudiantes con todas las notas > 30:\\n\", datos_3d[filtro_general])\n",
        "# Por qué no basta con mostrar filtro_general directamente\n",
        "# filtro_general no contiene los datos filtrados, sino un array de booleanos:\n",
        "# filtro_general es un array de True y False que indica, para cada estudiante, si cumple la condición de que todas sus notas son mayores a 30.\n",
        "# Este array no incluye los valores de las notas, sino únicamente la evaluación lógica para cada estudiante.\n",
        "\n",
        "############ No olvidar############:\n",
        "# Primera dimensión (axis=0): Representa escuelas (tamaño 2: Escuela 1 y Escuela 2).\n",
        "# Segunda dimensión (axis=1): Representa los estudiantes dentro de cada escuela (tamaño 2: Estudiante 1 y Estudiante 2).\n",
        "# Tercera dimensión (axis=2): Representa las notas de cada estudiante (tamaño 3: Matemáticas, Lenguaje, Ciencias).\n",
        "\n",
        "############# Por qué axis=2#########\n",
        "# Cuando queremos analizar las notas de cada estudiante, trabajamos en la tercera dimensión (axis=2), ya que:\n",
        "# Cada fila del array tridimensional en la segunda dimensión (axis=1) corresponde a un estudiante.\n",
        "# Cada nota dentro de esa fila está en la tercera dimensión (axis=2).\n",
        "# Por lo tanto:\n",
        "# Usar np.all(datos_3d > 30, axis=2) indica que queremos evaluar las notas a lo largo de la tercera dimensión para cada estudiante.\n",
        "\n",
        "# Si evaluamos la forma de datos_3d.shape, tenemos (2, 2, 3), lo que significa:\n",
        "# 2 escuelas (axis=0),\n",
        "# 2 estudiantes por escuela (axis=1),\n",
        "# 3 notas por estudiante (axis=2).\n",
        "\n",
        "# Filtrar estudiantes en la primera escuela con notas en Ciencias > 50\n",
        "filtro_ciencias_escuela1 = datos_3d[0, :, 2] > 50  # Primera escuela, columna Ciencias\n",
        "print(\"Estudiantes en Escuela 1 con nota en Ciencias > 50:\\n\", datos_3d[0][filtro_ciencias_escuela1])\n"
      ],
      "metadata": {
        "id": "poNfWZvrNrt-"
      },
      "execution_count": null,
      "outputs": []
    },
    {
      "cell_type": "markdown",
      "source": [
        "### **Incialización de un array**"
      ],
      "metadata": {
        "id": "b669YyhyoQ1a"
      }
    },
    {
      "cell_type": "markdown",
      "source": [
        "#### **¿Por qué inicializar arrays?**"
      ],
      "metadata": {
        "id": "kNR5p90grzPl"
      }
    },
    {
      "cell_type": "markdown",
      "source": [
        "Inicializar arrays es fundamental para:\n",
        "\n",
        "* Evitar errores de acceso.\n",
        "* Garantizar resultados esperados en cálculos.\n",
        "* Optimizar recursos de memoria y tiempo.\n",
        "* Asegurar valores predeterminados para algoritmos."
      ],
      "metadata": {
        "id": "-qHPx0hxZU-R"
      }
    },
    {
      "cell_type": "markdown",
      "source": [
        "##### **Algunas maneras de inicializar un array**"
      ],
      "metadata": {
        "id": "cMLA3L9Fr59V"
      }
    },
    {
      "cell_type": "markdown",
      "source": [
        "Podemos usar las siguientes opciones para inicializar un array:\n",
        "\n",
        "* np.zeros: crea un arreglo con ceros según el tamaño especificado.  \n",
        "\n",
        "* np.one: crea un arreglo con unos según el tamaño especificado.\n",
        "\n",
        "* np.arange: crea un arreglo con valores específicos usando un rango dado.  \n",
        "\n",
        "* np.random: crea un arreglo con valores aleatorios.\n",
        "\n"
      ],
      "metadata": {
        "id": "BIbz82fqyVuB"
      }
    },
    {
      "cell_type": "code",
      "source": [
        "# Crear arrays con valores específicos usando np.zeros()\n",
        "import numpy as np\n",
        "\n",
        "# Array de una dimensión\n",
        "array_ceros1d = np.zeros(5)\n",
        "print(\"Array de ceros una dimensión:\\n\", array_ceros1d)\n",
        "\n",
        "# Array de dos dimensiones\n",
        "array_ceros2d = np.zeros((3, 3))\n",
        "print(\"Array de ceros dos dimensiones:\\n\", array_ceros2d)\n",
        "\n",
        "# Array de tres dimenesiones\n",
        "array_ceros3d= np.zeros((2, 3, 2))\n",
        "print(\"Array de ceros tres dimensiones:\\n\", array_ceros3d)\n",
        "\n",
        "# Crear arrays con valores específicos usando np.ones()\n",
        "array_unos1 = np.ones(5)\n",
        "print(\"Array de unos una dimensión:\\n\", array_unos1)\n",
        "array_unos2 = np.ones((5,5))\n",
        "print(\"Array de dos varias dimensiones:\\n\", array_unos2)\n",
        "\n",
        "# Crear arrays con valores específicos usando np.arange()\n",
        "array_rango = np.arange(0, 10, 2)\n",
        "print(\"Array con rango:\\n\", array_rango)\n",
        "\n",
        "# Crear arrays usando random\n",
        "array_random = np.random.rand(2)\n",
        "print(\"Array aleatorio:\\n\", array_random)\n",
        "\n",
        "\n",
        "####Recomendado desde la versión 1.7 de Numpy#####\n",
        "# from numpy.random import default_rng\n",
        "# print (default_rng(42).random((2,3)))\n",
        "# print (default_rng(42).random((2,3,2)))\n"
      ],
      "metadata": {
        "id": "ecEej1PQUaWx"
      },
      "execution_count": null,
      "outputs": []
    },
    {
      "cell_type": "markdown",
      "source": [
        "## **Normalización de datos**"
      ],
      "metadata": {
        "id": "6lvZEt74GNnG"
      }
    },
    {
      "cell_type": "markdown",
      "source": [
        ">**¿Qué es?**\n",
        "\n",
        "La normalización en NumPy transforma los datos para que estén en un rango específico, como [0, 1], o para que tengan propiedades estadísticas específicas (como media = 0, desviación estándar = 1).\n",
        "\n",
        ">**¿Para qué se usa?**\n",
        "\n",
        "* Comparar datos en diferentes escalas.\n",
        "* Mejorar la convergencia de algoritmos en aprendizaje automático.\n",
        "* Asegurar uniformidad en cálculos.\n",
        "\n",
        ">**Tipos comunes de normalización:**\n",
        "\n",
        ">>**Min-Max Normalization: Escala los valores al rango [0, 1].**\n",
        "\n",
        "Podemos tener Min-Max global, por fila o por columna.\n",
        "\n",
        "* **Global:** Útil para que los datos estén en un rango común y comparables en todas las dimensiones. Ejemplo: Normalizar datos para algoritmos de aprendizaje automático.\n",
        "* **Por Fila:**Útil si las filas representan diferentes entidades y deseamos normalizar cada una por separado. Ejemplo: Notas de estudiantes, donde queremos ver el desempeño de cada estudiante.\n",
        "* **Por Columna:** Útil si las columnas representan diferentes variables y queremos normalizarlas independientemente. Ejemplo: Datos de múltiples sensores, donde cada sensor tiene su propio rango.\n",
        "* [Fórmula](https://drive.google.com/file/d/1xHQLrHXF5ieYZy5d2WEaP5t7ZRN0ONs1/view?usp=sharing) estándar de normalización.\n",
        "\n",
        ">>**Z-Score Normalization:** Escala los valores para que tengan media 0 y desviación estándar 1.\n",
        "* **Fórmula:** (𝑥−media)/desviación estándar.\n",
        "\n",
        "\n",
        "\n",
        "\n",
        "\n"
      ],
      "metadata": {
        "id": "QrLwAhyzGQ1P"
      }
    },
    {
      "cell_type": "code",
      "source": [
        "# EJEMPLOS DE NORMALIZACIÓN MAX-MIN/Z-SCORE\n",
        "\n",
        "import numpy as np\n",
        "\n",
        "####### Min-Max Normalization#######\n",
        "\n",
        "# Arreglo 1D\n",
        "array_1d = np.array([10, 20, 30, 40])\n",
        "# Min-Max Normalization\n",
        "min_val = np.min(array_1d)\n",
        "max_val = np.max(array_1d)\n",
        "array_minmax = (array_1d - min_val) / (max_val - min_val)\n",
        "print(\"Arreglo Normalizado (Min-Max):\", array_minmax)\n",
        "\n",
        "# Arreglo 2D\n",
        "array_2d = np.array([[10, 20], [30, 40]])\n",
        "# Min-Max Normalization\n",
        "min_val = np.min(array_2d)\n",
        "max_val = np.max(array_2d)\n",
        "array_minmax_2d = (array_2d - min_val) / (max_val - min_val)\n",
        "print(\"Arreglo 2D Normalizado (Min-Max):\\n\", array_minmax_2d)\n",
        "\n",
        "# Arreglo 3D\n",
        "array_3d = np.array([[[10, 20], [30, 40]], [[50, 60], [70, 80]]])\n",
        "# Min-Max Normalization\n",
        "min_val = np.min(array_3d)\n",
        "max_val = np.max(array_3d)\n",
        "array_minmax_3d = (array_3d - min_val) / (max_val - min_val)\n",
        "print(\"Arreglo 3D Normalizado (Min-Max):\\n\", array_minmax_3d)\n",
        "\n",
        "# Min-Max Normalization por columna\n",
        "min_val_col = np.min(array_2d, axis=0)\n",
        "max_val_col = np.max(array_2d, axis=0)\n",
        "array_minmax_col = (array_2d - min_val_col) / (max_val_col - min_val_col)\n",
        "print(\"Normalización Min-Max Por Columna:\\n\", array_minmax_col)\n",
        "\n",
        "# Min-Max Normalization por fila\n",
        "min_val_fila = np.min(array_2d, axis=1).reshape(-1, 1) # ¿Qué pasa si omitimos reshape (-1,1?)\n",
        "max_val_fila = np.max(array_2d, axis=1).reshape(-1, 1)\n",
        "array_minmax_fila = (array_2d - min_val_fila) / (max_val_fila - min_val_fila)\n",
        "print(\"Normalización Min-Max Por Fila:\\n\", array_minmax_fila)\n",
        "\n",
        "\n",
        "####### Z-Score#######\n",
        "\n",
        "# Z-Score Normalization 1D\n",
        "media = np.mean(array_1d)\n",
        "desviacion = np.std(array_1d)\n",
        "array_zscore = (array_1d - media) / desviacion\n",
        "print(\"Arreglo Normalizado (Z-Score) una dimensión:\", array_zscore)\n",
        "\n",
        "# Z-Score Normalization 2D\n",
        "media = np.mean(array_2d)\n",
        "desviacion = np.std(array_2d)\n",
        "array_zscore_2d = (array_2d - media) / desviacion\n",
        "\n",
        "print(\"Arreglo 2D Normalizado (Z-Score):\\n\", array_zscore_2d)\n",
        "\n",
        "# Z-Score Normalization 3D\n",
        "media = np.mean(array_3d)\n",
        "desviacion = np.std(array_3d)\n",
        "array_zscore_3d = (array_3d - media) / desviacion\n",
        "\n",
        "print(\"Arreglo 3D Normalizado (Z-Score):\\n\", array_zscore_3d)\n",
        "\n",
        "\n"
      ],
      "metadata": {
        "id": "rOiW47OeHFGY"
      },
      "execution_count": null,
      "outputs": []
    },
    {
      "cell_type": "markdown",
      "source": [
        "## **Manejo de datos nulos o vacíos**"
      ],
      "metadata": {
        "id": "o2MqRpLAH08k"
      }
    },
    {
      "cell_type": "markdown",
      "source": [
        "### **¿Qué son en el contexto de Numpy?**"
      ],
      "metadata": {
        "id": "rUo38v2GvFrS"
      }
    },
    {
      "cell_type": "markdown",
      "source": [
        "* En el contexto de NumPy, los datos nulos se representan como np.nan (Not a Number).\n",
        "\n",
        "* Estos valores se utilizan para indicar datos faltantes o no disponibles en un arreglo."
      ],
      "metadata": {
        "id": "nbMVOzGtvKx0"
      }
    },
    {
      "cell_type": "markdown",
      "source": [
        "### **¿Para qué se usan?**\n"
      ],
      "metadata": {
        "id": "oBXvzRn-vTZO"
      }
    },
    {
      "cell_type": "markdown",
      "source": [
        "* Indicar datos faltantes: Útil para analizar conjuntos incompletos de datos.\n",
        "\n",
        "* Evitar errores: Las operaciones matemáticas pueden fallar o producir resultados inesperados si no se manejan adecuadamente los datos faltantes."
      ],
      "metadata": {
        "id": "2iM2V6divVEP"
      }
    },
    {
      "cell_type": "markdown",
      "source": [
        "### **Formas de manejar datos nulos**"
      ],
      "metadata": {
        "id": "QO4wH0Mcv9mV"
      }
    },
    {
      "cell_type": "markdown",
      "source": [
        "**Identificar datos nulos:**\n",
        "* Usar **np.isnan(array)** para obtener un arreglo booleano que indica dónde están los valores np.nan.\n",
        "\n",
        "**Eliminar datos nulos:**\n",
        "* Usar máscaras para eliminar filas o columnas con datos faltantes.\n",
        "\n",
        "**Rellenar datos nulos:**\n",
        "* Sustituir np.nan por un valor específico como 0, la media, o la mediana del arreglo.\n",
        "\n",
        "**Evitar cálculos con nulos:**\n",
        "* Usar funciones seguras como **np.nanmean** o **np.nanstd**, que omiten automáticamente los valores nulos.\n",
        "\n",
        "**Ejemplos de funciones**\n",
        "* **np.nanmean:** Calcula la media ignorando los valores nulos.\n",
        "* **np.nanstd:** Calcula la desviación estándar ignorando los valores nulos.\n",
        "* **np.nan_to_num:** Reemplaza np.nan con un valor específico (como 0)."
      ],
      "metadata": {
        "id": "ThoD9JHbv-2f"
      }
    },
    {
      "cell_type": "code",
      "source": [
        "# EJEMPLO DE MANEJO DE DATOS NULOS O VACÍOS\n",
        "\n",
        "import numpy as np\n",
        "\n",
        "############# Ejemplo arreaglo 1D ###########\n",
        "# Crear un arreglo 1D con datos nulos\n",
        "array_1d = np.array([1, 2, np.nan, 4, 5])\n",
        "# Identificar datos nulos\n",
        "print(\"Datos nulos (True indica np.nan):\", np.isnan(array_1d))\n",
        "# Rellenar datos nulos con la media\n",
        "array_1d_filled = np.where(np.isnan(array_1d), np.nanmean(array_1d), array_1d)\n",
        "print(\"Arreglo con datos nulos reemplazados por la media:\", array_1d_filled)\n",
        "\n",
        "############# Ejemplo arreaglo 2D ###########\n",
        "# Crear un arreglo 2D con datos nulos\n",
        "array_2d = np.array([[1, 2, np.nan], [4, np.nan, 6]])\n",
        "# Identificar datos nulos\n",
        "print(\"Datos nulos:\\n\", np.isnan(array_2d))\n",
        "# Eliminar filas con datos nulos\n",
        "array_2d_no_nans = array_2d[~np.isnan(array_2d).any(axis=1)] # El operador ~ invierte un arreglo booleano:\n",
        "print(\"Arreglo sin filas con datos nulos:\\n\", array_2d_no_nans)\n",
        "# Rellenar datos nulos con un valor específico (por ejemplo, 0)\n",
        "array_2d_relleno = np.nan_to_num(array_2d, nan=0)\n",
        "print(\"Arreglo con datos nulos reemplazados por 0:\\n\", array_2d_relleno)\n",
        "\n",
        "############# Ejemplo arreaglo 3D ###########\n",
        "\n",
        "# Crear un arreglo 3D con datos nulos\n",
        "array_3d = np.array([[[1, 2, np.nan], [4, 5, 6]],\n",
        "                     [[np.nan, 8, 9], [10, 11, np.nan]]])\n",
        "# Identificar datos nulos\n",
        "print(\"Datos nulos en 3D:\\n\", np.isnan(array_3d))\n",
        "# Rellenar datos nulos con la mediana\n",
        "mediana = np.nanmedian(array_3d)\n",
        "array_3d_relleno = np.where(np.isnan(array_3d), mediana, array_3d)\n",
        "print(\"Arreglo 3D con datos nulos reemplazados por la mediana:\\n\", array_3d_relleno)"
      ],
      "metadata": {
        "id": "FtYuzsbdzd_D"
      },
      "execution_count": null,
      "outputs": []
    },
    {
      "cell_type": "markdown",
      "source": [
        "## **Convertir un archivo csv a un array**"
      ],
      "metadata": {
        "id": "RBgFa3_c6Ikn"
      }
    },
    {
      "cell_type": "markdown",
      "source": [
        "Para leer un archivo csv y convertirlo a un array debemos usar:\n",
        "\n",
        "* np.genfromtxt(): Es una función de NumPy utilizada para leer datos desde un archivo de texto (como CSV) y convertirlos en un arreglo NumPy.\n",
        "\n",
        ">**Parámetros principales:**\n",
        "* estudiantes_notas.csv\": Es el nombre del archivo que contiene los datos. Debe estar en el mismo directorio o proporcionar la ruta completa.\n",
        "* delimiter=\",\": Define el separador de los valores en el archivo CSV. En este caso, una coma (,).\n",
        "* skip_header=1: Omite la primera fila del archivo, que contiene los encabezados (por ejemplo, Estudiante_ID, Nota_Matemáticas...).\n",
        "* usecols=(1, 2, 3): Indica las columnas que queremos cargar, omitiendo la primera (Estudiante_ID, que está en la columna 0). Esto selecciona solo las columnas correspondientes a Nota_Matemáticas, Nota_Lenguaje y Nota_Ciencias.\n",
        "\n",
        "\n"
      ],
      "metadata": {
        "id": "UjW3JQW57XPJ"
      }
    },
    {
      "cell_type": "code",
      "source": [
        "import numpy as np\n",
        "\n",
        "# Cargar los datos desde el archivo CSV (sin la columna 'Estudiante_ID')\n",
        "datos = np.genfromtxt(\"estudiantes_notas.csv\", delimiter=\",\", skip_header=1, usecols=(1, 2, 3))\n",
        "\n",
        "print(\"Datos cargados:\\n\", datos)\n",
        "print(\"Forma de los datos:\", datos.shape)\n",
        "\n"
      ],
      "metadata": {
        "id": "4ZCyxpCt6L8y"
      },
      "execution_count": null,
      "outputs": []
    },
    {
      "cell_type": "markdown",
      "source": [
        "### **Desafío**"
      ],
      "metadata": {
        "id": "eFySSjOl9Faa"
      }
    },
    {
      "cell_type": "markdown",
      "source": [
        "* Cargar el archivo estudiantes_notas en su entorno de trabajo.\n",
        "* Cambiar dimensiones: Experimentar con diferentes formas del arreglo.\n",
        "* Normalización: Comparar métodos de normalización (Min-Max y Z-Score).\n",
        "* Operaciones estadísticas: Calcular desviación estándar, promedios, etc.\n",
        "* Filtro de datos: Filtrar estudiantes que cumplan ciertos criterios, como obtener más de 70 en Matemáticas."
      ],
      "metadata": {
        "id": "-B-H9VIs9Hwb"
      }
    }
  ]
}