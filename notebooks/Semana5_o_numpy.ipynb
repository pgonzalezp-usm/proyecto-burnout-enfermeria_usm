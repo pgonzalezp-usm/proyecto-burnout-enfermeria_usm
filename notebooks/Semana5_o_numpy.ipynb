{
 "cells": [
  {
   "cell_type": "markdown",
   "metadata": {
    "id": "6lrLXWHZcvmz"
   },
   "source": [
    "# **Semana 5 Introducción a la programación con Python**"
   ]
  },
  {
   "cell_type": "markdown",
   "metadata": {
    "id": "Xi0DSPWFqgdY"
   },
   "source": [
    "Esta semana analizaremos la libreria Numpy:\n",
    "\n",
    "* ¿Qué es Numpy?\n",
    "* ¿Qué es un arreglo?\n",
    "* Dimensionalidad de los arreglos.\n",
    "* Creación de un arreglo.\n",
    "* Operaciones con arreglos.\n",
    "* Normalización de datos.\n",
    "* Manejo de datos nulos o vacíos.\n",
    "* Convertir un archivo csv a un array.\n"
   ]
  },
  {
   "cell_type": "code",
   "execution_count": null,
   "metadata": {
    "id": "2hLIO4cGmMQR"
   },
   "outputs": [],
   "source": []
  },
  {
   "cell_type": "markdown",
   "metadata": {
    "id": "easX6F6HrHWv"
   },
   "source": [
    "##**¿Qué es Numpy?**"
   ]
  },
  {
   "cell_type": "markdown",
   "metadata": {
    "id": "ES2tHImmrKu8"
   },
   "source": [
    "NumPy (Numerical Python) es una biblioteca de Python que proporciona soporte para trabajar con arreglos multidimensionales y realizar operaciones matemáticas y científicas de manera eficiente.\n",
    "\n",
    "Es una herramienta fundamental en el ecosistema de análisis de datos y machine learning, ya que está optimizada para manejar grandes volúmenes de datos numéricos.\n",
    "\n",
    "**Características:**\n",
    "\n",
    "1. NumPy introduce el tipo de dato **ndarray**, que es una estructura similar a las listas de Python, pero con soporte para múltiples dimensiones y operaciones rápidas.\n",
    "\n",
    "2. Ofrece una amplia gama de funciones para realizar operaciones como suma, promedio, producto, logaritmos, trigonometría, álgebra lineal, etc.\n",
    "\n",
    "3. Permite reestructurar, indexar, filtrar y transformar datos fácilmente.\n",
    "\n",
    "4. Los arreglos de NumPy son más rápidos y consumen menos memoria que las listas de Python.\n",
    "\n",
    "5. Funciona perfectamente con otras bibliotecas populares como Pandas, Matplotlib, y Scikit-learn."
   ]
  },
  {
   "cell_type": "markdown",
   "metadata": {
    "id": "O34JUp2DbEHr"
   },
   "source": [
    "### **¿Por qué Numpy es más rápido que las listas?**"
   ]
  },
  {
   "cell_type": "markdown",
   "metadata": {
    "id": "0g_NOCzwbJhS"
   },
   "source": [
    "**Rendimiento optimizado:**\n",
    "* Los arreglos de NumPy son mucho más rápidos que las listas de Python porque operan con un solo tipo de datos.\n",
    "\n",
    "**Ahorro de memoria:**\n",
    "* Los arreglos de NumPy usan menos memoria que las listas de Python porque almacenan datos del mismo tipo en bloques contiguos.\n",
    "\n",
    "**Operaciones vectorizadas:**\n",
    "* NumPy realiza operaciones matemáticas y lógicas de manera eficiente en todos los elementos del arreglo sin necesidad de bucles.\n",
    "* La vectorización describe la ausencia de cualquier bucle explícito, indexación, etc., en el código; estas cosas ocurren \"detrás de escena\" (con código en lenguaje C).\n"
   ]
  },
  {
   "cell_type": "markdown",
   "metadata": {
    "id": "dulRBTJpgCwH"
   },
   "source": [
    "## **¿Qué es un arreglo?**"
   ]
  },
  {
   "cell_type": "markdown",
   "metadata": {
    "id": "hnaFPNWcgFkN"
   },
   "source": [
    "Un arreglo es una estructura para almacenar y recuperar datos, en que cada celda almacena un elemento de los datos."
   ]
  },
  {
   "cell_type": "markdown",
   "metadata": {
    "id": "-68X4HNnX40r"
   },
   "source": [
    "### **Dimensionalidad de los arreglos**\n",
    "\n",
    "El número de corchetes anidados en un array de NumPy indica sus dimensiones\n",
    "\n",
    "**Visualización:**\n",
    "\n",
    "**1D: \"Una lista simple\"**\n",
    "\n",
    "[1, 2, 3]\n",
    "\n",
    "**2D: Una matriz (o \"listas anidadas\")**\n",
    "\n",
    "[Ejemplo 1 2D](https://drive.google.com/file/d/1qSbqCy0rQDDuXiminHKMe-Boo4MFR2Dc/view?usp=sharing)\n",
    "\n",
    "[Ejemplo 2 2D](https://drive.google.com/file/d/1foye6B9v8XhalVu7UlXca9na3Pf1zguN/view?usp=sharing)\n",
    "\n",
    "\n",
    "\n",
    "**3D: cada matriz 2D va encerrada entre []. Agrupación de matrices 2D**\n",
    "\n",
    "[Ejemplo 1 3D](https://drive.google.com/file/d/1dGAVMaLUpsjqgsup57adc3CP2xbwZj4K/view?usp=sharing)\n",
    "\n",
    "\n",
    "[Ejemplo 2 3D](https://drive.google.com/file/d/1bf3WY0Vqp0p7DJfXH0L0QY2LoWL06WBj/view?usp=sharing)\n",
    "\n",
    "\n",
    "**4D: cada arreglo 3D va encerrado entre [].Agrupación de areglos 3D**\n",
    "\n",
    "[Ejemplo 1 4D](https://drive.google.com/file/d/1TYvH3SnkiGi9rYHwPZe1mtMSfsXSao0i/view?usp=sharing)\n",
    "\n",
    "\n",
    "\n",
    "La mayoría de las matrices de NumPy tienen algunas restricciones. Por ejemplo:\n",
    "\n",
    "* Todos los elementos de la matriz deben ser del mismo tipo de datos.\n",
    "\n",
    "* Una vez creada, el tamaño total de la matriz no puede cambiar.\n",
    "\n",
    "* La forma debe ser “rectangular”, por ejemplo, cada fila de una matriz bidimensional debe tener la misma cantidad de columnas.\n",
    "\n",
    "* Cuando se cumplen estas condiciones, NumPy aprovecha estas características para hacer que la matriz sea más rápida, más eficiente en el uso de la memoria y más conveniente de usar que las estructuras de datos menos restrictivas.\n"
   ]
  },
  {
   "cell_type": "markdown",
   "metadata": {
    "id": "ygd3w56NTHbU"
   },
   "source": [
    "#### **Comprendiendo los ejes del array (axis)**\n",
    "\n"
   ]
  },
  {
   "cell_type": "markdown",
   "metadata": {
    "id": "TP1F7cmMw8Q6"
   },
   "source": [
    "En NumPy, el término axis (eje) se refiere a las \"dimensiones\" a lo largo de las cuales se realizan las operaciones en un array, como sumar, promediar o cambiar la forma.\n",
    "\n",
    "Comprender axis es crucial para manipular y transformar arrays correctamente.\n",
    "\n",
    "**Explicación de los Ejes (axis):**\n",
    "\n",
    "**axis=0 (Eje 0):**\n",
    "* Corresponde a las filas en un array bidimensional (o la \"profundidad\" en un array tridimensional).\n",
    "* Cuando aplicamos una operación a lo largo de axis=0, estamos colapsando las filas y operando sobre las columnas.\n",
    "* Ejemplo: En una operación de suma, sumaríamos a lo largo de cada columna.\n",
    "* Pensemos en axis=0 como \"trabajar verticalmente\".\n",
    "\n",
    "**axis=1 (Eje 1):**\n",
    "* Corresponde a las columnas en un array bidimensional.\n",
    "* Cuando aplicamos una operación a lo largo de axis=1, estamos colapsando las columnas y operando sobre las filas.\n",
    "* Ejemplo: En una operación de suma, sumariamos los elementos de cada fila.\n",
    "* Pensemos en axis=1 como \"trabajar horizontalmente\".\n",
    "\n",
    "**axis=2 (Eje 2):**\n",
    "* Esto aplica para arrays tridimensionales o de mayor dimensión.\n",
    "* En un array tridimensional, axis=2 corresponde al \"tercer nivel de profundidad\", es decir, a través de las \"columnas\" dentro de cada matriz de cada \"nivel\" de profundidad."
   ]
  },
  {
   "cell_type": "markdown",
   "metadata": {
    "id": "JnF8LgUgyR4d"
   },
   "source": [
    "## **Creación de un arreglo**"
   ]
  },
  {
   "cell_type": "markdown",
   "metadata": {
    "id": "u2V0kJvabV9w"
   },
   "source": [
    "### **Crear un array de una dimensión**"
   ]
  },
  {
   "cell_type": "markdown",
   "metadata": {
    "id": "7PptKheN26OI"
   },
   "source": [
    "* Un array unidimensional es simplemente una lista de elementos.\n",
    "* Tiene un solo conjunto de corchetes.\n",
    "* En primer lugar, debemos importar la libreria numpy.\n",
    "* La vamos a renombrar como np (por convención).\n",
    "* Si no lo hacemos, debemos usar numpy antes de algún método que forme parte de dicha librería."
   ]
  },
  {
   "cell_type": "code",
   "execution_count": null,
   "metadata": {
    "id": "95AgDlnXMIGa"
   },
   "outputs": [],
   "source": [
    "# EJEMPLO DE CREACIÓN DE UN ARRAY UNIDIMENSIONAL\n",
    "\n",
    "# Importar librería\n",
    "import numpy as np\n",
    "\n",
    "# Crear un array unidimensional\n",
    "array_1d = np.array([1, 2, 3, 4]) # Usamos np.array()\n",
    "print(\"Array unidimensional:\", array_1d)\n",
    "\n",
    "# Ver el tipo de dato del array\n",
    "print (\"El tipo de dato es:\", type(array_1d)) # Usamos type()\n",
    "\n",
    "# Mostar el primer elemento del array\n",
    "print (\"Primer elemento del array:\", array_1d[0]) #Muestra elemento 1\n",
    "\n",
    "# Mostar algunos elementos del array\n",
    "print (\"Elementos 2 y 3 del array:\", array_1d[1:3]) # Igual que en una lista\n"
   ]
  },
  {
   "cell_type": "markdown",
   "metadata": {
    "id": "2Zaadl-H8b9g"
   },
   "source": [
    "### **Crear un array de dos dimensiones**"
   ]
  },
  {
   "cell_type": "markdown",
   "metadata": {
    "id": "zUPEsb6-b44J"
   },
   "source": [
    "* Un array bidimensional se asemeja a una tabla o matriz con filas y columnas.\n",
    "* Aquí hay dos niveles de corchetes.\n",
    "\n",
    "\n"
   ]
  },
  {
   "cell_type": "code",
   "execution_count": null,
   "metadata": {
    "id": "ti_ZWPXVLmib"
   },
   "outputs": [],
   "source": [
    "# EJEMPLO DE CREACIÓN DE UN ARRAY DE DOS DIMENSIONES\n",
    "\n",
    "# Importar librería\n",
    "import numpy as np\n",
    "\n",
    "# Crear un array bidimensional (matriz)\n",
    "array_2d = np.array([[1, 2, 3], [4, 5, 6], [7,8,9]])\n",
    "print(\"Array bidimensional:\\n\", array_2d)\n",
    "\n",
    "# Mostrar primera fila del array 2d\n",
    "print (\"Primera fila del array 2d:\\n\",array_2d[0])\n",
    "\n",
    "# Mostrar segunda fila del array 2d\n",
    "print (\"Segunda fila del array 2d:\\n\",array_2d[1])\n",
    "\n",
    "# Mostrar tercera fila del array 2d\n",
    "print (\"Tercera fila del array 2d:\\n\",array_2d[2])\n",
    "\n",
    "# Mostar primera columna del array 2d\n",
    "print (\"Primera columna del array 2d:\\n\",array_2d[:,0])\n",
    "\n",
    "# Mostar segunda columna del array 2d\n",
    "print (\"Segunda columna del array 2d:\\n\",array_2d[:,1])\n",
    "\n",
    "# Mostrar tercera columna del array 2d\n",
    "print (\"Tercera columna del array 2d:\\n\",array_2d[:,2])\n",
    "\n",
    "# Mostar un elemento almacenado en una fila del array 2d\n",
    "print (\"Elemento [1, 2] en el array 2d:\\n\", array_2d[1, 2])\n",
    "\n",
    "# Mostrar los últimos dos elementos almacenados en la última fila del array 2d\n",
    "print (\"Dos últimos elementos almacenados en fila 2:\\n\",array_2d[2,1:])\n",
    "\n",
    "# Mostrar los últimos dos elementos almacenados en la última columna del array 2d\n",
    "print (\"Dos últimos elementos almacenados en columna 2:\\n\",array_2d[1:,2])"
   ]
  },
  {
   "cell_type": "markdown",
   "metadata": {
    "id": "glb6aCTscjsp"
   },
   "source": [
    "### **Crear un array de tres dimensiones**\n"
   ]
  },
  {
   "cell_type": "markdown",
   "metadata": {
    "id": "WwDe-TcHAWTg"
   },
   "source": [
    "* Un array tridimensional puede imaginarse como una colección de matrices (2D).\n",
    "* Tendremos tres niveles de corchetes."
   ]
  },
  {
   "cell_type": "code",
   "execution_count": null,
   "metadata": {
    "id": "4kjfzQPHgp3F"
   },
   "outputs": [],
   "source": [
    "# EJEMPLO DE CREACIÓN DE UN ARRAY DE TRES DIMENSIONES QUE CONTIENE 2 MATRICES 2D\n",
    "\n",
    "# Importar librería\n",
    "import numpy as np\n",
    "\n",
    "# Crear un array de tres dimensiones\n",
    "array_3d = np.array([[[1, 2, 3], [4, 5, 6]],[[7, 8, 9], [10, 11,12]]])\n",
    "\n",
    "# Mostrar todo el array 3d\n",
    "print(\"Array tridimensional:\\n\", array_3d)\n",
    "\n",
    "# Mostar primera matriz del array 3d\n",
    "print (\"Primera matriz del array 3d:\\n\",array_3d[0])\n",
    "\n",
    "# Mostar segunda matriz del array 3d\n",
    "print (\"Segunda matriz del array 3d:\\n\",array_3d[1])\n",
    "\n",
    "# Mostar primera fila de la matriz 1\n",
    "print (\"Primera fila de la matriz 1 del array 3d:\\n\",array_3d[0][0])\n",
    "\n",
    "# Mostar segunda fila de la matriz 1\n",
    "print (\"Segunda fila de la matriz 1 del array 3d:\\n\",array_3d[0][1])\n",
    "\n",
    "# Mostrar toda la columna 1 de la matriz 2\n",
    "print (\"Columna 1 de la matriz 2 del array 3d:\\n\",array_3d[1][:,1])\n",
    "\n",
    "# Mostrar toda la fila 1 de la matriz 2\n",
    "print (\"Fila 1 de la matriz 2 del array 3d:\\n\",array_3d[1][1,:])\n",
    "\n",
    "# Mostar el primer elemento de la matriz 1\n",
    "print (\"Primer elemento de la matriz 1 del array 3d:\\n\",array_3d[0][0][0])\n",
    "\n",
    "# Mostar un elemento almacenado en una fila del array 3d\n",
    "print (\"Elemento [1, 1, 2] en el array 3:\\n\", array_3d[1, 1, 2])\n",
    "\n",
    "# Mostar los dos últimos elementos de la fila 1 de la matriz 2\n",
    "print (\"Dos últimos elementos de fila 2 en matriz 2 del array 3:\\n\", array_3d[1][1][1:])\n",
    "\n",
    "# Mostar los dos últimos elementos de la columna 3 de la matriz 2\n",
    "print (\"Dos últimos elementos de columna 3 en matriz 2 del array 3:\\n\", array_3d[1][:,2])\n"
   ]
  },
  {
   "cell_type": "code",
   "execution_count": null,
   "metadata": {
    "id": "4yyqcGwuooYh"
   },
   "outputs": [],
   "source": [
    "# EJEMPLO DE CREACIÓN DE UN ARRAY DE TRES DIMENSIONES QUE CONTIENE TRES MATRICES 2D\n",
    "\n",
    "# Importar librería\n",
    "import numpy as np\n",
    "\n",
    "# Representación 3D: Imagen de 3 filas y 5 columnas con 3 canales de color (RGB)\n",
    "array_3d1 = np.array([[[255, 0, 0], [255, 255, 0], [0, 255, 0], [0, 255, 255], [0, 0, 255]],\n",
    "    [[100, 100, 100], [120, 120, 120], [140, 140, 140], [160, 160, 160], [180, 180, 180]],\n",
    "    [[200, 200, 200], [220, 220, 220], [240, 240, 240], [255, 255, 255], [0, 0, 0]]\n",
    "])\n",
    "\n",
    "# Mostrar todo el array 3d\n",
    "print(\"Array tridimensional:\\n\", array_3d1)\n",
    "\n",
    "# Mostar primera matriz del array 3d\n",
    "print (\"Primera matriz del array 3d:\\n\",array_3d1[0])\n",
    "\n",
    "# Mostar segunda matriz del array 3d\n",
    "print (\"Segunda matriz del array 3d:\\n\",array_3d1[1])\n",
    "\n",
    "# Mostar primera fila de la matriz 1\n",
    "print (\"Primera fila de la matriz 1 del array 3d:\\n\",array_3d1[0][0])\n",
    "\n",
    "# Mostar segunda fila de la matriz 1\n",
    "print (\"Segunda fila de la matriz 1 del array 3d:\\n\",array_3d1[0][1])\n",
    "\n",
    "# Mostrar toda la columna 1 de la matriz 2\n",
    "print (\"Columna 1 de la matriz 2 del array 3d:\\n\",array_3d1[1][:,1])\n",
    "\n",
    "# Mostrar toda la fila 1 de la matriz 2\n",
    "print (\"Fila 1 de la matriz 2 del array 3d:\\n\",array_3d1[1][1,:])\n",
    "\n",
    "# Mostar el primer elemento de la matriz 1\n",
    "print (\"Primer elemento de la matriz 1 del array 3d:\\n\",array_3d1[0][0][0])\n",
    "\n",
    "# Mostar un elemento almacenado en una fila del array 3d\n",
    "print (\"Elemento [1, 1, 2] en el array 3:\\n\", array_3d1[1, 1, 2])\n",
    "\n",
    "# Mostar los dos últimos elementos de la fila 1 de la matriz 2\n",
    "print (\"Dos últimos elementos de fila 2 en matriz 2 del array 3:\\n\", array_3d1[1][1][1:])\n",
    "\n",
    "# Mostar los dos últimos elementos de la columna 3 de la matriz 2\n",
    "print (\"Dos últimos elementos de columna 3 en matriz 2 del array 3:\\n\", array_3d1[1][:,2][3:])\n"
   ]
  },
  {
   "cell_type": "markdown",
   "metadata": {
    "id": "dqmNkJMrIC6L"
   },
   "source": [
    "## **Operaciones con arreglos**"
   ]
  },
  {
   "cell_type": "markdown",
   "metadata": {
    "id": "kU9xS2hzkxDT"
   },
   "source": [
    "### **Conocer el número de dimensiones del array usando ndim**"
   ]
  },
  {
   "cell_type": "code",
   "execution_count": null,
   "metadata": {
    "id": "iBnAdCn-PKGo"
   },
   "outputs": [],
   "source": [
    "### Conocer el número de dimensiones usando ndim\n",
    "print(\"Dimensión del array unidimensional:\", array_1d.ndim)\n",
    "print(\"Dimensión del array bidimensional:\", array_2d.ndim)\n",
    "print(\"Dimensión del array tridimensional:\", array_3d1.ndim)\n",
    "print(\"Dimensión primera matriz  array tridimensional:\", array_3d1[0].ndim) # dimensión de la primera matriz 2d\n",
    "print(\"Dimensión segunda matriz array tridimensional:\", array_3d1[1].ndim) # dimensión de la segunda matriz 2d\n",
    "print(\"Dimensión tercera matriz array tridimensional:\", array_3d1[2].ndim) # dimensión de la tercera matriz 2d"
   ]
  },
  {
   "cell_type": "markdown",
   "metadata": {
    "id": "3xN7FuSJnA3G"
   },
   "source": [
    "### **Conocer el tamaño del array usando shape y size**"
   ]
  },
  {
   "cell_type": "code",
   "execution_count": null,
   "metadata": {
    "id": "iOH6sTMyT5uM"
   },
   "outputs": [],
   "source": [
    "### Conocer tamaño del array 1d y forma, usando size y shape:\n",
    "print(\"Tamaño del array 1D:\", array_1d.size)\n",
    "print(\"Forma del array 1D:\", array_1d.shape)\n",
    "### Conocer tamaño del array 2d y forma, usando size y shape:\n",
    "print(\"Tamaño del array 2D:\", array_2d.size)\n",
    "print(\"Forma del array 2D:\", array_2d.shape)\n",
    "### Conocer tamaño del array 3d y forma, usando size y shape:\n",
    "print(\"Tamaño del array 3D:\", array_3d1.size)\n",
    "print(\"Forma del array 3D:\", array_3d1.shape)\n",
    "print(\"Tamaño del array 3D1:\", array_3d1.size)\n",
    "print(\"Forma del array 3D1:\", array_3d1.shape)\n"
   ]
  },
  {
   "cell_type": "markdown",
   "metadata": {
    "id": "y2iiB71lXijZ"
   },
   "source": [
    "### **Redefinir el tamaño del arreglo usando reshape**"
   ]
  },
  {
   "cell_type": "code",
   "execution_count": null,
   "metadata": {
    "id": "iUczzVlCV1Xm"
   },
   "outputs": [],
   "source": [
    "# Crear array 2d\n",
    "array_2d = np.array([[1, 2, 3], [4, 5, 6]])\n",
    "print (\"Array 2d:\\n\", array_2d)\n",
    "print(\"Forma del array 2D:\", array_2d.shape)\n",
    "# La forma original tiene la forma (2, 3) o sea, 6 elementos.\n",
    "#Para cambiar la forma, la nueva debe tener también 6 elementos.\n",
    "nuevo_array1 = array_2d.reshape(3,2) #(2,3)\n",
    "print (\"Nuevo array:\\n\", nuevo_array1)\n",
    "print(\"Forma del nuevo array:\", nuevo_array1.shape)\n",
    "nuevo_array2= array_2d.reshape(1,6) #(6,1)\n",
    "print (\"Nuevo array:\\n\", nuevo_array2)\n",
    "print(\"Forma del nuevo array:\", nuevo_array2.shape)\n",
    "\n",
    "\n"
   ]
  },
  {
   "cell_type": "markdown",
   "metadata": {
    "id": "Es3lBJtEFqFq"
   },
   "source": [
    "### **Operaciones matemáticas y estadísticas**\n"
   ]
  },
  {
   "cell_type": "markdown",
   "metadata": {
    "id": "Hv_7BRa7I-xh"
   },
   "source": [
    "* Suma — np.sum().\n",
    "* Raíz cuadrada — np.sqrt().\n",
    "* Media — np.mean().\n",
    "* Varianza — np.var().\n",
    "* Desviación estándar — np.std().\n",
    "* Mediana - np.median().\n",
    "* Mínimo - np.min().\n",
    "* Máximo - np.max().\n",
    "\n",
    "> **Contar**\n",
    ">>Contar Elementos Específicos:\n",
    "* np.count_nonzero(condición) para contar elementos que cumplan una condición.\n",
    "* np.sum(condición) para contar cuántas veces aparece un valor específico.\n",
    "* np.count_nonzero con el parámetro axis, para contar elementos en filas o columnas.\n",
    "* np.unique para identificar elementos únicos y su frecuencia."
   ]
  },
  {
   "cell_type": "code",
   "execution_count": null,
   "metadata": {
    "id": "HQgPUScTJkJw"
   },
   "outputs": [],
   "source": [
    "# Crear array 2d\n",
    "array_2d = np.array([[1, 2, 3, 4],\n",
    "                     [5, 6, 7,8],\n",
    "                     [9,10,11,12]])\n",
    "# Suma de elementos\n",
    "suma = np.sum(array_2d)\n",
    "print(\"Suma de elementos:\", suma)\n",
    "print(\"Suma de elementos primera fila\", np.sum(array_2d[0]))\n",
    "\n",
    "# Raíz cuadrada de elementos\n",
    "raiz_cuadrada = np.round(np.sqrt(array_2d),1) # Pueden probar anteponiendo np.round () para redondear decimales\n",
    "print(\"Raíz cuadrada de elementos:\\n\", raiz_cuadrada)\n",
    "\n",
    "# Media de elementos\n",
    "media = np.mean(array_2d)\n",
    "print(\"Media de elementos:\", media)\n",
    "\n",
    "# Varianza de elementos\n",
    "varianza = np.var(array_2d)\n",
    "print(\"Varianza de elementos:\", varianza)\n",
    "\n",
    "# Mediana de elementos\n",
    "mediana = np.median(array_2d)\n",
    "print(\"Mediana de elementos:\", mediana)\n",
    "\n",
    "# Mediana elementos tercera fila\n",
    "mediana_fila = np.median(array_2d[2])\n",
    "print(\"Mediana de elementos tercera fila:\", mediana_fila)\n",
    "\n",
    "# Suma de primera fila matriz\n",
    "suma_fila = np.sum(array_2d[0])\n",
    "print(\"Suma de la primera fila:\", suma_fila)\n",
    "\n",
    "# Máximo elemento del array\n",
    "maximo = np.max(array_2d)\n",
    "print(\"Máximo elemento del array:\", maximo)\n",
    "\n",
    "# Minimo elemento del array\n",
    "minimo = np.min(array_2d)\n",
    "print(\"Mínimo elemento del array:\", minimo)\n",
    "\n",
    "# Máximo elemento de la primera fila del array\n",
    "maximo_fila = np.max(array_2d[0])\n",
    "print(\"Máximo elemento de la primera fila:\", maximo_fila)\n",
    "\n",
    "# sumar dos arrays\n",
    "array_1 = np.array([1, 2, 3])\n",
    "array_2 = np.array([4, 5, 6])\n",
    "suma_arrays = array_1 + array_2\n",
    "print(\"Suma de arrays:\", suma)\n",
    "\n",
    "# Multiplicación de arrays\n",
    "array_1 = np.array([1, 2, 3])\n",
    "array_2 = np.array([4, 5, 6])\n",
    "multiplicacion_arrays = array_1 * array_2\n",
    "print(\"Multiplicación de arrays:\", multiplicacion_arrays)\n",
    "\n"
   ]
  },
  {
   "cell_type": "code",
   "execution_count": null,
   "metadata": {
    "id": "55qkJshsUBRx"
   },
   "outputs": [],
   "source": [
    "# OTRO EJEMPLO USANDO AXIS\n",
    "# Array de ejemplo\n",
    "array_2d= np.array([[1, 2, 3, 4],\n",
    "                    [5, 6, 7,8],\n",
    "                    [9,10,11,12]])\n",
    "\n",
    "# Suma a lo largo del eje 0 (colapsa filas, opera sobre columnas)\n",
    "sum_axis0 = np.sum(array_2d, axis=0)\n",
    "print(\"Suma a lo largo de axis=0 (columnas):\", sum_axis0)  # Salida: [15 18 21 24]\n",
    "\n",
    "# Suma a lo largo del eje 1 (colapsa columnas, opera sobre filas)\n",
    "sum_axis1 = np.sum(array_2d, axis=1)\n",
    "print(\"Suma a lo largo de axis=1 (filas):\", sum_axis1)  # Salida: [ 10 26 42]\n"
   ]
  },
  {
   "cell_type": "code",
   "execution_count": null,
   "metadata": {
    "id": "6qdwBD7x_6rL"
   },
   "outputs": [],
   "source": [
    "# CONTAR ELEMENTOS DEL ARRAY\n",
    "\n",
    "import numpy as np\n",
    "\n",
    "# Crear un array\n",
    "array = np.array([[1, 2, 3,1], [4, 5, 6,4]])\n",
    "# Contar todos los elementos\n",
    "total_elementos = array.size\n",
    "print(\"Total de elementos:\", total_elementos)\n",
    "\n",
    "\n",
    "# Contar elementos mayores que 3\n",
    "contador_mayores = np.count_nonzero(array > 3)\n",
    "print(\"Cantidad de elementos mayores que 3:\", contador_mayores)\n",
    "\n",
    "# Contar cuántas veces aparece el número 2\n",
    "contador_dos = np.sum(array == 2)\n",
    "print(\"Cantidad de veces que aparece el 2:\", contador_dos)\n",
    "\n",
    "\n",
    "# Contar elementos mayores que 2 por fila\n",
    "contador_filas = np.count_nonzero(array > 2, axis=1)\n",
    "print(\"Elementos mayores que 2 por fila:\", contador_filas)\n",
    "\n",
    "\n",
    "# Contar elementos únicos\n",
    "valores, frecuencias = np.unique(array, return_counts=True)\n",
    "print(\"Valores únicos:\", valores)\n",
    "print(\"Frecuencias:\", frecuencias)\n",
    "\n",
    "\n",
    "\n"
   ]
  },
  {
   "cell_type": "markdown",
   "metadata": {
    "id": "28r5Tp469UtU"
   },
   "source": [
    "### **Filtrar datos**"
   ]
  },
  {
   "cell_type": "markdown",
   "metadata": {
    "id": "OoQLYbbl9eP5"
   },
   "source": [
    "Filtrar datos en NumPy es muy útil para extraer subconjuntos de datos que cumplen ciertas condiciones. A continuación, veremos cómo hacerlo con ejemplos para arreglos de 2 y 3 dimensiones."
   ]
  },
  {
   "cell_type": "code",
   "execution_count": null,
   "metadata": {
    "id": "lgpbnomA9tQe"
   },
   "outputs": [],
   "source": [
    "# Ejemplo 1: Filtrar Elementos en un Arreglo de 2 Dimensiones\n",
    "# Supongamos que tenemos un arreglo con datos de estudiantes: filas representan estudiantes y columnas representan sus notas\n",
    "#en Matemáticas, Lenguaje y Ciencias.\n",
    "\n",
    "import numpy as np\n",
    "\n",
    "# Crear un arreglo de ejemplo (2D)\n",
    "datos_2d = np.array([\n",
    "    [38.08, 70.12, 19.33],  # Estudiante 1\n",
    "    [95.12, 54.07, 54.65],  # Estudiante 2\n",
    "    [73.47, 31.64, 87.42],  # Estudiante 3\n",
    "    [60.27, 81.57, 73.49],  # Estudiante 4\n",
    "])\n",
    "\n",
    "# Filtrar todos los datos que cumplan una condición\n",
    "array_booleano = datos_2d > 30\n",
    "print(\"Array booleano:\\n\", array_booleano) # ¿Qué significa la salida?\n",
    "# Mostar los datos que cumplen la condición\n",
    "print(\"Aplicando el filtro para elementos mayores a 30:\\n\", datos_2d[array_booleano])\n",
    "\n",
    "# Filtrar estudiantes con notas en Matemáticas mayores a 50\n",
    "filtro_matematicas = datos_2d[:, 0] > 50  # Columna 0 es Matemáticas\n",
    "print (\"Filtro matemáticas\", filtro_matematicas)\n",
    "print(\"Estudiantes con nota en Matemáticas > 50:\\n\", datos_2d[filtro_matematicas])\n",
    "\n",
    "# Filtrar estudiantes con Ciencias (columna 2) entre 20 y 80\n",
    "filtro_ciencias = (datos_2d[:, 2] > 20) & (datos_2d[:, 2] < 80)\n",
    "print (\"Filtro ciencias\", filtro_ciencias)\n",
    "print(\"Estudiantes con nota en Ciencias entre 20 y 80:\\n\", datos_2d[filtro_ciencias])\n",
    "\n"
   ]
  },
  {
   "cell_type": "code",
   "execution_count": null,
   "metadata": {
    "id": "poNfWZvrNrt-"
   },
   "outputs": [],
   "source": [
    "# Ejemplo 2: Filtrar Elementos en un Arreglo de 3 Dimensiones\n",
    "# En un arreglo 3D, cada capa puede representar un conjunto de datos,\n",
    "# como diferentes escuelas, y cada fila y columna los datos de los estudiantes.\n",
    "# Crear un arreglo de ejemplo (3D)\n",
    "datos_3d = np.array([\n",
    "    [  # Escuela 1\n",
    "        [38.08, 70.12, 19.33],  # Estudiante 1\n",
    "        [95.12, 54.07, 54.65],  # Estudiante 2\n",
    "    ],\n",
    "    [  # Escuela 2\n",
    "        [73.47, 31.64, 87.42],  # Estudiante 1\n",
    "        [60.27, 81.57, 73.49],  # Estudiante 2\n",
    "    ]\n",
    "])\n",
    "\n",
    "# Filtrar datos donde todas las notas sean mayores a 30\n",
    "filtro_general = np.all(datos_3d > 30, axis=2) # Entrega un arreglo booleano con True o False\n",
    "print (\"Veamos el array con el filtro:\\n\", filtro_general)\n",
    "print(\"Ahora apliquemos el filtro para ver a los estudiantes con todas las notas > 30:\\n\", datos_3d[filtro_general])\n",
    "# Por qué no basta con mostrar filtro_general directamente\n",
    "# filtro_general no contiene los datos filtrados, sino un array de booleanos:\n",
    "# filtro_general es un array de True y False que indica, para cada estudiante, si cumple la condición de que todas sus notas son mayores a 30.\n",
    "# Este array no incluye los valores de las notas, sino únicamente la evaluación lógica para cada estudiante.\n",
    "\n",
    "############ No olvidar############:\n",
    "# Primera dimensión (axis=0): Representa escuelas (tamaño 2: Escuela 1 y Escuela 2).\n",
    "# Segunda dimensión (axis=1): Representa los estudiantes dentro de cada escuela (tamaño 2: Estudiante 1 y Estudiante 2).\n",
    "# Tercera dimensión (axis=2): Representa las notas de cada estudiante (tamaño 3: Matemáticas, Lenguaje, Ciencias).\n",
    "\n",
    "############# Por qué axis=2#########\n",
    "# Cuando queremos analizar las notas de cada estudiante, trabajamos en la tercera dimensión (axis=2), ya que:\n",
    "# Cada fila del array tridimensional en la segunda dimensión (axis=1) corresponde a un estudiante.\n",
    "# Cada nota dentro de esa fila está en la tercera dimensión (axis=2).\n",
    "# Por lo tanto:\n",
    "# Usar np.all(datos_3d > 30, axis=2) indica que queremos evaluar las notas a lo largo de la tercera dimensión para cada estudiante.\n",
    "\n",
    "# Si evaluamos la forma de datos_3d.shape, tenemos (2, 2, 3), lo que significa:\n",
    "# 2 escuelas (axis=0),\n",
    "# 2 estudiantes por escuela (axis=1),\n",
    "# 3 notas por estudiante (axis=2).\n",
    "\n",
    "# Filtrar estudiantes en la primera escuela con notas en Ciencias > 50\n",
    "filtro_ciencias_escuela1 = datos_3d[0, :, 2] > 50  # Primera escuela, columna Ciencias\n",
    "print(\"Estudiantes en Escuela 1 con nota en Ciencias > 50:\\n\", datos_3d[0][filtro_ciencias_escuela1])\n"
   ]
  },
  {
   "cell_type": "markdown",
   "metadata": {
    "id": "b669YyhyoQ1a"
   },
   "source": [
    "### **Incialización de un array**"
   ]
  },
  {
   "cell_type": "markdown",
   "metadata": {
    "id": "kNR5p90grzPl"
   },
   "source": [
    "#### **¿Por qué inicializar arrays?**"
   ]
  },
  {
   "cell_type": "markdown",
   "metadata": {
    "id": "-qHPx0hxZU-R"
   },
   "source": [
    "Inicializar arrays es fundamental para:\n",
    "\n",
    "* Evitar errores de acceso.\n",
    "* Garantizar resultados esperados en cálculos.\n",
    "* Optimizar recursos de memoria y tiempo.\n",
    "* Asegurar valores predeterminados para algoritmos."
   ]
  },
  {
   "cell_type": "markdown",
   "metadata": {
    "id": "cMLA3L9Fr59V"
   },
   "source": [
    "##### **Algunas maneras de inicializar un array**"
   ]
  },
  {
   "cell_type": "markdown",
   "metadata": {
    "id": "BIbz82fqyVuB"
   },
   "source": [
    "Podemos usar las siguientes opciones para inicializar un array:\n",
    "\n",
    "* np.zeros: crea un arreglo con ceros según el tamaño especificado.  \n",
    "\n",
    "* np.one: crea un arreglo con unos según el tamaño especificado.\n",
    "\n",
    "* np.arange: crea un arreglo con valores específicos usando un rango dado.  \n",
    "\n",
    "* np.random: crea un arreglo con valores aleatorios.\n",
    "\n"
   ]
  },
  {
   "cell_type": "code",
   "execution_count": null,
   "metadata": {
    "id": "ecEej1PQUaWx"
   },
   "outputs": [],
   "source": [
    "# Crear arrays con valores específicos usando np.zeros()\n",
    "import numpy as np\n",
    "\n",
    "# Array de una dimensión\n",
    "array_ceros1d = np.zeros(5)\n",
    "print(\"Array de ceros una dimensión:\\n\", array_ceros1d)\n",
    "\n",
    "# Array de dos dimensiones\n",
    "array_ceros2d = np.zeros((3, 3))\n",
    "print(\"Array de ceros dos dimensiones:\\n\", array_ceros2d)\n",
    "\n",
    "# Array de tres dimenesiones\n",
    "array_ceros3d= np.zeros((2, 3, 2))\n",
    "print(\"Array de ceros tres dimensiones:\\n\", array_ceros3d)\n",
    "\n",
    "# Crear arrays con valores específicos usando np.ones()\n",
    "array_unos1 = np.ones(5)\n",
    "print(\"Array de unos una dimensión:\\n\", array_unos1)\n",
    "array_unos2 = np.ones((5,5))\n",
    "print(\"Array de dos varias dimensiones:\\n\", array_unos2)\n",
    "\n",
    "# Crear arrays con valores específicos usando np.arange()\n",
    "array_rango = np.arange(0, 10, 2)\n",
    "print(\"Array con rango:\\n\", array_rango)\n",
    "\n",
    "# Crear arrays usando random\n",
    "array_random = np.random.rand(2)\n",
    "print(\"Array aleatorio:\\n\", array_random)\n",
    "\n",
    "\n",
    "####Recomendado desde la versión 1.7 de Numpy#####\n",
    "# from numpy.random import default_rng\n",
    "# print (default_rng(42).random((2,3)))\n",
    "# print (default_rng(42).random((2,3,2)))\n"
   ]
  },
  {
   "cell_type": "markdown",
   "metadata": {
    "id": "6lvZEt74GNnG"
   },
   "source": [
    "## **Normalización de datos**"
   ]
  },
  {
   "cell_type": "markdown",
   "metadata": {
    "id": "QrLwAhyzGQ1P"
   },
   "source": [
    ">**¿Qué es?**\n",
    "\n",
    "La normalización en NumPy transforma los datos para que estén en un rango específico, como [0, 1], o para que tengan propiedades estadísticas específicas (como media = 0, desviación estándar = 1).\n",
    "\n",
    ">**¿Para qué se usa?**\n",
    "\n",
    "* Comparar datos en diferentes escalas.\n",
    "* Mejorar la convergencia de algoritmos en aprendizaje automático.\n",
    "* Asegurar uniformidad en cálculos.\n",
    "\n",
    ">**Tipos comunes de normalización:**\n",
    "\n",
    ">>**Min-Max Normalization: Escala los valores al rango [0, 1].**\n",
    "\n",
    "Podemos tener Min-Max global, por fila o por columna.\n",
    "\n",
    "* **Global:** Útil para que los datos estén en un rango común y comparables en todas las dimensiones. Ejemplo: Normalizar datos para algoritmos de aprendizaje automático.\n",
    "* **Por Fila:**Útil si las filas representan diferentes entidades y deseamos normalizar cada una por separado. Ejemplo: Notas de estudiantes, donde queremos ver el desempeño de cada estudiante.\n",
    "* **Por Columna:** Útil si las columnas representan diferentes variables y queremos normalizarlas independientemente. Ejemplo: Datos de múltiples sensores, donde cada sensor tiene su propio rango.\n",
    "* [Fórmula](https://drive.google.com/file/d/1xHQLrHXF5ieYZy5d2WEaP5t7ZRN0ONs1/view?usp=sharing) estándar de normalización.\n",
    "\n",
    ">>**Z-Score Normalization:** Escala los valores para que tengan media 0 y desviación estándar 1.\n",
    "* **Fórmula:** (𝑥−media)/desviación estándar.\n",
    "\n",
    "\n",
    "\n",
    "\n",
    "\n"
   ]
  },
  {
   "cell_type": "code",
   "execution_count": null,
   "metadata": {
    "id": "rOiW47OeHFGY"
   },
   "outputs": [],
   "source": [
    "# EJEMPLOS DE NORMALIZACIÓN MAX-MIN/Z-SCORE\n",
    "\n",
    "import numpy as np\n",
    "\n",
    "####### Min-Max Normalization#######\n",
    "\n",
    "# Arreglo 1D\n",
    "array_1d = np.array([10, 20, 30, 40])\n",
    "# Min-Max Normalization\n",
    "min_val = np.min(array_1d)\n",
    "max_val = np.max(array_1d)\n",
    "array_minmax = (array_1d - min_val) / (max_val - min_val)\n",
    "print(\"Arreglo Normalizado (Min-Max):\", array_minmax)\n",
    "\n",
    "# Arreglo 2D\n",
    "array_2d = np.array([[10, 20], [30, 40]])\n",
    "# Min-Max Normalization\n",
    "min_val = np.min(array_2d)\n",
    "max_val = np.max(array_2d)\n",
    "array_minmax_2d = (array_2d - min_val) / (max_val - min_val)\n",
    "print(\"Arreglo 2D Normalizado (Min-Max):\\n\", array_minmax_2d)\n",
    "\n",
    "# Arreglo 3D\n",
    "array_3d = np.array([[[10, 20], [30, 40]], [[50, 60], [70, 80]]])\n",
    "# Min-Max Normalization\n",
    "min_val = np.min(array_3d)\n",
    "max_val = np.max(array_3d)\n",
    "array_minmax_3d = (array_3d - min_val) / (max_val - min_val)\n",
    "print(\"Arreglo 3D Normalizado (Min-Max):\\n\", array_minmax_3d)\n",
    "\n",
    "# Min-Max Normalization por columna\n",
    "min_val_col = np.min(array_2d, axis=0)\n",
    "max_val_col = np.max(array_2d, axis=0)\n",
    "array_minmax_col = (array_2d - min_val_col) / (max_val_col - min_val_col)\n",
    "print(\"Normalización Min-Max Por Columna:\\n\", array_minmax_col)\n",
    "\n",
    "# Min-Max Normalization por fila\n",
    "min_val_fila = np.min(array_2d, axis=1).reshape(-1, 1) # ¿Qué pasa si omitimos reshape (-1,1?)\n",
    "max_val_fila = np.max(array_2d, axis=1).reshape(-1, 1)\n",
    "array_minmax_fila = (array_2d - min_val_fila) / (max_val_fila - min_val_fila)\n",
    "print(\"Normalización Min-Max Por Fila:\\n\", array_minmax_fila)\n",
    "\n",
    "\n",
    "####### Z-Score#######\n",
    "\n",
    "# Z-Score Normalization 1D\n",
    "media = np.mean(array_1d)\n",
    "desviacion = np.std(array_1d)\n",
    "array_zscore = (array_1d - media) / desviacion\n",
    "print(\"Arreglo Normalizado (Z-Score) una dimensión:\", array_zscore)\n",
    "\n",
    "# Z-Score Normalization 2D\n",
    "media = np.mean(array_2d)\n",
    "desviacion = np.std(array_2d)\n",
    "array_zscore_2d = (array_2d - media) / desviacion\n",
    "\n",
    "print(\"Arreglo 2D Normalizado (Z-Score):\\n\", array_zscore_2d)\n",
    "\n",
    "# Z-Score Normalization 3D\n",
    "media = np.mean(array_3d)\n",
    "desviacion = np.std(array_3d)\n",
    "array_zscore_3d = (array_3d - media) / desviacion\n",
    "\n",
    "print(\"Arreglo 3D Normalizado (Z-Score):\\n\", array_zscore_3d)\n",
    "\n",
    "\n"
   ]
  },
  {
   "cell_type": "markdown",
   "metadata": {
    "id": "o2MqRpLAH08k"
   },
   "source": [
    "## **Manejo de datos nulos o vacíos**"
   ]
  },
  {
   "cell_type": "markdown",
   "metadata": {
    "id": "rUo38v2GvFrS"
   },
   "source": [
    "### **¿Qué son en el contexto de Numpy?**"
   ]
  },
  {
   "cell_type": "markdown",
   "metadata": {
    "id": "nbMVOzGtvKx0"
   },
   "source": [
    "* En el contexto de NumPy, los datos nulos se representan como np.nan (Not a Number).\n",
    "\n",
    "* Estos valores se utilizan para indicar datos faltantes o no disponibles en un arreglo."
   ]
  },
  {
   "cell_type": "markdown",
   "metadata": {
    "id": "oBXvzRn-vTZO"
   },
   "source": [
    "### **¿Para qué se usan?**\n"
   ]
  },
  {
   "cell_type": "markdown",
   "metadata": {
    "id": "2iM2V6divVEP"
   },
   "source": [
    "* Indicar datos faltantes: Útil para analizar conjuntos incompletos de datos.\n",
    "\n",
    "* Evitar errores: Las operaciones matemáticas pueden fallar o producir resultados inesperados si no se manejan adecuadamente los datos faltantes."
   ]
  },
  {
   "cell_type": "markdown",
   "metadata": {
    "id": "QO4wH0Mcv9mV"
   },
   "source": [
    "### **Formas de manejar datos nulos**"
   ]
  },
  {
   "cell_type": "markdown",
   "metadata": {
    "id": "ThoD9JHbv-2f"
   },
   "source": [
    "**Identificar datos nulos:**\n",
    "* Usar **np.isnan(array)** para obtener un arreglo booleano que indica dónde están los valores np.nan.\n",
    "\n",
    "**Eliminar datos nulos:**\n",
    "* Usar máscaras para eliminar filas o columnas con datos faltantes.\n",
    "\n",
    "**Rellenar datos nulos:**\n",
    "* Sustituir np.nan por un valor específico como 0, la media, o la mediana del arreglo.\n",
    "\n",
    "**Evitar cálculos con nulos:**\n",
    "* Usar funciones seguras como **np.nanmean** o **np.nanstd**, que omiten automáticamente los valores nulos.\n",
    "\n",
    "**Ejemplos de funciones**\n",
    "* **np.nanmean:** Calcula la media ignorando los valores nulos.\n",
    "* **np.nanstd:** Calcula la desviación estándar ignorando los valores nulos.\n",
    "* **np.nan_to_num:** Reemplaza np.nan con un valor específico (como 0)."
   ]
  },
  {
   "cell_type": "code",
   "execution_count": null,
   "metadata": {
    "id": "FtYuzsbdzd_D"
   },
   "outputs": [],
   "source": [
    "# EJEMPLO DE MANEJO DE DATOS NULOS O VACÍOS\n",
    "\n",
    "import numpy as np\n",
    "\n",
    "############# Ejemplo arreaglo 1D ###########\n",
    "# Crear un arreglo 1D con datos nulos\n",
    "array_1d = np.array([1, 2, np.nan, 4, 5])\n",
    "# Identificar datos nulos\n",
    "print(\"Datos nulos (True indica np.nan):\", np.isnan(array_1d))\n",
    "# Rellenar datos nulos con la media\n",
    "array_1d_filled = np.where(np.isnan(array_1d), np.nanmean(array_1d), array_1d)\n",
    "print(\"Arreglo con datos nulos reemplazados por la media:\", array_1d_filled)\n",
    "\n",
    "############# Ejemplo arreaglo 2D ###########\n",
    "# Crear un arreglo 2D con datos nulos\n",
    "array_2d = np.array([[1, 2, np.nan], [4, np.nan, 6]])\n",
    "# Identificar datos nulos\n",
    "print(\"Datos nulos:\\n\", np.isnan(array_2d))\n",
    "# Eliminar filas con datos nulos\n",
    "array_2d_no_nans = array_2d[~np.isnan(array_2d).any(axis=1)] # El operador ~ invierte un arreglo booleano:\n",
    "print(\"Arreglo sin filas con datos nulos:\\n\", array_2d_no_nans)\n",
    "# Rellenar datos nulos con un valor específico (por ejemplo, 0)\n",
    "array_2d_relleno = np.nan_to_num(array_2d, nan=0)\n",
    "print(\"Arreglo con datos nulos reemplazados por 0:\\n\", array_2d_relleno)\n",
    "\n",
    "############# Ejemplo arreaglo 3D ###########\n",
    "\n",
    "# Crear un arreglo 3D con datos nulos\n",
    "array_3d = np.array([[[1, 2, np.nan], [4, 5, 6]],\n",
    "                     [[np.nan, 8, 9], [10, 11, np.nan]]])\n",
    "# Identificar datos nulos\n",
    "print(\"Datos nulos en 3D:\\n\", np.isnan(array_3d))\n",
    "# Rellenar datos nulos con la mediana\n",
    "mediana = np.nanmedian(array_3d)\n",
    "array_3d_relleno = np.where(np.isnan(array_3d), mediana, array_3d)\n",
    "print(\"Arreglo 3D con datos nulos reemplazados por la mediana:\\n\", array_3d_relleno)"
   ]
  },
  {
   "cell_type": "markdown",
   "metadata": {
    "id": "RBgFa3_c6Ikn"
   },
   "source": [
    "## **Convertir un archivo csv a un array**"
   ]
  },
  {
   "cell_type": "markdown",
   "metadata": {
    "id": "UjW3JQW57XPJ"
   },
   "source": [
    "Para leer un archivo csv y convertirlo a un array debemos usar:\n",
    "\n",
    "* np.genfromtxt(): Es una función de NumPy utilizada para leer datos desde un archivo de texto (como CSV) y convertirlos en un arreglo NumPy.\n",
    "\n",
    ">**Parámetros principales:**\n",
    "* estudiantes_notas.csv\": Es el nombre del archivo que contiene los datos. Debe estar en el mismo directorio o proporcionar la ruta completa.\n",
    "* delimiter=\",\": Define el separador de los valores en el archivo CSV. En este caso, una coma (,).\n",
    "* skip_header=1: Omite la primera fila del archivo, que contiene los encabezados (por ejemplo, Estudiante_ID, Nota_Matemáticas...).\n",
    "* usecols=(1, 2, 3): Indica las columnas que queremos cargar, omitiendo la primera (Estudiante_ID, que está en la columna 0). Esto selecciona solo las columnas correspondientes a Nota_Matemáticas, Nota_Lenguaje y Nota_Ciencias.\n",
    "\n",
    "\n"
   ]
  },
  {
   "cell_type": "code",
   "execution_count": null,
   "metadata": {
    "id": "4ZCyxpCt6L8y"
   },
   "outputs": [],
   "source": [
    "import numpy as np\n",
    "\n",
    "# Cargar los datos desde el archivo CSV (sin la columna 'Estudiante_ID')\n",
    "datos = np.genfromtxt(\"estudiantes_notas.csv\", delimiter=\",\", skip_header=1, usecols=(1, 2, 3))\n",
    "\n",
    "print(\"Datos cargados:\\n\", datos)\n",
    "print(\"Forma de los datos:\", datos.shape)\n",
    "\n"
   ]
  },
  {
   "cell_type": "markdown",
   "metadata": {
    "id": "eFySSjOl9Faa"
   },
   "source": [
    "### **Desafío**"
   ]
  },
  {
   "cell_type": "markdown",
   "metadata": {
    "id": "-B-H9VIs9Hwb"
   },
   "source": [
    "* Cargar el archivo estudiantes_notas en su entorno de trabajo.\n",
    "* Cambiar dimensiones: Experimentar con diferentes formas del arreglo.\n",
    "* Normalización: Comparar métodos de normalización (Min-Max y Z-Score).\n",
    "* Operaciones estadísticas: Calcular desviación estándar, promedios, etc.\n",
    "* Filtro de datos: Filtrar estudiantes que cumplan ciertos criterios, como obtener más de 70 en Matemáticas."
   ]
  },
  {
   "cell_type": "code",
   "execution_count": 10,
   "metadata": {},
   "outputs": [
    {
     "name": "stdout",
     "output_type": "stream",
     "text": [
      "Datos cargados:\n",
      " [(  1., 38.08, 70.12, 19.33) (  2., 95.12, 54.07, 54.65)\n",
      " (  3., 73.47, 31.64, 87.42) (  4., 60.27, 81.57, 73.49)\n",
      " (  5., 16.45, 68.79, 80.85) (  6., 16.44, 17.1 , 66.22)\n",
      " (  7.,  6.75, 91.18, 69.54) (  8., 86.75, 82.43, 85.07)\n",
      " (  9., 60.51, 95.03, 25.72) ( 10., 71.1 , 72.85, 49.45)\n",
      " ( 11.,  3.04, 61.73, 22.9 ) ( 12., 97.02, 42.41, 98.78)\n",
      " ( 13., 83.41, 93.34, 94.46) ( 14., 22.02, 86.74,  4.9 )\n",
      " ( 15., 19.  ,  5.48, 70.85) ( 16., 19.16,  3.61, 92.6 )\n",
      " ( 17., 31.12, 38.27, 18.88) ( 18., 52.95, 81.24, 57.23)\n",
      " ( 19., 43.76, 98.74, 91.63) ( 20., 29.83, 15.89,  4.36)\n",
      " ( 21., 61.57, 59.82, 70.04) ( 22., 14.81, 38.71, 30.44)\n",
      " ( 23., 29.92, 97.02, 92.52) ( 24., 37.27, 84.37, 97.13)\n",
      " ( 25., 46.15, 83.99, 94.48) ( 26., 78.73, 47.4 , 47.95)\n",
      " ( 27., 20.77, 42.07, 86.34) ( 28., 51.91, 28.07, 84.61)\n",
      " ( 29., 59.65,  6.58, 32.59) ( 30.,  5.6 , 86.61, 83.06)\n",
      " ( 31., 61.15, 81.48,  4.66) ( 32., 17.88, 99.97, 60.03)\n",
      " ( 33.,  7.44, 99.67, 23.77) ( 34., 94.94, 55.99, 12.94)\n",
      " ( 35., 96.6 , 77.13,  8.62) ( 36., 81.03, 94.53, 69.93)\n",
      " ( 37., 31.16, 85.12, 34.65) ( 38., 10.67, 25.49, 72.75)\n",
      " ( 39., 68.74, 45.6 ,  7.47) ( 40., 44.58, 13.79, 32.21)\n",
      " ( 41., 13.08, 95.45, 54.41) ( 42., 50.02, 61.01, 79.28)\n",
      " ( 43.,  4.4 , 23.64, 32.56) ( 44., 91.02, 67.5 , 62.96)\n",
      " ( 45., 26.62, 62.19, 88.71) ( 46., 66.59, 36.46, 61.97)\n",
      " ( 47., 31.86, 12.24, 24.06) ( 48., 52.49, 67.49,  3.42)\n",
      " ( 49., 55.12, 52.51, 87.14) ( 50., 19.3 , 77.46,  3.11)\n",
      " ( 51., 96.99, 52.5 , 87.6 ) ( 52., 77.74, 85.37, 53.36)\n",
      " ( 53., 94.01, 55.64, 93.97) ( 54., 89.59, 56.53, 80.08)\n",
      " ( 55., 60.19, 87.79, 99.8 ) ( 56., 92.27, 40.94, 35.72)\n",
      " ( 57.,  9.76, 14.27, 76.95) ( 58., 20.4 ,  3.85, 40.79)\n",
      " ( 59.,  5.48, 75.76, 48.51) ( 60., 33.21, 62.41, 63.12)\n",
      " ( 61., 39.48, 70.7 , 87.49) ( 62., 27.86, 22.08, 98.42)\n",
      " ( 63., 83.05, 14.5 , 77.06) ( 64., 36.32,  2.44, 42.36)\n",
      " ( 65., 28.81, 35.71, 42.71) ( 66., 54.73, 59.4 , 74.02)\n",
      " ( 67., 14.95, 39.83, 24.64) ( 68., 80.42, 44.31, 11.94)\n",
      " ( 69.,  8.38, 90.51, 36.11) ( 70., 98.7 , 35.48, 29.44)\n",
      " ( 71., 77.45, 51.88, 30.33) ( 72., 20.67, 78.58, 24.13)\n",
      " ( 73.,  1.55, 40.26,  5.17) ( 74., 81.73, 62.59,  2.77)\n",
      " ( 75., 70.98, 86.37, 98.78) ( 76., 73.17, 95.  , 43.35)\n",
      " ( 77., 77.36, 15.56, 39.05) ( 78.,  8.33, 92.73, 68.29)\n",
      " ( 79., 36.49, 49.72, 22.61) ( 80., 12.47, 26.57, 95.05)\n",
      " ( 81., 86.45, 46.45, 78.85) ( 82., 62.71, 98.02,  9.85)\n",
      " ( 83., 33.76, 49.77, 42.34) ( 84.,  7.29, 33.55, 88.03)\n",
      " ( 85., 31.79, 63.71, 94.53) ( 86., 33.19, 24.77, 47.27)\n",
      " ( 87., 73.23,  8.51, 61.73) ( 88., 64.12, 13.76, 17.54)\n",
      " ( 89., 88.83, 13.68, 99.13) ( 90., 47.75, 16.04, 23.94)\n",
      " ( 91., 12.84, 14.74, 94.33) ( 92., 71.61, 64.45, 65.32)\n",
      " ( 93., 76.32, 19.01, 61.17) ( 94., 56.57, 35.22, 51.76)\n",
      " ( 95., 77.33, 89.78, 23.84) ( 96., 49.89, 47.92, 18.48)\n",
      " ( 97., 52.75, 67.09, 22.83) ( 98., 43.33, 18.06, 19.46)\n",
      " ( 99.,  3.52, 20.04, 78.18) (100., 11.68,  5.05, 35.66)\n",
      " (101.,  4.11, 17.72,  6.73) (102., 64.  , 28.58, 96.94)\n",
      " (103., 32.12, 18.52, 88.49) (104., 51.35,  9.78, 92.85)\n",
      " (105., 90.85, 12.94, 99.5 ) (106., 25.68, 46.62, 18.22)\n",
      " (107., 41.63, 21.43, 40.23) (108., 75.8 , 37.06, 76.07)\n",
      " (109., 23.65, 50.84, 69.91) (110.,  8.62, 69.35, 16.24)\n",
      " (111., 29.69,  4.89, 81.77) (112., 16.96, 80.14, 23.22)\n",
      " (113., 93.04, 63.16, 23.16) (114., 81.  ,  9.09, 54.16)\n",
      " (115., 63.71, 87.48, 59.7 ) (116., 87.27, 92.17, 58.43)\n",
      " (117., 80.56,  7.05, 10.06) (118., 19.47, 28.41, 87.87)\n",
      " (119., 89.36, 80.81, 27.29) (120., 54.39, 75.08, 13.82)\n",
      " (121., 80.94, 19.27, 88.99) (122., 89.71, 21.73, 95.61)\n",
      " (123., 32.48, 37.68, 86.35) (124., 11.9 , 48.97, 81.14)\n",
      " (125., 23.57, 62.21, 65.87) (126., 43.28, 37.52, 55.53)\n",
      " (127., 81.98, 46.79,  9.61) (128., 86.21, 75.  , 41.44)\n",
      " (129.,  1.69,  4.63, 37.9 ) (130., 51.56, 25.99, 26.72)\n",
      " (131., 42.32, 71.62, 72.62) (132., 22.99, 89.63, 50.09)\n",
      " (133., 12.87, 51.66,  9.02) (134., 34.42, 53.68, 22.8 )\n",
      " (135., 94.35, 11.61, 68.64) (136., 33.  , 45.29,  8.54)\n",
      " (137., 52.36, 53.73, 85.27) (138., 70.6 , 25.  , 50.02)\n",
      " (139., 37.  , 27.66, 48.58) (140., 97.21, 38.35, 59.65)\n",
      " (141., 96.28,  2.99, 82.64) (142., 25.93, 32.89, 35.43)\n",
      " (143., 50.23, 21.93, 68.12) (144., 30.79, 33.42, 57.01)\n",
      " (145., 29.2 , 12.86, 27.44) (146.,  4.65, 89.16, 87.98)\n",
      " (147., 61.35, 59.77, 79.95) (148., 50.77, 68.23, 66.19)\n",
      " (149.,  6.1 , 79.13, 85.21) (150., 28.59, 50.35, 86.86)\n",
      " (151., 90.92,  9.61, 71.13) (152., 24.72, 54.17, 83.86)\n",
      " (153., 15.34, 59.1 , 70.05) (154., 49.46, 74.8 , 68.33)\n",
      " (155., 98.58, 43.73, 62.24) (156., 24.96, 13.63, 75.52)\n",
      " (157., 67.54, 29.09, 16.7 ) (158., 76.4 , 36.95, 88.21)\n",
      " (159., 24.53, 64.95, 87.31) (160., 73.09, 57.51,  3.9 )\n",
      " (161., 37.41, 36.25, 82.76) (162., 63.6 , 98.67, 13.76)\n",
      " (163., 63.72, 60.97, 34.18) (164., 54.04, 24.49, 74.61)\n",
      " (165.,  9.94, 11.08, 16.92) (166., 83.69, 16.13, 81.98)\n",
      " (167., 32.76, 25.35, 83.38) (168., 19.47, 16.91, 51.24)\n",
      " (169.,  5.04, 19.47,  1.63) (170., 59.5 , 29.22, 29.42)\n",
      " (171., 68.08, 18.16, 62.08) (172.,  2.64, 89.78, 98.14)\n",
      " (173., 51.7 ,  8.94, 63.55) (174., 23.42, 52.93, 26.72)\n",
      " (175., 64.87, 41.63, 63.77) (176., 18.26, 98.26, 54.46)\n",
      " (177., 69.4 , 12.09, 78.2 ) (178., 39.29, 40.39, 11.59)\n",
      " (179., 93.74, 96.98, 76.34) (180., 14.61, 86.69, 54.59)\n",
      " (181., 34.77, 81.89, 96.34) (182., 12.23, 26.53, 34.85)\n",
      " (183., 92.54, 17.92, 63.63) (184., 87.86, 67.2 , 93.27)\n",
      " (185., 26.54, 93.01, 11.15) (186., 66.34, 56.12, 93.79)\n",
      " (187., 81.9 , 57.59, 69.1 ) (188., 55.96, 28.72,  7.72)\n",
      " (189., 53.44, 77.18, 30.8 ) (190., 24.94, 19.52, 71.11)\n",
      " (191., 10.22, 33.04,  7.67) (192., 89.82, 43.12, 58.63)\n",
      " (193., 90.14, 51.25, 35.24) (194., 63.68, 25.  , 62.47)\n",
      " (195., 34.56, 12.37,  5.53) (196., 35.57, 61.45, 87.28)\n",
      " (197., 72.87, 29.57, 97.38) (198., 89.81, 58.54, 96.92)\n",
      " (199., 88.82, 16.28, 75.22) (200., 78.21, 48.63, 13.88)\n",
      " (201., 64.56, 53.73, 76.07) (202.,  9.33,  6.13,  3.43)\n",
      " (203., 17.  , 34.32,  3.19) (204., 89.96, 14.31, 33.04)\n",
      " (205., 61.04,  7.27, 49.38) (206.,  1.91, 99.01, 77.27)\n",
      " (207., 11.05, 32.91, 68.65) (208., 66.69, 81.18, 45.14)\n",
      " (209.,  1.5 , 26.21, 28.09) (210., 16.92, 68.47, 99.72)\n",
      " (211., 55.32, 76.26, 43.19) (212., 69.5 , 59.97, 45.69)\n",
      " (213., 65.54, 47.69, 17.2 ) (214., 23.2 , 41.77, 79.69)\n",
      " (215., 71.51, 35.54, 69.67) (216., 24.49, 93.02, 22.86)\n",
      " (217., 33.21, 83.23,  9.16) (218., 74.9 , 96.54, 68.37)\n",
      " (219., 65.31, 13.31, 65.8 ) (220., 85.07, 73.36, 28.05)\n",
      " (221., 66.1 , 93.9 , 95.14) (222., 57.26, 18.94, 15.95)\n",
      " (223., 10.27,  7.58, 43.8 ) (224., 37.4 , 74.37, 94.42)\n",
      " (225., 27.26, 57.87, 42.55) (226., 25.15, 84.34, 64.21)\n",
      " (227., 97.33, 14.84, 40.36) (228., 39.92, 79.73, 28.15)\n",
      " (229., 89.31, 20.96, 98.41) (230., 63.48, 17.2 , 41.52)\n",
      " (231., 79.69, 17.26, 89.52) (232., 50.76, 81.64, 23.77)\n",
      " (233., 58.11, 66.85, 22.1 ) (234., 49.76, 52.78,  4.08)\n",
      " (235., 20.33, 36.52, 65.52) (236., 72.52, 87.84, 37.48)\n",
      " (237., 28.8 , 39.85, 86.57) (238.,  3.41, 81.84, 47.85)\n",
      " (239., 64.9 , 44.47, 96.85) (240., 18.53, 38.32, 19.37)\n",
      " (241., 94.11, 46.81, 86.99) (242., 95.44, 30.84, 77.88)\n",
      " (243., 91.57, 75.01, 77.32) (244., 37.65, 50.77, 84.63)\n",
      " (245.,  2.53, 23.99, 76.34) (246., 92.9 , 90.06, 63.  )\n",
      " (247., 43.39, 39.01, 13.99) (248., 96.7 , 54.81,  4.22)\n",
      " (249., 96.4 , 90.74, 92.16) (250., 85.45, 62.8 , 62.05)\n",
      " (251., 30.15, 12.57, 79.86) (252., 39.12, 94.04, 48.67)\n",
      " (253., 85.26, 63.14, 12.61) (254., 32.38, 34.16, 13.39)\n",
      " (255., 17.78, 14.79, 68.87) (256., 56.12, 79.61, 43.6 )\n",
      " (257., 93.68, 62.39, 20.85) (258., 69.91, 53.81, 49.67)\n",
      " (259., 57.44, 89.5 ,  7.36) (260., 10.62, 79.07, 58.62)\n",
      " (261., 61.89, 16.02, 27.63) (262., 99.02, 31.86, 79.96)\n",
      " (263., 14.87, 25.6 , 31.73) (264., 52.31, 74.65, 46.07)\n",
      " (265., 87.86,  4.32,  2.15) (266., 74.34, 57.42,  8.17)\n",
      " (267., 70.  , 76.48, 39.86) (268., 70.55, 87.8 , 48.51)\n",
      " (269., 36.59, 34.87, 60.4 ) (270., 30.07, 82.3 , 29.87)\n",
      " (271., 81.13, 11.95, 69.8 ) (272., 81.2 , 84.8 , 86.15)\n",
      " (273., 86.84, 13.62, 78.21) (274., 91.41, 40.33,  4.92)\n",
      " (275., 51.62, 79.93, 48.57) (276., 50.65, 15.84, 11.39)\n",
      " (277., 80.03, 23.7 , 24.96) (278., 65.35, 72.5 , 98.68)\n",
      " (279., 70.49, 72.28, 15.11) (280., 79.78, 64.47, 50.39)\n",
      " (281., 89.11, 69.7 , 62.2 ) (282., 34.46, 54.73, 70.54)\n",
      " (283., 38.18, 25.93, 56.41) (284., 10.3 , 35.22,  1.97)\n",
      " (285., 58.25, 18.98, 33.32) (286.,  4.56, 90.94, 52.25)\n",
      " (287., 47.09, 58.76,  9.7 ) (288., 54.72, 40.68, 35.71)\n",
      " (289., 29.37, 46.74,  4.29) (290., 59.49, 94.78,  8.78)\n",
      " (291.,  4.02, 16.18, 40.3 ) (292.,  4.7 , 59.04, 14.14)\n",
      " (293., 82.44, 51.08, 57.19) (294., 36.66, 61.53, 69.26)\n",
      " (295., 13.58,  2.79, 80.26) (296., 52.7 , 87.34, 20.81)\n",
      " (297., 77.23, 93.28, 17.58) (298., 22.37, 56.95, 11.35)\n",
      " (299., 62.67, 69.97, 64.01) (300.,  9.45, 92.33, 70.94)\n",
      " (301.,  6.12, 71.02,  4.13) (302., 53.6 , 16.1 , 93.69)\n",
      " (303., 54.52, 58.05,  6.15) (304., 64.11, 61.06, 54.59)\n",
      " (305., 72.88, 42.99, 71.2 ) (306., 97.61, 73.91, 87.23)\n",
      " (307., 52.11, 93.5 , 71.69) (308., 32.97, 92.63, 80.37)\n",
      " (309., 79.72, 45.63, 34.61) (310., 27.81, 12.21, 81.67)\n",
      " (311., 44.46, 98.5 ,  8.93) (312.,  8.77, 84.05, 89.59)\n",
      " (313.,  3.51, 13.34, 55.21) (314., 96.3 , 92.16, 81.91)\n",
      " (315., 83.76, 87.12, 45.78) (316., 69.9 , 52.36, 64.71)\n",
      " (317., 41.49, 59.54, 53.11) (318., 18.16, 40.5 , 73.43)\n",
      " (319., 16.49,  6.42,  9.08) (320., 25.77, 34.18,  6.97)\n",
      " (321., 55.37, 80.48, 25.46) (322., 71.74,  1.46, 16.79)\n",
      " (323., 66.36, 34.02, 87.31) (324., 28.71, 40.42, 22.7 )\n",
      " (325., 95.53, 54.2 , 97.61) (326., 74.05, 92.07, 34.35)\n",
      " (327., 55.88, 35.29, 19.03) (328., 61.56, 35.35, 79.18)\n",
      " (329., 42.54, 74.01, 66.21) (330., 25.53, 45.77, 50.32)\n",
      " (331., 36.24, 23.24, 55.98) (332., 76.03, 45.79, 72.2 )\n",
      " (333.,  2.42, 14.94, 23.62) (334., 12.49, 18.46, 99.64)\n",
      " (335.,  5.55, 50.34, 97.5 ) (336.,  5.03, 42.47, 65.38)\n",
      " (337., 85.69, 91.57, 20.75) (338., 70.66, 36.88, 68.34)\n",
      " (339., 47.94, 58.48,  8.15) (340., 10.69, 63.59,  4.03)\n",
      " (341., 49.67,  2.3 , 26.51) (342., 47.87, 66.69, 46.8 )\n",
      " (343., 18.15, 18.63, 86.96) (344., 43.95, 96.15, 72.99)\n",
      " (345., 40.45, 15.72, 74.53) (346., 61.97, 42.05, 43.12)\n",
      " (347., 63.87,  9.45, 35.25) (348.,  5.49, 99.69, 37.73)\n",
      " (349., 38.09, 50.72, 98.78) (350., 62.96, 59.94,  4.97)\n",
      " (351., 50.81,  7.64, 86.84) (352., 85.79, 75.25, 58.29)\n",
      " (353., 66.21, 21.78, 44.42) (354., 17.13, 89.91, 72.8 )\n",
      " (355.,  7.99, 21.31, 49.18) (356., 64.6 , 19.88, 87.47)\n",
      " (357.,  3.62,  4.62, 90.17) (358., 58.99, 47.73, 42.75)\n",
      " (359., 94.08, 56.92, 28.41) (360., 57.97,  7.51, 59.64)\n",
      " (361., 39.43, 77.78, 91.32) (362., 64.69, 45.88, 21.86)\n",
      " (363., 46.37, 52.91, 62.67) (364., 55.02, 44.64, 63.52)\n",
      " (365., 94.21, 40.68, 73.58) (366., 39.22, 56.4 , 14.03)\n",
      " (367., 96.16, 16.37, 71.87) (368., 90.63, 19.01, 90.99)\n",
      " (369., 20.38, 86.32, 18.79) (370.,  7.87, 94.67, 24.52)\n",
      " (371., 10.98, 37.96, 97.17) (372.,  2.8 , 27.8 , 18.92)\n",
      " (373., 10.35, 64.76, 85.58) (374., 68.62, 41.46, 49.74)\n",
      " (375.,  8.05,  3.51, 25.48) (376., 32.58, 16.46, 87.2 )\n",
      " (377., 84.64, 71.88, 45.09) (378.,  3.3 , 66.23, 51.97)\n",
      " (379., 81.63,  3.68, 36.56) (380., 28.9 , 22.98, 59.7 )\n",
      " (381., 12.7 , 23.88, 17.19) (382., 69.98, 67.52, 39.72)\n",
      " (383., 63.27,  2.95, 96.97) (384., 87.87, 11.31, 26.56)\n",
      " (385., 73.77, 80.19, 66.02) (386., 80.54, 18.68, 33.19)\n",
      " (387., 28.92, 65.62, 77.57) (388., 18.57, 24.58, 13.96)\n",
      " (389., 75.31, 10.84, 97.01) (390., 80.88, 25.07, 45.93)\n",
      " (391., 99.06, 72.5 , 24.37) (392., 41.85, 85.71,  8.28)\n",
      " (393., 37.83, 83.19, 17.81) (394., 77.86, 40.32, 52.46)\n",
      " (395., 34.74, 67.14, 34.36) (396., 93.14, 21.29, 83.06)\n",
      " (397., 85.98, 30.02, 43.66) (398., 43.47, 89.74, 25.62)\n",
      " (399., 75.34,  2.29, 62.1 ) (400., 75.7 ,  9.47, 70.97)\n",
      " (401., 11.21, 21.58, 17.54) (402., 90.35,  3.63, 17.59)\n",
      " (403., 51.02, 18.96,  4.63) (404., 82.82, 58.72, 73.9 )\n",
      " (405., 32.68, 42.72, 66.72) (406., 89.66, 89.37, 47.99)\n",
      " (407., 39.53, 81.93, 84.57) (408.,  2.07, 34.84, 80.76)\n",
      " (409., 90.63, 26.68, 58.95) (410., 10.04, 38.59, 86.96)\n",
      " (411., 32.61, 59.44, 21.38) (412., 95.06, 27.54, 12.08)\n",
      " (413., 95.11, 62.79, 27.71) (414., 57.77, 41.53,  6.65)\n",
      " (415., 63.55, 55.65, 53.59) (416., 45.4 , 44.18, 93.72)\n",
      " (417., 30.03, 30.15,  4.9 ) (418., 33.54, 94.9 , 13.09)\n",
      " (419., 67.58, 76.6 , 45.77) (420., 75.49, 14.87, 93.45)\n",
      " (421., 79.37, 86.98, 32.3 ) (422., 79.17, 49.26, 51.22)\n",
      " (423., 10.03, 89.56,  5.12) (424., 49.95, 80.19, 15.69)\n",
      " (425.,  6.7 , 43.1 , 98.68) (426., 55.4 ,  3.22, 96.55)\n",
      " (427., 44.71, 27.6 ,  1.49) (428., 88.88, 54.62, 95.23)\n",
      " (429., 35.74, 63.71, 64.27) (430., 12.59, 26.53, 86.92)\n",
      " (431., 15.16, 14.8 , 46.02) (432., 76.39, 83.66, 52.04)\n",
      " (433., 62.2 , 98.46, 49.4 ) (434., 11.01, 53.04, 67.02)\n",
      " (435.,  9.33, 18.  , 14.83) (436., 70.4 , 27.96,  3.97)\n",
      " (437.,  8.2 ,  2.82, 31.49) (438., 82.36, 91.52, 70.76)\n",
      " (439., 70.92, 12.66, 20.98) (440.,  9.05, 58.08, 67.67)\n",
      " (441.,  9.4 , 28.13, 97.02) (442., 98.68, 55.86, 10.3 )\n",
      " (443., 38.05, 65.49, 67.59) (444., 37.69, 83.14, 44.93)\n",
      " (445., 81.47, 21.44, 86.95) (446., 94.78,  2.09, 18.54)\n",
      " (447., 98.61, 14.55, 69.57) (448., 75.58, 90.1 , 83.97)\n",
      " (449., 38.25, 87.52, 94.52) (450.,  9.27, 60.14, 68.64)\n",
      " (451., 77.94, 60.45, 50.22) (452., 56.28, 66.84, 62.17)\n",
      " (453., 43.  , 18.36, 87.02) (454., 90.73, 91.53, 57.49)\n",
      " (455., 12.01, 42.46,  4.01) (456., 49.77, 38.93, 93.16)\n",
      " (457.,  2.12, 52.37, 69.26) (458., 47.4 ,  5.65, 67.97)\n",
      " (459.,  6.57, 17.46, 22.35) (460., 12.76, 74.07, 66.23)\n",
      " (461., 12.64,  9.2 , 39.99) (462., 65.27, 60.71, 65.47)\n",
      " (463., 74.86, 25.29, 11.55) (464., 58.75, 39.54, 66.13)\n",
      " (465., 96.26, 29.58, 99.94) (466., 38.11, 36.21,  5.77)\n",
      " (467., 29.29, 72.19, 97.74) (468., 86.99, 30.42, 41.28)\n",
      " (469., 23.14, 57.07, 87.2 ) (470., 96.36, 48.13, 78.46)\n",
      " (471.,  2.2 , 66.7 , 57.13) (472., 97.02, 93.75, 74.11)\n",
      " (473.,  5.27, 73.52, 87.97) (474., 89.22, 22.28, 41.01)\n",
      " (475., 53.24,  4.09, 33.38) (476., 99.3 , 26.96, 67.09)\n",
      " (477.,  8.31, 59.91, 80.98) (478., 55.83,  6.09, 76.47)\n",
      " (479., 96.96, 50.14, 79.98) (480., 52.79, 60.09, 44.12)\n",
      " (481., 63.31, 34.09, 81.97) (482., 69.88, 77.32, 12.9 )\n",
      " (483., 46.  , 11.55, 54.9 ) (484., 63.13,  8.44,  1.57)\n",
      " (485., 58.85, 73.09, 33.13) (486., 90.21, 50.05, 37.28)\n",
      " (487.,  5.5 , 69.15, 40.22) (488., 28.82, 44.05, 69.85)\n",
      " (489., 95.09, 25.39, 39.47) (490., 89.14, 82.09, 45.42)\n",
      " (491., 46.11, 80.14, 24.52) (492., 62.39, 69.77, 37.95)\n",
      " (493., 28.46, 27.94, 23.5 ) (494., 19.62, 59.43,  8.25)\n",
      " (495., 46.91, 36.74, 60.74) (496., 35.98, 10.07, 67.15)\n",
      " (497., 58.78, 91.81, 62.33) (498.,  8.7 , 14.55, 46.89)\n",
      " (499., 97.47, 95.07, 38.6 ) (500., 98.63, 45.15, 86.47)]\n",
      "Forma de los datos: (500,)\n"
     ]
    }
   ],
   "source": [
    "import numpy as np\n",
    "\n",
    "# Cargar los datos desde el archivo CSV (sin la columna 'Estudiante_ID')\n",
    "#datos = np.genfromtxt(\"../data/estudiantes_notas_2.csv\", delimiter=\",\", skip_header=1, usecols=(1, 2, 3))\n",
    "datos = np.genfromtxt(\n",
    "    '../data/estudiantes_notas_2.csv',\n",
    "    #dtype=data_type,           # Usamos la estructura de tipos de datos definida\n",
    "    delimiter=',',             # El separador en un CSV es la coma\n",
    "    names=True,                # Indicamos que la primera fila contiene los nombres de las columnas\n",
    "    skip_header=0,             # No saltamos filas (ya que 'names=True' maneja la cabecera)\n",
    "    encoding='utf-8'           # Aseguramos la codificación correcta\n",
    ")\n",
    "print(\"Datos cargados:\\n\", datos)\n",
    "print(\"Forma de los datos:\", datos.shape)"
   ]
  }
 ],
 "metadata": {
  "colab": {
   "provenance": []
  },
  "kernelspec": {
   "display_name": "Python 3 (ipykernel)",
   "language": "python",
   "name": "python3"
  },
  "language_info": {
   "codemirror_mode": {
    "name": "ipython",
    "version": 3
   },
   "file_extension": ".py",
   "mimetype": "text/x-python",
   "name": "python",
   "nbconvert_exporter": "python",
   "pygments_lexer": "ipython3",
   "version": "3.13.5"
  }
 },
 "nbformat": 4,
 "nbformat_minor": 4
}
