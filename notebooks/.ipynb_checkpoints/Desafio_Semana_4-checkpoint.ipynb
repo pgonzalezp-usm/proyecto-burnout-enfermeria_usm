{
 "cells": [
  {
   "cell_type": "markdown",
   "id": "8f9e59e5-949b-4037-8461-962e6e43f19d",
   "metadata": {},
   "source": [
    "# Desafío\n",
    "\n",
    "- Descargar el archivo estudiantes.csv y el notebook.OK\n",
    "- Abrir el entorno virtual creado la sesión anterior, en la ruta en que descargó los archivos.**OK**\n",
    "- Abrir jupyter notebook.**OK**\n",
    "- Cargar el notebook.**OK**\n",
    "- Llevar a cabo el taller práctico\n",
    "- Respaldar el cuaderno en GitHub.**OK**\n",
    "\n",
    "## Parte 1: Exploración Inicial\n",
    "\n",
    "- Visualice el DataFrame completo. **OK**\n",
    "- Use df.head() para observar las primeras filas y df.tail() para las últimas filas. **OK**\n",
    "- Obtenga información general sobre los datos: **Número de filas y columnas.** Tipos de datos y si hay valores faltantes. Calcule un resumen estadístico de las columnas numéricas. **OK**\n"
   ]
  },
  {
   "cell_type": "code",
   "execution_count": 48,
   "id": "7ee9aa2d-2727-49c9-b670-be808adb5bea",
   "metadata": {},
   "outputs": [
    {
     "name": "stdout",
     "output_type": "stream",
     "text": [
      "1:      Estudiante_ID  Nota_Matemáticas  Nota_Lenguaje  Nota_Ciencias\n",
      "0                1             38.08          70.12          19.33\n",
      "1                2             95.12          54.07          54.65\n",
      "2                3             73.47          31.64          87.42\n",
      "3                4             60.27          81.57          73.49\n",
      "4                5             16.45          68.79          80.85\n",
      "..             ...               ...            ...            ...\n",
      "495            496             35.98          10.07          67.15\n",
      "496            497             58.78          91.81          62.33\n",
      "497            498              8.70          14.55          46.89\n",
      "498            499             97.47          95.07          38.60\n",
      "499            500             98.63          45.15          86.47\n",
      "\n",
      "[500 rows x 4 columns]\n"
     ]
    }
   ],
   "source": [
    "import pandas as pd\n",
    "import numpy as np\n",
    "\n",
    "df = pd.read_csv('../data/estudiantes_notas.csv')\n",
    "print(\"1:\",df)\n",
    "#print(\"1.1\",df.info())\n",
    "#print(\"2:\",df.head())#Primeras 5 filas\n",
    "#print(\"3:\",df.tail())#ultimas 5 filas\n",
    "#print(\"4:\",df.describe())#Resumen estadistico\n",
    "#print(\"5.-\",df.describe(include='all'))#Se ve igual al anterior a simple vista"
   ]
  },
  {
   "cell_type": "markdown",
   "id": "67a6f012-a6ae-4132-8f82-700f85b55e33",
   "metadata": {},
   "source": [
    "## Parte 2: Filtrado de Datos\n",
    "\n",
    "- Seleccione los estudiantes mayores de 25 años.**OK**\n",
    "- Filtre los estudiantes que tengan más de 90 en Matemáticas.**OK**\n",
    "- Encuentre los estudiantes de la comuna \"Coronel\" que tengan un promedio de notas mayor a 85.**OK**\n"
   ]
  },
  {
   "cell_type": "code",
   "execution_count": 58,
   "id": "a282f1d4-8cc2-47f8-86f5-8a22818ec423",
   "metadata": {},
   "outputs": [
    {
     "name": "stdout",
     "output_type": "stream",
     "text": [
      "Estudiantes mayores de 25 años:\n",
      "      Estudiante_ID  Edad  Nota_Mat  Nota_Leng  Nota_CS      Comuna\n",
      "1                 2    27        27          5       78        Lota\n",
      "2                 3    27        74         69       18        Tomé\n",
      "3                 4    29        13         81        4     Hualpén\n",
      "4                 5    29        18         73       64  Concepción\n",
      "5                 6    28        12         18       21        Lota\n",
      "...             ...   ...       ...        ...      ...         ...\n",
      "9981           9982    29        61         70       18      Arauco\n",
      "9983           9984    28        88         76        2        Lota\n",
      "9990           9991    26        70         43        4  Concepción\n",
      "9994           9995    27        51         55       77        Tomé\n",
      "9995           9996    26        60         96       16      Arauco\n",
      "\n",
      "[3298 rows x 6 columns]\n",
      "Filtre los estudiantes que tengan más de 90 en Matemáticas\n",
      "      Estudiante_ID  Edad  Nota_Mat  Nota_Leng  Nota_CS      Comuna\n",
      "7                 8    18        99         85        4     Coronel\n",
      "13               14    24        91         45       59  Concepción\n",
      "24               25    23        99         81       92       Penco\n",
      "38               39    24        91         28       75      Arauco\n",
      "45               46    26        96          6       23   San Pedro\n",
      "...             ...   ...       ...        ...      ...         ...\n",
      "9971           9972    27        92         90       76      Arauco\n",
      "9982           9983    25        97         60       55     Coronel\n",
      "9984           9985    22        95         17       49     Coronel\n",
      "9993           9994    23        96         51       78     Hualpén\n",
      "9997           9998    19        93         68       17      Arauco\n",
      "\n",
      "[927 rows x 6 columns]\n",
      "      Estudiante_ID  Edad  Nota_Mat  Nota_Leng  Nota_CS   Comuna   Promedio\n",
      "427             428    28        91         88       91  Coronel  90.000000\n",
      "1290           1291    23        78         80       99  Coronel  85.666667\n",
      "1586           1587    26        90         99       71  Coronel  86.666667\n",
      "2555           2556    20        85         86       88  Coronel  86.333333\n",
      "3265           3266    28        93         80       91  Coronel  88.000000\n",
      "4340           4341    27        99         88       71  Coronel  86.000000\n",
      "4376           4377    20        99         95       68  Coronel  87.333333\n",
      "4449           4450    27        92         95       93  Coronel  93.333333\n",
      "4644           4645    24        93         93       82  Coronel  89.333333\n",
      "4766           4767    18        99         87       95  Coronel  93.666667\n",
      "4966           4967    24        96         87       91  Coronel  91.333333\n",
      "5025           5026    21        95         87       99  Coronel  93.666667\n",
      "5853           5854    19        88         86       88  Coronel  87.333333\n",
      "6054           6055    27        93         96       87  Coronel  92.000000\n",
      "7651           7652    21        93         91       78  Coronel  87.333333\n",
      "7735           7736    23        69         98       90  Coronel  85.666667\n",
      "7750           7751    23        98         97       62  Coronel  85.666667\n",
      "8651           8652    26        86         98       80  Coronel  88.000000\n",
      "9032           9033    24        92         97       69  Coronel  86.000000\n"
     ]
    }
   ],
   "source": [
    "datos = {\n",
    "    'Nombre': ['Ana', 'Luis', 'Pedro', 'Marta'],\n",
    "    'Edad': [23, 34, 29, 40],\n",
    "    'Notas': [8.5, 8.5, 7.5, 8.0]\n",
    "}\n",
    "df_2 = pd.DataFrame(datos)\n",
    "#print(\"Estudiantes mayores de 25 años:\")\n",
    "#print(df_2[df_2['Edad'] > 25])\n",
    "#Volvemos al archivo\n",
    "#print(\"Filtre los estudiantes que tengan más de 90 en Matemáticas\")\n",
    "#print(df[df['Nota_Matemáticas']>90])\n",
    "\n",
    "datos_2= {\n",
    "    \"Estudiante_ID\": np.arange(1, 10001),  # Identificadores únicos\n",
    "    \"Edad\": np.random.randint(18, 30, 10000),\n",
    "    \"Nota_Mat\": np.random.randint(1, 100, 10000),  # Notas entre 1 y 100\n",
    "    \"Nota_Leng\": np.random.randint (1, 100, 10000),  # Notas entre 1 y 100\n",
    "    \"Nota_CS\": np.random.randint (1, 100, 10000),  # Notas entre 1 y 100\n",
    "    \"Genero\": np.random.choice(['femenino', 'masculino', 'prefiero no decirlo'], 10000),  # Género aleatorio\n",
    "    \"Comuna\": np.random.choice(['Coronel', 'Lota', 'Concepción', 'Hualpén', 'Tomé', 'Penco', 'Arauco','San Pedro'], 10000),\n",
    "}\n",
    "\n",
    "\n",
    "df_3 =  pd.DataFrame(datos_2)\n",
    "\n",
    "print(\"Estudiantes mayores de 25 años:\")\n",
    "print(df_3[df_3['Edad'] > 25])\n",
    "print(\"Filtre los estudiantes que tengan más de 90 en Matemáticas\")\n",
    "print(df_3[df_3['Nota_Mat']>90])\n",
    "#Encuentre los estudiantes de la comuna \"Coronel\" que tengan un promedio de notas mayor a 85(4.25).\n",
    "df_3['Promedio'] = df_3[['Nota_Mat', 'Nota_Leng', 'Nota_CS']].mean(axis=1)\n",
    "print(df_3[(df_3['Promedio']>85)&(df_3['Comuna']=='Coronel')])"
   ]
  },
  {
   "cell_type": "markdown",
   "id": "78f01b50-207f-4808-ae3b-a73b133cbedc",
   "metadata": {},
   "source": [
    "## Parte 3: Agrupamiento y Agregación\n",
    "\n",
    "- Promedio de notas por género: ** Calcule el promedio de las notas en Matemáticas, Lenguaje y Ciencias agrupado por género.\n",
    "- Número de estudiantes por comuna: ** Muestre cuántos estudiantes hay en cada comuna.\n",
    "- Máxima nota en cada asignatura por comuna: ** Encuentre la nota más alta en Matemáticas, Lenguaje y Ciencias agrupada por comuna.\n"
   ]
  },
  {
   "cell_type": "code",
   "execution_count": null,
   "id": "2986205c-17fc-40cc-906b-737380adcc1a",
   "metadata": {},
   "outputs": [],
   "source": []
  },
  {
   "cell_type": "markdown",
   "id": "0060c33b-a0cc-4bd9-8920-5a81ce958014",
   "metadata": {},
   "source": [
    "## Parte 4: Creación de Nuevas Columnas\n",
    "\n",
    "- Calcule el promedio de notas por estudiante: ** Crear una nueva columna Promedio_Notas con el promedio de Matemáticas, - Lenguaje y Ciencias.\n",
    "- Crear una columna Rango_Edad: ** Clasifica a los estudiantes como \"Mayor de 25\" o \"Menor de 25\".\n",
    "Filtrar a los estudiantes con un promedio de notas mayor a 90 y clasifícarlos por rango de edad.\n"
   ]
  },
  {
   "cell_type": "code",
   "execution_count": null,
   "id": "039a5c25-b487-4a3c-b13f-4c2924deaa45",
   "metadata": {},
   "outputs": [],
   "source": []
  },
  {
   "cell_type": "markdown",
   "id": "fb6987da-9f55-46b0-a1c3-1ddb5a1085fe",
   "metadata": {},
   "source": [
    "## Parte 5: Ordenamiento y Selección\n",
    "\n",
    "- Ordena los datos: ** Muestre el DataFrame ordenado por Promedio_Notas de forma descendente.\n",
    "- Seleccione columnas específicas: ** Muestre únicamente las columnas Estudiante_ID, Edad y Promedio_Notas.\n"
   ]
  },
  {
   "cell_type": "code",
   "execution_count": null,
   "id": "659e6a9a-54e8-4d45-a1c1-0e57e7f24f53",
   "metadata": {},
   "outputs": [],
   "source": []
  },
  {
   "cell_type": "markdown",
   "id": "9d252aeb-0433-48df-9945-ee87f57d2d2b",
   "metadata": {},
   "source": [
    "## Parte 6: Identificación de Datos Faltantes o Anómalos\n",
    "\n",
    "- Revise si hay valores nulos en el DataFrame: ** Use isnull() para identificar columnas con valores faltantes.\n",
    "- Identificar estudiantes con notas extremas: ** Encuentre estudiantes con notas menores a 10 en Matemáticas.\n"
   ]
  },
  {
   "cell_type": "code",
   "execution_count": null,
   "id": "48d537ae-cc8d-4cef-ae80-bd3bf6cc01fe",
   "metadata": {},
   "outputs": [],
   "source": []
  },
  {
   "cell_type": "markdown",
   "id": "0828ea6c-ca96-4ba4-9c43-ee7f703cae0c",
   "metadata": {},
   "source": [
    "## Parte 7: Tablas Pivot\n",
    "\n",
    "Crear una tabla pivot para analizar los datos: ** Promedio de notas por comuna y género.\n"
   ]
  },
  {
   "cell_type": "code",
   "execution_count": null,
   "id": "ca21be15-eea4-4038-bf0d-c42c4454b2e1",
   "metadata": {},
   "outputs": [],
   "source": []
  },
  {
   "cell_type": "markdown",
   "id": "606f2ea4-889f-44f9-ab02-1eb371e09fc9",
   "metadata": {},
   "source": [
    "## Parte 8: Exportación de Datos\n",
    "\n",
    "- Guarde los datos procesados: ** Exporte el DataFrame con las columnas adicionales (Promedio_Notas y Rango_Edad) en un archivo CSV.\n",
    "- Exporte un subconjunto filtrado: ** Guarde en un archivo CSV los estudiantes con un promedio de notas mayor a 85."
   ]
  },
  {
   "cell_type": "code",
   "execution_count": null,
   "id": "5355ea82-9819-4ad4-aa51-509d1fa59c69",
   "metadata": {},
   "outputs": [],
   "source": []
  }
 ],
 "metadata": {
  "kernelspec": {
   "display_name": "Python 3 (ipykernel)",
   "language": "python",
   "name": "python3"
  },
  "language_info": {
   "codemirror_mode": {
    "name": "ipython",
    "version": 3
   },
   "file_extension": ".py",
   "mimetype": "text/x-python",
   "name": "python",
   "nbconvert_exporter": "python",
   "pygments_lexer": "ipython3",
   "version": "3.13.5"
  }
 },
 "nbformat": 4,
 "nbformat_minor": 5
}
