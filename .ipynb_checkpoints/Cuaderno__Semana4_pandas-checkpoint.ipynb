{
  "nbformat": 4,
  "nbformat_minor": 0,
  "metadata": {
    "colab": {
      "provenance": []
    },
    "kernelspec": {
      "name": "python3",
      "display_name": "Python 3"
    },
    "language_info": {
      "name": "python"
    }
  },
  "cells": [
    {
      "cell_type": "markdown",
      "source": [
        "# **Semana 4 Introducción a la programación con Python**"
      ],
      "metadata": {
        "id": "x0P0fVHZSgqc"
      }
    },
    {
      "cell_type": "markdown",
      "source": [
        "Esta semana analizaremos la libreria Pandas:\n",
        "\n",
        "* ¿Qué es Pandas?\n",
        "* Leer datos (Cargar archivo-Leer URL-Generar datos-Leer datos desde Github)\n",
        "* Estructuras de datos en Pandas.\n",
        "* Operación con DataFrame.\n",
        "* Normalización de datos.\n",
        "* Manejo de datos nulos o vacíos.\n",
        "* Leer un archivo y convertirlo a una estructura de Pandas para manipularlo.\n",
        "* Desafío."
      ],
      "metadata": {
        "id": "O_eNzqw_IalS"
      }
    },
    {
      "cell_type": "markdown",
      "source": [
        "## **¿Qué es Pandas?**"
      ],
      "metadata": {
        "id": "CKf0AR3cJSA-"
      }
    },
    {
      "cell_type": "markdown",
      "source": [
        "Pandas es una librería de código abierto que se utiliza para analizar y manipular datos tabulares, también conocidos como DataFrames. Es una herramienta fundamental para la ciencia de datos y el análisis de datos en Python.\n",
        "\n",
        "\n",
        "**Pandas permite:**\n",
        "* Crear, leer, almacenar y procesar datos en formato tabular.\n",
        "* Realizar operaciones estadísticas y matemáticas.\n",
        "* Limpiar, explorar y pre-procesar datos.\n",
        "* Integrarse con otras librerías de Python, como Numpy, Matplotlib y Scikit Learn.\n",
        "\n"
      ],
      "metadata": {
        "id": "cH78whCBIs3Y"
      }
    },
    {
      "cell_type": "markdown",
      "source": [
        "## **Leer datos en Pandas**"
      ],
      "metadata": {
        "id": "g0qgH9u01PXG"
      }
    },
    {
      "cell_type": "code",
      "source": [
        "# IMPORTAR LIBRERIA\n",
        "import pandas as pd\n",
        "\n",
        "####### CASO 1. LEER UNA URL #######\n",
        "\n",
        "# Asignamos la dirección de la base de datos a la variable url\n",
        "url = \"https://archive.ics.uci.edu/ml/machine-learning-databases/autos/imports-85.data\"\n",
        "\n",
        "# Convertimos la variable url a un dataframe de pandas\n",
        "df = pd.read_csv(url)\n",
        "df.info()\n",
        "#print (df)\n",
        "#\n",
        "#df= pd.read_csv(url, header=None)\n",
        "#print (df)\n",
        "\n",
        "#######################################################################################\n",
        "\n",
        "####### CASO 2. LEER UN ARCHIVO DESDE EL EQUIPO #######\n",
        "# Aquí leeremos el archivo\n",
        "#df = pd.read_csv('estudiantes_notas.csv')\n",
        "#df\n",
        "# Abrir un archivo en formato xlsx y convertirlo a DataFrame\n",
        "# Recuerden subir el archivo que quieren abrir haciendo clic en la carpeta que\n",
        "# está a la izquierda\n",
        "\n",
        "#######################################################################################\n",
        "\n",
        "####### CASO 3. LEER UNA BASE DE DATOS DESDE GITHUB#######\n",
        "\n",
        "# Asignamos la dirección de la base de datos a la variable url\n",
        "#url = 'https://github.com/lukes/ISO-3166-Countries-with-Regional-Codes/blob/master/all/all.csv?raw=true'\n",
        "\n",
        "# Convertimos la variable url a un dataframe de pandas\n",
        "#df = pd.read_csv(url)\n",
        "#print (df)\n",
        "#\n",
        "#df= pd.read_csv(url, header=None)\n",
        "#print (df)\n",
        "#######################################################################################\n",
        "\n",
        "####### CASO 4. GENERAR DATOS ALEATORIOS #######\n",
        "\n",
        "# ¿Cómo podriamos crear un archivo con 10.000 registros, en que tengamos un ID, la edad, el género, la comuna y las notas de matemáticas, lenguaje y ciencias?\n",
        "# Veamos como usar un diccionario y algunos métodos que nos ofrece numpy para crear rápidamente los registros.\n",
        "# Luego, convertiremos el diccionario a una de las estructuras más importantes que nos ofrece Pandas; el DataFrame.\n",
        "# Este DataFrame lo guadaremos como un archivo csv, para cargarlo más tarde y manipularlo.\n",
        "\n",
        "# EJEMPLO DE CREACIÓN DE UN ARCHIVO CON 10.000 REGISTROS\n",
        "\"\"\"\n",
        "# Importar las librerias\n",
        "import numpy as np #np es un alias\n",
        "#import random\n",
        "import pandas as pd # pd es un alias\n",
        "\n",
        "# Ahora crearemos un diccionario\n",
        "datos= {\n",
        "    \"Estudiante_ID\": np.arange(1, 10001),  # Identificadores únicos\n",
        "    \"Edad\": np.random.randint(18, 30, 10000),\n",
        "    \"Nota_Matemáticas\": np.random.randint(1, 100, 10000),  # Notas entre 1 y 100\n",
        "    \"Nota_Lenguaje\": np.random.randint (1, 100, 10000),  # Notas entre 1 y 100\n",
        "    \"Nota_Ciencias\": np.random.randint (1, 100, 10000),  # Notas entre 1 y 100\n",
        "    \"Genero\": np.random.choice(['femenino', 'masculino', 'prefiero no decirlo'], 10000),  # Género aleatorio\n",
        "    \"Comuna\": np.random.choice(['Coronel', 'Lota', 'Concepción', 'Hualpén', 'Tomé', 'Penco', 'Arauco','San Pedro'], 10000),\n",
        "}\n",
        "######## choice, randint, uniform#########\n",
        "# Cuándo usar cada uno:\n",
        "# np.random.choice() : cuando necesitemos elegir aleatoriamente de un conjunto predefinido de valores\n",
        "# np.random.randint(): cuando necesitemos números enteros aleatorios dentro de un rango específico.\n",
        "# np.random.uniform(): cuando necesitemos números flotantes (decimales) aleatorios dentro de un rango específico.\n",
        "\n",
        "# Ahora convirtamos el diccionario a un DataFrame\n",
        "df= pd.DataFrame(datos)\n",
        "\n",
        "# Ahora veamos el DataFrame\n",
        "print (df)\n",
        "\n",
        "# ¿Cómo podemos mover las columnas Género y Comuna, para que queden después de edad?\n",
        "df = df[['Estudiante_ID', 'Edad', 'Genero','Comuna', 'Nota_Matemáticas','Nota_Lenguaje','Nota_Ciencias' ]]\n",
        "\n",
        "# Veamos el nuevo DataFrame\n",
        "print (df)\n",
        "\n",
        "####### Ahora guardemos el archivo en formato csv ########\n",
        "# Guardar el archivo CSV en el entorno temporal de Colab\n",
        "file_path = 'estudiantes_notas.csv'  # ruta del archivo\n",
        "df.to_csv(file_path, index=False) # index= false, para no incluir columna de índices.\n",
        "print(f\"Archivo guardado en: {file_path}\")\n",
        "\n",
        "#######################################################################################\n",
        "\"\"\"\n"
      ],
      "metadata": {
        "id": "RqtgeITw1Urp"
      },
      "execution_count": null,
      "outputs": []
    },
    {
      "cell_type": "markdown",
      "source": [
        "## **Estructuras de datos en Pandas**"
      ],
      "metadata": {
        "id": "U_Be2GA0KI_G"
      }
    },
    {
      "cell_type": "markdown",
      "source": [
        "###**DataFrame**\n"
      ],
      "metadata": {
        "id": "nxTdf6sCKOH4"
      }
    },
    {
      "cell_type": "markdown",
      "source": [
        "* Un DataFrame es una estructura bidimensional (como una tabla) con filas y columnas.\n",
        "* Puede contener diferentes tipos de datos en cada columna.\n",
        "\n",
        "\n",
        ">**Cuándo usarlo:**\n",
        "* *Datos tabulares*: Si tenemos datos organizados en forma de tabla, con múltiples variables o características. Cada columna representa una variable, y cada fila una observación.\n",
        "* * Ejemplo: Registro de estudiantes con columnas para nombres, edad, y calificaciones.\n",
        "* *Operaciones entre columnas*: Si necesitamos realizar cálculos, filtrados, o transformaciones que involucren varias columnas.\n",
        "* *Análisis más complejo*: Cuando necesitamos agrupar, hacer combinaciones entre datasets, o analizar relaciones entre múltiples variables.\n",
        "* *Almacenamiento estructurado*: Si planeamos exportar o compartir datos en formatos tabulares como csv o Excel."
      ],
      "metadata": {
        "id": "KyBIJVH3X9SP"
      }
    },
    {
      "cell_type": "markdown",
      "source": [
        "## **Operaciones con DataFrame**"
      ],
      "metadata": {
        "id": "yRAVGaLrN7A7"
      }
    },
    {
      "cell_type": "markdown",
      "source": [
        "###**DataFrame**"
      ],
      "metadata": {
        "id": "lVTr889zWPST"
      }
    },
    {
      "cell_type": "markdown",
      "source": [
        "Para crear un DataFrame debemos:\n",
        "\n",
        "* Importar la librería pandas y darle un alias (import pandas as pd).\n",
        "* Crear un DataFrame usando **pd.DataFrame**"
      ],
      "metadata": {
        "id": "veUftKwpd8mJ"
      }
    },
    {
      "cell_type": "code",
      "source": [
        "# EJEMPLO 1 DE CREACIÓN DE UN DATAFRAME CON PANDAS\n",
        "\n",
        "# Importar pandas\n",
        "import pandas as pd\n",
        "\n",
        "# Crear un DataFrame con un diccionario de datos\n",
        "datos = {\n",
        "    'Nombre': ['Ana', 'Luis', 'Pedro', 'Marta'],\n",
        "    'Edad': [23, 34, 29, 40],\n",
        "    'Ciudad': ['Madrid', 'Barcelona', 'Valencia', 'Sevilla'],\n",
        "    'País': ['Chile', 'Bolivia', \"Colombia,\",\"Irlanda\"]\n",
        "}\n",
        "\n",
        "# Mostrar las edades\n",
        "print (datos['Edad']) # [23,34,29,40]\n",
        "\n",
        "# Convertir el diccionario a un DataFrame\n",
        "df = pd.DataFrame(datos)\n",
        "\n",
        "# Mostrar el DataFrame\n",
        "print(\"DataFrame:\\n\", df)\n"
      ],
      "metadata": {
        "id": "d67HlmtQX84z"
      },
      "execution_count": null,
      "outputs": []
    },
    {
      "cell_type": "code",
      "source": [
        "# EJEMPLO 2 DE CREACIÓN DE UN DATAFRAME CON PANDAS\n",
        "\n",
        "# Crearemos un diccionario con información detallada de varios estudiantes\n",
        "# Luego, usaremos esa información para crear el DataFrame\n",
        "\n",
        "# Importar pandas\n",
        "import pandas as pd\n",
        "\n",
        "# Diccionario con información de estudiantes\n",
        "estudiantes = {\n",
        "    \"ID\": [1, 2, 3, 4],\n",
        "    \"Nombre\": [\"Juan\", \"María\", \"Pedro\", \"Ana\"],\n",
        "    \"Edad\": [20, 21, 22, 23],\n",
        "    \"Carrera\": [\"Ingeniería\", \"Medicina\", \"Arquitectura\", \"Derecho\"],\n",
        "    \"Notas\": {\n",
        "        \"Matemáticas\": [90, 85, 78, 92],\n",
        "        \"Física\": [88, 76, 80, 94],\n",
        "        \"Historia\": [75, 88, 90, 82]\n",
        "    }\n",
        "}\n",
        "\n",
        "######## Creamos el DataFrame ####################\n",
        "\n",
        "# 1. Primero haremos uno solamente para las notas\n",
        "df_notas= pd.DataFrame(estudiantes[\"Notas\"])\n",
        "# Veamos el DataFrame df_notas\n",
        "print (\"Notas en Dataframe:\\n\",df_notas)\n",
        "\n",
        "# 2.Ahora crearemos otro DataFrame con el resto de datos del diccionario\n",
        "df_estudiantes = pd.DataFrame({\n",
        "    \"ID\": estudiantes[\"ID\"],\n",
        "    \"Nombre\": estudiantes[\"Nombre\"],\n",
        "    \"Edad\": estudiantes[\"Edad\"],\n",
        "    \"Carrera\": estudiantes[\"Carrera\"]\n",
        "})\n",
        "\n",
        "# 3. Veamos el DataFrame df_estudiantes\n",
        "print (\"Notas en Dataframe:\\n\",df_estudiantes)\n",
        "\n",
        "# 4.Ahora debemos combinar ambos DataFrame para dejar uno solo, usando concact\n",
        "df_final = pd.concat([df_estudiantes, df_notas], axis=1) # ¿Porqué axis=1?\n",
        "# Ambos DataFrames tienen el mismo número de filas (en este caso, 4),\n",
        "# y cada fila representa información del mismo estudiante.\n",
        "# Usar axis=1 permite que los datos de cada estudiante se alineen correctamente en una sola fila del DataFrame combinado.\n",
        "\n",
        "# Mostrar el DataFrame final\n",
        "print(\"DataFrame combinado:\\n\", df_final)\n",
        "\n",
        "#################################################\n"
      ],
      "metadata": {
        "id": "R8TV3p_bhiI_"
      },
      "execution_count": null,
      "outputs": []
    },
    {
      "cell_type": "code",
      "source": [
        "# EJEMPLO 2.1 DE MANIPULACIÓN DEL DATAFRAME\n",
        "\n",
        "# Mostrar el DataFrame final\n",
        "print(\"DataFrame combinado:\\n\", df_final)\n",
        "\n",
        "#################################################\n",
        "\n",
        "# Seleccionar columnas específicas\n",
        "df_seleccion = df_final[[\"Nombre\", \"Carrera\"]]\n",
        "print(\"Datos seleccionados (Nombre y Carrera):\\n\", df_seleccion)\n",
        "\n",
        "# Promedio de notas por estudiante\n",
        "df_final[\"Promedio_Notas\"] = df_final[[\"Matemáticas\", \"Física\", \"Historia\"]].mean(axis=1)\n",
        "print(\"DataFrame con promedio de notas:\\n\", df_final)\n",
        "\n",
        "# Promedio de notas por asignatura\n",
        "promedio_asignatura = df_final[[\"Matemáticas\", \"Física\", \"Historia\"]].mean(axis=0)\n",
        "print(\"Promedio por asignatura:\\n\", promedio_asignatura)\n",
        "\n",
        "# Estudiante con mejor nota en matemáticas\n",
        "mejor_matematicas = df_final.loc[df_final[\"Matemáticas\"].idxmax()]\n",
        "print(\"Estudiante con la mejor nota en Matemáticas:\\n\", mejor_matematicas)\n",
        "# idxmax() devuelve el índice (fila) del estudiante con la mejor nota.\n",
        "# df_final.loc[]: Recupera la fila completa asociada al índice encontrado en el paso anterior.\n",
        "# El resultado es una fila del DataFrame que contiene toda la información del estudiante con la mejor nota en matemáticas.\n",
        "\n",
        "\n",
        "# Ordenar datos por una columna específica\n",
        "df_ordenado = df_final.sort_values(by=\"Promedio_Notas\", ascending=False)\n",
        "print(\"DataFrame ordenado por promedio de notas:\\n\", df_ordenado)\n",
        "# Ordena el DataFrame según los valores de la columna Promedio_Notas.\n",
        "# by=\"Promedio_Notas\" especifica la columna utilizada para ordenar.\n",
        "# ascending=False indica un orden descendente (de mayor a menor).\n",
        "# El resultado es un DataFrame ordenado donde los estudiantes con mayor promedio aparecen primero.\n",
        "\n",
        "# Calcular el promedio de notas por carrera:\n",
        "promedio_por_carrera = df_final.groupby(\"Carrera\")[[\"Matemáticas\", \"Física\", \"Historia\"]].mean()\n",
        "print(\"Promedio de notas por carrera:\\n\", promedio_por_carrera)\n",
        "# df_final.groupby(\"Carrera\"): Agrupa las filas del DataFrame según los valores de la columna Carrera.\n",
        "# Cada grupo corresponde a una carrera distinta.\n",
        "# [[\"Matemáticas\", \"Física\", \"Historia\"]]: Selecciona las columnas relevantes para calcular el promedio.\n",
        "# .mean(): Calcula el promedio de las columnas seleccionadas dentro de cada grupo (carrera).\n",
        "# El resultado es un nuevo DataFrame donde cada fila representa una carrera y las columnas son los promedios de las asignaturas.\n"
      ],
      "metadata": {
        "id": "5uDPsDFLI9Wx"
      },
      "execution_count": null,
      "outputs": []
    },
    {
      "cell_type": "code",
      "source": [
        "# EJEMPLO 2.2 DE MANIPULACIÓN DEL DATAFRAME\n",
        "\n",
        "# Mostrar el DataFrame final\n",
        "print(\"DataFrame combinado:\\n\", df_final)\n",
        "\n",
        "#################################################\n",
        "\n",
        "# Filtar estudiantes mayores de 21 años\n",
        "print(\"Estudiantes mayores de 21 años:\\n\", df_final[df_final[\"Edad\"] > 21]) # ¿Porqué no usar simplemente df[\"Edad\"]>21?\n",
        "\n",
        "# Filtrar por múltiples condiciones\n",
        "filtro = (df_final[\"Edad\"] > 21) & (df_final[\"Carrera\"] == \"Ingeniería\")\n",
        "print(\"Estudiantes mayores de 21 años en Ingeniería:\\n\", df_final[filtro])\n",
        "\n",
        "# Agregar nueva columna con datos nuevos\n",
        "df_final[\"Edad_Cuadrado\"] = df_final[\"Edad\"] ** 2\n",
        "print(\"DataFrame con columna 'Edad_Cuadrado':\\n\", df_final)\n",
        "\n",
        "# Eliminar la columna Promedio_Notas\n",
        "df_sin_promedio = df_final.drop(columns=[\"Promedio_Notas\"])\n",
        "print(\"DataFrame sin la columna 'Promedio_Notas':\\n\", df_sin_promedio)\n",
        "\n",
        "# Eliminar estudiantes con edad >21\n",
        "df_mayores_21 = df_final[df_final[\"Edad\"] >= 21]\n",
        "print(\"DataFrame con estudiantes mayores o iguales a 21 años:\\n\", df_mayores_21)\n",
        "\n",
        "# Renombrar columnas\n",
        "df_renombrado = df_final.rename(columns={\"Matemáticas\": \"Math\", \"Física\": \"Physics\"})\n",
        "print(\"DataFrame con columnas renombradas:\\n\", df_renombrado)\n",
        "\n",
        "\n",
        "######Tablas pivote#######\n",
        "# La tabla pivote (pivot table) en pandas es una herramienta para reorganizar, resumir y analizar datos de un DataFrame.\n",
        "# Es como una tabla dinámica en Excel, y permite transformar datos agrupados en un formato más estructurado.\n",
        "\n",
        "# Concepto Básico\n",
        "# Filas: Representan los valores únicos de una columna que defines como índice.\n",
        "# Columnas: Representan los valores únicos de otra columna que defines como encabezado.\n",
        "# Valores: Es el contenido que se muestra en las intersecciones de filas y columnas, usualmente el resultado de una función agregada como sum, mean, etc.\n",
        "# Sintaxis: pd.pivot_table(data, values, index, columns, aggfunc).\n",
        "   # data: El DataFrame base.\n",
        "   # values: Las columnas que queremos resumir.\n",
        "   # index: Las columnas que queremos que formen las filas.\n",
        "   # columns: Las columnas que queremos que formen las columnas.\n",
        "   # aggfunc: La función de agregación para calcular los valores (por defecto es mean).\n",
        "   # otras funciones: sum, min, max,median, count, std, var, first, last, mode, prod\n",
        "\n",
        "# Promedio por carrera\n",
        "# Queremos ver el promedio de notas por carrera en cada asignatura\n",
        "tabla_pivot = df_final.pivot_table(values=[\"Matemáticas\", \"Física\", \"Historia\"], index=\"Carrera\", aggfunc=\"mean\")\n",
        "print(\"Tabla pivot con promedio por carrera:\\n\", tabla_pivot)\n",
        "\n",
        "# Conteo de estudiantes por edad y carrera\n",
        "# Queremos ver cuántos estudiantes hay en cada combinación de edad y carrera\n",
        "# Tabla pivote para contar estudiantes por edad y carrera\n",
        "tabla_pivote_conteo = pd.pivot_table(df_final, values=\"ID\", index=\"Carrera\", columns=\"Edad\", aggfunc=\"count\")\n",
        "print(\"Conteo de estudiantes por edad y carrera:\\n\", tabla_pivote_conteo)\n",
        "\n",
        "# Ejemplo 3: Promedio de notas por edad\n",
        "# Queremos ver el promedio de cada asignatura agrupada por la edad de los estudiantes.\n",
        "# Promedio de notas agrupado por edad\n",
        "tabla_pivote_edad = pd.pivot_table(df_final, values=[\"Matemáticas\", \"Física\", \"Historia\"], index=\"Edad\", aggfunc=\"mean\")\n",
        "print(\"Promedio de notas por edad:\\n\", tabla_pivote_edad)\n",
        "\n"
      ],
      "metadata": {
        "id": "BMomC7x7K4cs"
      },
      "execution_count": null,
      "outputs": []
    },
    {
      "cell_type": "code",
      "source": [
        "# EJEMPLO 3. FILTRAR DATOS\n",
        "\n",
        "# Importar librería\n",
        "import pandas as pd\n",
        "\n",
        "# Crear el DataFrame\n",
        "datos = {\n",
        "    'Estudiante': ['Juan', 'María', 'Pedro', 'Ana', 'Lucas', 'Paula', 'Mateo', 'Sofía'],\n",
        "    'Género': ['Masculino', 'Femenino', 'Masculino', 'Femenino', 'Masculino', 'Femenino', 'Masculino', 'Femenino'],\n",
        "    'Edad': [20, 22, 21, 23, 24, 22, 23, 20],\n",
        "    'Carrera': ['Ingeniería', 'Medicina', 'Derecho', 'Enfermería', 'Psicología', 'Arquitectura', 'Ingeniería', 'Medicina'],\n",
        "    'Nota_1': [4.5, 5.0, 3.5, 4.2, 3.8, 5.0, 4.0, 4.8],\n",
        "    'Nota_2': [3.8, 4.5, 4.0, 4.0, 3.9, 4.8, 4.2, 4.7],\n",
        "    'Nota_3': [5.0, 4.8, 2.8, 4.5, 4.1, 5.0, 4.3, 4.9],\n",
        "    'Estado': ['Aprobado', 'Aprobado', 'Reprobado', 'Aprobado', 'Aprobado', 'Aprobado', 'Aprobado', 'Aprobado'],\n",
        "    'Horas_Estudio': [10, 12, 5, 8, 7, 11, 9, 13],\n",
        "    'Ciudad': ['Santiago', 'Valparaíso', 'Concepción', 'Santiago', 'Valdivia', 'Iquique', 'Santiago', 'Antofagasta']\n",
        "}\n",
        "\n",
        "df = pd.DataFrame(datos)\n",
        "print(df)\n",
        "\n",
        "# Filtrar estudiantes aprobados\n",
        "aprobados = df[df['Estado'] == 'Aprobado']\n",
        "print(\"Estudiantes aprobados:\\n\", aprobados)\n",
        "\n",
        "# Filtrar estudiantes con edad mayor a 22\n",
        "mayores_22 = df[df['Edad'] > 22]\n",
        "print(\"Estudiantes con edad mayor a 22:\\n\", mayores_22)\n",
        "\n",
        "# Filtrar por múltiples condiciones (and)\n",
        "#Estudiantes de Género Femenino Aprobadas\n",
        "aprobadas = df[(df['Género'] == 'Femenino') & (df['Estado'] == 'Aprobado')]\n",
        "print(\"Estudiantes femeninas aprobadas:\\n\", aprobadas)\n",
        "\n",
        "# Filtrar por múltiples condiciones (or)\n",
        "# Estudiantes que son de Santiago o Antofagasta\n",
        "ciudades_seleccionadas = df[(df['Ciudad'] == 'Santiago') | (df['Ciudad'] == 'Antofagasta')]\n",
        "print(\"Estudiantes de Santiago o Antofagasta:\\n\", ciudades_seleccionadas)\n",
        "\n",
        "# Filtrar estudiantes con notas mayores a un valor\n",
        "# Estudiantes con Nota_1 mayor o igual a 4.5\n",
        "nota_alta = df[df['Nota_1'] >= 4.5]\n",
        "print(\"Estudiantes con Nota_1 >= 4.5:\\n\", nota_alta)\n",
        "\n",
        "# Filtrar filas basado en texto\n",
        "# Estudiantes en Carreras Relacionadas con Salud\n",
        "carreras_salud = df[df['Carrera'].str.contains('Medicina|Enfermería', case=False)]\n",
        "print(\"Estudiantes en carreras de salud:\\n\", carreras_salud)\n",
        "\n",
        "# Filtrar con Funciones Personalizadas\n",
        "# Estudiantes con un Promedio de Notas Mayor a 4.5\n",
        "# Calcular el promedio de notas\n",
        "df['Promedio'] = df[['Nota_1', 'Nota_2', 'Nota_3']].mean(axis=1)\n",
        "promedio_alto = df[df['Promedio'] > 4.5]\n",
        "print(\"Estudiantes con promedio > 4.5:\\n\", promedio_alto)\n",
        "# str.contains(): es un método de pandas que permite verificar si una cadena de texto contiene un patrón específico.\n",
        "# En este caso, el patrón es 'Medicina|Enfermería', lo que significa \"contiene la palabra Medicina o Enfermería\".\n",
        "# case=False: indica que la búsqueda no distingue entre mayúsculas y minúsculas.\n",
        "\n",
        "# Filtrar con query\n",
        "# Estudiantes Género Masculino con Nota_2 Mayor a 4\n",
        "query_result = df.query(\"Género == 'Masculino' and Nota_2 > 4\")\n",
        "print(\"Estudiantes masculinos con Nota_2 > 4:\\n\", query_result)\n",
        "# Una query es una forma eficiente de filtrar un DataFrame utilizando una cadena de consulta\n",
        "# en vez de usar directamente condiciones con corchetes ([]).\n",
        "# Esto permite escribir las condiciones de filtro de manera más intuitiva y similar al lenguaje SQL.\n",
        "\n",
        "# Filtrar por Rango de Valores\n",
        "# Estudiantes con Edad entre 20 y 23 (incluye ambos extremos)\n",
        "rango_edad = df[df['Edad'].between(20, 23)]\n",
        "print(\"Estudiantes con edad entre 20 y 23:\\n\", rango_edad)\n",
        "\n",
        "# Filtrar y Ordenar al Mismo Tiempo\n",
        "# Estudiantes con Más de 10 Horas de Estudio, Ordenados por Notas\n",
        "horas_estudio = df[df['Horas_Estudio'] > 10].sort_values(by='Nota_1', ascending=False)\n",
        "print(\"Estudiantes con más de 10 horas de estudio, ordenados por Nota_1:\\n\", horas_estudio)"
      ],
      "metadata": {
        "id": "dyEvzPywdfBr"
      },
      "execution_count": null,
      "outputs": []
    },
    {
      "cell_type": "markdown",
      "source": [
        "#### **Estadística descriptiva**\n",
        "\n",
        "Pandas es muy poderoso para realizar operaciones estadísticas sobre DataFrames.\n",
        "\n",
        "A continuación veremos una lista de las operaciones estadísticas más comunes que podemos aplicar, junto con ejemplos prácticos para comprenderlas mejor.\n",
        "\n"
      ],
      "metadata": {
        "id": "PweTCRK7wz5v"
      }
    },
    {
      "cell_type": "code",
      "source": [
        "# EJEMPLO DE APLICACIÓN DE ESTADÍSTICA DESCRIPTIVA SOBRE UN DATAFRAME\n",
        "\n",
        "# Importar librería\n",
        "import pandas as pd\n",
        "\n",
        "# Crear un DataFrame de ejemplo\n",
        "datos = {\n",
        "    'Nombre': ['Ana', 'Luis', 'Pedro', 'Marta'],\n",
        "    'Edad': [23, 34, 29, 40],\n",
        "    'Notas': [8.5, 8.5, 7.5, 8.0]\n",
        "}\n",
        "df = pd.DataFrame(datos)\n",
        "print(\"DataFrame:\\n\", df)\n",
        "\n",
        "#Obtener información\n",
        "print (df.info())\n",
        "\n",
        "# Mostrar las primeras filas con head\n",
        "# El comando head en Pandas se utiliza para mostrar las primeras filas de un DataFrame o una Serie.\n",
        "# Por defecto, muestra las primeras 5 filas, pero podemos especificar cuántas filas deseamos visualizar.\n",
        "# Usar head()\n",
        "print(df.head())\n",
        "\n",
        "\n",
        "# Obtener un resumen rápido con describe()\n",
        "# Estadísticas descriptivas\n",
        "print(df.describe())\n",
        "\n",
        "#Si queremos un resumen más completo\n",
        "print(\"Resumen completo\", df.describe(include='all'))\n",
        "\n",
        "# Media (Promedio): mean()\n",
        "print(\"Promedio de las edades:\", df['Edad'].mean())\n",
        "\n",
        "# Mediana: median()\n",
        "print(\"Mediana de las notas:\", df['Notas'].median())\n",
        "\n",
        "# Moda: mode()\n",
        "print(\"Moda de las edades:\", df['Edad'].mode())\n",
        "\n",
        "# Suma de los valores: sum()\n",
        "print(\"Suma de las edades:\", df['Edad'].sum())\n",
        "\n",
        "# Producto de los valores: prod()\n",
        "print(\"Producto de las notas:\", df['Notas'].prod())\n",
        "\n",
        "# Valor Mínimo: min()\n",
        "print(\"Nota máxima:\", df['Notas'].min())\n",
        "\n",
        "#Valor Máximo: max()\n",
        "print(\"Nota máxima:\", df['Notas'].max())\n",
        "\n",
        "# Desviación estándar: std()\n",
        "print(\"Desviación estándar de las edades:\", df['Edad'].std())\n",
        "\n",
        "# Varianza: var()\n",
        "print(\"Varianza de las notas:\", df['Notas'].var())\n",
        "\n",
        "# Contar Valores\n",
        "print(\"Número de edades registradas:\", df['Edad'].count())\n",
        "# Frecuencia de cada valor único: value_counts()\n",
        "print(\"Frecuencia de cada nota:\\n\", df['Notas'].value_counts())\n",
        "\n",
        "# Correlación y Covarianza\n",
        "# Correlación: corr()\n",
        "# Mide la relación entre columnas numéricas\n",
        "#print(\"Correlación entre Edad y Notas:\\n\", df[['Edad', 'Notas']].corr())\n",
        "# Covarianza: cov()\n",
        "# Mide cómo varían juntas dos columnas\n",
        "#print(\"Covarianza entre Edad y Notas:\\n\", df[['Edad', 'Notas']].cov())\n",
        "\n",
        "# Operaciones Basadas en Condiciones\n",
        "# Filtrar valores según una condición\n",
        "#print(\"Edades mayores a 30:\\n\", df[df['Edad'] > 30])\n",
        "\n",
        "# Contar valores que cumplen una condición\n",
        "#print(\"Cantidad de notas mayores a 8:\", (df['Notas'] > 8).sum())\n"
      ],
      "metadata": {
        "id": "u6SOd2Cow4GR"
      },
      "execution_count": null,
      "outputs": []
    },
    {
      "cell_type": "markdown",
      "source": [
        "##### **Tablas de contingencia**\n",
        "\n",
        "Es una tabla que muestra la frecuencia de las combinaciones de categorías entre dos o más variables.\n",
        "\n",
        "Por ejemplo:\n",
        "* 1. Relación entre género y preferencia de producto.\n",
        "* 2. Número de estudiantes por rango de edad y su nivel académico."
      ],
      "metadata": {
        "id": "6lacE-sb15GC"
      }
    },
    {
      "cell_type": "code",
      "source": [
        "# EJEMPLO DE APLICACIÓN DE TABLAS DE CONTINGENCIA SOBRE UN DATAFRAME\n",
        "\n",
        "# Importar librería\n",
        "import pandas as pd\n",
        "\n",
        "# Crear un DataFrame de ejemplo\n",
        "datos = {\n",
        "    'Género': ['Femenino', 'Masculino', 'Femenino', 'Femenino', 'Masculino'],\n",
        "    'Preferencia': ['A', 'B', 'A', 'C', 'B'],\n",
        "    'Edad': ['18-25', '26-35', '18-25', '18-25', '26-35']\n",
        "}\n",
        "df = pd.DataFrame(datos)\n",
        "\n",
        "print(\"DataFrame:\\n\", df)\n",
        "\n",
        "# Tabla de contingencia básica\n",
        "# Crear una tabla de contingencia para relación entre Género y Preferencia:\n",
        "tabla = pd.crosstab(df['Género'], df['Preferencia'])\n",
        "print(\"Tabla de contingencia básica:\\n\", tabla) #Matriz con las veces que se repite un valor\n",
        "\n",
        "# Agregar totales\n",
        "# Incluir totales en filas y columnas con el argumento margins=True:\n",
        "tabla_totales = pd.crosstab(df['Género'], df['Preferencia'], margins=True)\n",
        "print(\"Tabla de contingencia con totales:\\n\", tabla_totales)\n",
        "\n",
        "# Tablas de contingencia con más de dos Variables\n",
        "# Analizar tres o más variables categóricas\n",
        "# Ejemplo: Relación entre Género, Preferencia, y Edad:\n",
        "tabla_multi = pd.crosstab([df['Género'], df['Edad']], df['Preferencia'], margins=True)\n",
        "print(\"Tabla de contingencia múltiple:\\n\", tabla_multi)\n",
        "\n"
      ],
      "metadata": {
        "id": "00JcBEui2d1r"
      },
      "execution_count": null,
      "outputs": []
    },
    {
      "cell_type": "markdown",
      "source": [
        "## **Normalización de datos**"
      ],
      "metadata": {
        "id": "R3BdrcIcKTQV"
      }
    },
    {
      "cell_type": "markdown",
      "source": [
        "La normalización transforma los datos para que estén en una escala o distribución específica. Las técnicas más comunes son:\n",
        "\n",
        "* Min-Max Normalization: Escala los valores a un rango definido, generalmente\n",
        "[0,1]\n",
        "\n",
        "* Z-Score Normalization: Transforma los datos para que tengan una media de 0 y una desviación estándar de 1.\n",
        "\n",
        "¿Por qué normalizar en Pandas?\n",
        "* Garantiza que las variables tengan una escala similar, evitando que una con valores altos domine sobre otras con valores bajos."
      ],
      "metadata": {
        "id": "ZCmt69w8KVLj"
      }
    },
    {
      "cell_type": "code",
      "source": [
        "# EJEMPLO DE MÉTODOS DE NORMALIZACIÓN EN PANDAS\n",
        "\n",
        "# Importar librería\n",
        "import pandas as pd\n",
        "\n",
        "# Crear un DataFrame de ejemplo\n",
        "data = {\n",
        "    'Matemáticas': [70, 85, 90, 95, 100],\n",
        "    'Física': [88, 76, 92, 85, 80],\n",
        "    'Historia': [75, 88, 70, 90, 95]\n",
        "}\n",
        "df = pd.DataFrame(data)\n",
        "\n",
        "# Normalización Min-Max\n",
        "df_minmax = (df - df.min()) / (df.max() - df.min())\n",
        "print(\"Normalización Min-Max:\\n\", df_minmax)\n",
        "\n",
        "# Normalización Z-Score\n",
        "df_zscore = (df - df.mean()) / df.std()\n",
        "print(\"Normalización Z-Score:\\n\", df_zscore)\n"
      ],
      "metadata": {
        "id": "iHOmt50TMsei"
      },
      "execution_count": null,
      "outputs": []
    },
    {
      "cell_type": "markdown",
      "source": [
        "## **Manejo de datos nulos o vacíos**"
      ],
      "metadata": {
        "id": "mveIByh7KaCb"
      }
    },
    {
      "cell_type": "markdown",
      "source": [
        "**¿Qué son los datos nulos o vacíos?**\n",
        "* Un dato nulo o vacío representa información faltante o inexistente en un conjunto de datos.\n",
        "* En Pandas, los datos nulos se identifican como NaN (Not a Number).\n",
        "\n",
        "\n",
        "**¿Por qué manejar datos nulos?**\n",
        "* Evitar errores en cálculos o análisis.\n",
        "* Mejorar la calidad de los resultados estadísticos y modelos predictivos.\n",
        "* Preservar la integridad del análisis.\n",
        "\n",
        "\n"
      ],
      "metadata": {
        "id": "2yDBlgXMKdJp"
      }
    },
    {
      "cell_type": "code",
      "source": [
        "# EJEMPLO DE MANEJO DE DATOS NULOS O VACÍOS EN PANDAS\n",
        "\n",
        "# Importar librerías\n",
        "import pandas as pd\n",
        "#import numpy as np\n",
        "\n",
        "# Crear un DataFrame de ejemplo con datos nulos\n",
        "df = pd.DataFrame({\n",
        "    'Estudiante': ['Juan', 'Ana', 'Pedro', 'María', 'Carlos'],\n",
        "    'Matemáticas': [90, np.nan, 78, 85, np.nan],\n",
        "    'Física': [np.nan, 80, 76, 94, 88],\n",
        "    'Historia': [75, 88, np.nan, 82, np.nan]\n",
        "})\n",
        "\n",
        "print(\"### DataFrame Original ###\")\n",
        "print(df)\n",
        "\n",
        "# 1. Detectar Datos Nulos\n",
        "print(\"\\n### Detectar Datos Nulos ###\")\n",
        "print(\"¿Dónde hay valores nulos?\\n\", df.isnull())\n",
        "print(\"\\nNúmero de datos nulos por columna:\\n\", df.isnull().sum())\n",
        "\n",
        "# 2. Eliminar Datos Nulos\n",
        "# a) Eliminar filas con datos nulos\n",
        "#df_sin_nulos_filas = df.dropna()\n",
        "#print(\"\\n### Eliminar Filas con Datos Nulos ###\")\n",
        "#print(df_sin_nulos_filas)\n",
        "\n",
        "# b) Eliminar columnas con datos nulos\n",
        "#df_sin_nulos_columnas = df.dropna(axis=1)\n",
        "#print(\"\\n### Eliminar Columnas con Datos Nulos ###\")\n",
        "#print(df_sin_nulos_columnas)\n",
        "\n",
        "# 3. Rellenar Datos Nulos\n",
        "# a) Rellenar con un valor específico\n",
        "df_rellenado_0 = df.fillna(0)\n",
        "print(\"\\n### Rellenar Datos Nulos con 0 ###\")\n",
        "print(df_rellenado_0)\n",
        "\n",
        "# b) Rellenar con la media de la columna\n",
        "#df_rellenado_media = df.copy()\n",
        "#df_rellenado_media['Matemáticas'] = df_rellenado_media['Matemáticas'].fillna(df_rellenado_media['Matemáticas'].mean())\n",
        "#df_rellenado_media['Historia'] = df_rellenado_media['Historia'].fillna(df_rellenado_media['Historia'].mean())\n",
        "#print(\"\\n### Rellenar Datos Nulos con la Media ###\")\n",
        "#print(df_rellenado_media)\n",
        "\n"
      ],
      "metadata": {
        "id": "iOW3riUrS1UA"
      },
      "execution_count": null,
      "outputs": []
    },
    {
      "cell_type": "markdown",
      "source": [
        "##**Leer un archivo y convertirlo a una estructura de Pandas para manipularlo**"
      ],
      "metadata": {
        "id": "5fQ2z0aqOsoh"
      }
    },
    {
      "cell_type": "code",
      "source": [
        "# Aquí leeremos el archivo que creamos al comienzo de la sesión de hoy\n",
        "df = pd.read_csv('estudiantes_notas.csv')\n",
        "df\n",
        "# Abrir un archivo en formato xlsx y convertirlo a DataFrame\n",
        "# Recuerden subir el archivo que quieren abrir haciendo clic en la carpeta que\n",
        "# está a la izquierda\n"
      ],
      "metadata": {
        "id": "xshY044gUWPB"
      },
      "execution_count": null,
      "outputs": []
    },
    {
      "cell_type": "markdown",
      "source": [
        "### **Desafío**"
      ],
      "metadata": {
        "id": "3th45s4bX4aU"
      }
    },
    {
      "cell_type": "markdown",
      "source": [
        "**Desafío**\n",
        "* Descargar el archivo estudiantes.csv y el notebook.\n",
        "* Abrir el entorno virtual creado la sesión anterior, en la ruta en que descargó los archivos.\n",
        "* Abrir jupyter notebook.\n",
        "* Cargar el notebook.\n",
        "* Llevar a cabo el taller práctico\n",
        "* Respaldar el cuaderno en GitHub.\n",
        "\n",
        "**Parte 1: Exploración Inicial**\n",
        "* Visualice el DataFrame completo.\n",
        "* Use df.head() para observar las primeras filas y df.tail() para las últimas filas.\n",
        "* Obtenga información general sobre los datos:\n",
        "** Número de filas y columnas.\n",
        "** Tipos de datos y si hay valores faltantes.\n",
        "** Calcule un resumen estadístico de las columnas numéricas.\n",
        "\n",
        "**Parte 2: Filtrado de Datos**\n",
        "* Seleccione los estudiantes mayores de 25 años.\n",
        "* Filtre los estudiantes que tengan más de 90 en Matemáticas.\n",
        "* Encuentre los estudiantes de la comuna \"Coronel\" que tengan un promedio de notas mayor a 85.\n",
        "\n",
        "**Parte 3: Agrupamiento y Agregación**\n",
        "* Promedio de notas por género:\n",
        "** Calcule el promedio de las notas en Matemáticas, Lenguaje y Ciencias agrupado por género.\n",
        "* Número de estudiantes por comuna:\n",
        "** Muestre cuántos estudiantes hay en cada comuna.\n",
        "* Máxima nota en cada asignatura por comuna:\n",
        "** Encuentre la nota más alta en Matemáticas, Lenguaje y Ciencias agrupada por comuna.\n",
        "\n",
        "**Parte 4: Creación de Nuevas Columnas**\n",
        "* Calcule el promedio de notas por estudiante:\n",
        "** Crear una nueva columna Promedio_Notas con el promedio de Matemáticas, Lenguaje y Ciencias.\n",
        "* Crear una columna Rango_Edad:\n",
        "** Clasifica a los estudiantes como \"Mayor de 25\" o \"Menor de 25\".\n",
        "* Filtrar a los estudiantes con un promedio de notas mayor a 90 y clasifícarlos por rango de edad.\n",
        "\n",
        "**Parte 5: Ordenamiento y Selección**\n",
        "* Ordena los datos:\n",
        "** Muestre el DataFrame ordenado por Promedio_Notas de forma descendente.\n",
        "* Seleccione columnas específicas:\n",
        "** Muestre únicamente las columnas Estudiante_ID, Edad y Promedio_Notas.\n",
        "\n",
        "**Parte 6: Identificación de Datos Faltantes o Anómalos**\n",
        "* Revise si hay valores nulos en el DataFrame:\n",
        "** Use isnull() para identificar columnas con valores faltantes.\n",
        "* Identificar estudiantes con notas extremas:\n",
        "** Encuentre estudiantes con notas menores a 10 en Matemáticas.\n",
        "\n",
        "**Parte 7: Tablas Pivot**\n",
        "* Crear una tabla pivot para analizar los datos:\n",
        "** Promedio de notas por comuna y género.\n",
        "\n",
        "**Parte 8: Exportación de Datos**\n",
        "* Guarde los datos procesados:\n",
        "** Exporte el DataFrame con las columnas adicionales (Promedio_Notas y Rango_Edad) en un archivo CSV.\n",
        "* Exporte un subconjunto filtrado:\n",
        "** Guarde en un archivo CSV los estudiantes con un promedio de notas mayor a 85."
      ],
      "metadata": {
        "id": "Nq1tBu4DX9UR"
      }
    }
  ]
}